{
  "cells": [
    {
      "cell_type": "markdown",
      "metadata": {},
      "source": [
        "## Text extraction from OCR scanned Handwritten Slave Trade Volumes\n",
        "Supervisor: Prof. Henry Lovejoy for the Digital Slavery Research Lab\n",
        "\n",
        "Author: Sushma Akoju (Sushma Anand Akoju)"
      ]
    },
    {
      "cell_type": "markdown",
      "metadata": {},
      "source": [
        "### Class A Document Analysis and Text Extractions from Slave Trade Volumnes\n",
        "### British Parliamentary Papers"
      ]
    },
    {
      "cell_type": "markdown",
      "metadata": {
        "id": "6nithQ5GOJsX"
      },
      "source": [
        "Install Gcloud, google python api for OAuth i.e Authentication tokens, Google Cloud and Google Cloud Document AI packages. \n",
        "\n",
        "- Remember you will have to Restart Colab session after this installation step."
      ]
    },
    {
      "cell_type": "code",
      "execution_count": null,
      "metadata": {
        "colab": {
          "base_uri": "https://localhost:8080/",
          "height": 1000
        },
        "id": "TamXzz-rXzg1",
        "outputId": "47863a09-46ec-4448-e0af-19cd425167f4"
      },
      "outputs": [],
      "source": [
        "!pip install gcloud\n",
        "!pip install google-api-python-client\n",
        "!pip install google-cloud\n",
        "!pip install google-cloud-documentai"
      ]
    },
    {
      "cell_type": "code",
      "execution_count": null,
      "metadata": {
        "id": "o2AHs5Kwqrob"
      },
      "outputs": [],
      "source": [
        "# NotebookApp.iopub_data_rate_limit=1000000.0 (bytes/sec)\n",
        "# NotebookApp.rate_limit_window=3.0 (secs)"
      ]
    },
    {
      "cell_type": "markdown",
      "metadata": {
        "id": "hQfy4TCoQ3ZQ"
      },
      "source": [
        "Create test Authentication method."
      ]
    },
    {
      "cell_type": "code",
      "execution_count": null,
      "metadata": {
        "id": "KR5uvxHHDJQx"
      },
      "outputs": [],
      "source": [
        "from google.cloud import documentai_v1beta3\n",
        "import pprint\n",
        "\n",
        "def sample_create_processor():\n",
        "    # Create a client\n",
        "    client = documentai_v1beta3.DocumentProcessorServiceClient()\n",
        "\n",
        "    # Initialize request argument(s)\n",
        "    request = documentai_v1beta3.CreateProcessorRequest(\n",
        "        parent=\"parent_value\",\n",
        "    )\n",
        "\n",
        "    # Make the request\n",
        "    response = client.create_processor(request=request)\n",
        "\n",
        "    # Handle the response\n",
        "    pprint.pprint(response)"
      ]
    },
    {
      "cell_type": "code",
      "execution_count": null,
      "metadata": {
        "id": "EjqOytEdE5Aj"
      },
      "outputs": [],
      "source": [
        "# sample_create_processor()"
      ]
    },
    {
      "cell_type": "code",
      "execution_count": null,
      "metadata": {
        "colab": {
          "base_uri": "https://localhost:8080/"
        },
        "id": "sZbVroQgGHHM",
        "outputId": "02fbf3fa-573a-4ab8-dbdf-62c4a1814535"
      },
      "outputs": [
        {
          "name": "stdout",
          "output_type": "stream",
          "text": [
            "Mounted at /content/drive\n"
          ]
        }
      ],
      "source": [
        "from google.colab import drive\n",
        "drive.mount('/content/drive')"
      ]
    },
    {
      "cell_type": "code",
      "execution_count": null,
      "metadata": {
        "colab": {
          "base_uri": "https://localhost:8080/"
        },
        "id": "zrcCKE2eGPpa",
        "outputId": "40101fbc-714d-4e2f-9f7e-04e5dad4ff44"
      },
      "outputs": [
        {
          "name": "stdout",
          "output_type": "stream",
          "text": [
            "/content/drive/MyDrive/Colab Notebooks/slave-trade-volumes/all\n",
            "'Slave Trade Volume 10'  'Slave Trade Volume 11'  'Slave Trade Volume 12'\n"
          ]
        }
      ],
      "source": [
        "%cd /content/drive/MyDrive/Colab\\ Notebooks/slave-trade-volumes/all/\n",
        "!ls"
      ]
    },
    {
      "cell_type": "code",
      "execution_count": null,
      "metadata": {
        "id": "mF5VP2y7NAOi"
      },
      "outputs": [],
      "source": [
        "import os\n",
        "path = '/content/drive/MyDrive/Colab Notebooks/slave-trade-volumes/all/'\n",
        "volumes_dict = {folder : os.path.join(path,folder) for folder in os.listdir(path) if \"Slave Trade Volume 12\" not in folder}\n",
        "\n",
        "volumes = [os.path.join(path,folder) for folder in os.listdir(path) if \"Slave Trade Volume 12\" not in folder]\n",
        "\n",
        "classa_docs = {volumes[1]: ['Class A. Correspondence with the British commissioners at Sierra Leone, the Havannah, Rio de Janeiro, and Surinam, relating to the slave trade. 1824-1825',\n",
        "               'Class A. Correspondence with the British commissioners at Sierra Leone, the Havannah, Rio de Janeiro, and Surinam, relating to the slave trade. 1825-1826'],\n",
        "               volumes[0]:['Class A. Correspondence with the British commissioners at Sierra Leone, the Havannah, Rio de Janeiro, and Surinam, relating to the slave trade. 1826-1827',\n",
        "               'Class A. Correspondence with the British commissioners at Sierra Leone, the Havannah, Rio de Janeiro, and Surinam, relating to the slave trade. 1827']}\n",
        "classb_docs = {volumes[1]: ['Class B. Correspondence with foreign powers, relating to the slave trade. 1824-1825',\n",
        "               'Class B. Correspondence with foreign powers, relating to the slave trade. 1825-1826'],\n",
        "               volumes[0]: ['Class B. Correspondence with foreign powers, relating to the slave trade. 1826-1827',\n",
        "               'Class B. Correspondence with foreign powers, relating to the slave trade. 1827']}\n",
        "\n",
        "classa_collections = { os.path.basename(volume) : {\n",
        "    doc: [os.path.join(volume,\"tenpages/classa\",coll) for coll in os.listdir(os.path.join(volume, \"tenpages/classa\")) if doc in coll]\n",
        "    for doc in classa_docs[volume]} for volume in volumes}\n",
        "\n",
        "classb_collections = { os.path.basename(volume) : {\n",
        "    doc : [os.path.join(volume,\"tenpages/classb\",coll) for coll in os.listdir(os.path.join(volume, \"tenpages/classb\")) if doc in coll]\n",
        "    for doc in classb_docs} for volume in volumes}\n",
        "tocs = { os.path.basename(volume) : [os.path.join(volume,\"tenpages/\",coll) for coll in os.listdir(os.path.join(volume, \"tenpages\")) if \"toc\" in coll] for volume in volumes}\n",
        "\n",
        "#classa_collections, classb_collections, tocs"
      ]
    },
    {
      "cell_type": "code",
      "execution_count": null,
      "metadata": {
        "id": "CqkMEDa7it8M"
      },
      "outputs": [],
      "source": [
        "partition_counters =  {}\n",
        "for vol, docs in classa_collections.items():\n",
        "  for doc_name, file_paths in docs.items():\n",
        "    partition_counters[doc_name] = 0\n",
        "    for file_path in file_paths:\n",
        "      if doc_name in file_path:\n",
        "        partition_counters[doc_name] += 1"
      ]
    },
    {
      "cell_type": "code",
      "execution_count": null,
      "metadata": {
        "colab": {
          "base_uri": "https://localhost:8080/"
        },
        "id": "aVXcQVjqlCWw",
        "outputId": "a8b205c1-8e8b-4550-b145-e05b760aa15f"
      },
      "outputs": [
        {
          "data": {
            "text/plain": [
              "{'Class A. Correspondence with the British commissioners at Sierra Leone, the Havannah, Rio de Janeiro, and Surinam, relating to the slave trade. 1824-1825': 19,\n",
              " 'Class A. Correspondence with the British commissioners at Sierra Leone, the Havannah, Rio de Janeiro, and Surinam, relating to the slave trade. 1825-1826': 10,\n",
              " 'Class A. Correspondence with the British commissioners at Sierra Leone, the Havannah, Rio de Janeiro, and Surinam, relating to the slave trade. 1826-1827': 18,\n",
              " 'Class A. Correspondence with the British commissioners at Sierra Leone, the Havannah, Rio de Janeiro, and Surinam, relating to the slave trade. 1827': 17}"
            ]
          },
          "execution_count": 6,
          "metadata": {},
          "output_type": "execute_result"
        }
      ],
      "source": [
        "partition_counters"
      ]
    },
    {
      "cell_type": "markdown",
      "metadata": {
        "id": "yVHAYVaeQ-wu"
      },
      "source": [
        "Ensure you configured your account with your API: [Setup Document AI](https://cloud.google.com/document-ai/docs/setup )\n",
        "\n",
        "Here we process each of 10-page partitions of each of Collection from each Slave Trade Volume."
      ]
    },
    {
      "cell_type": "code",
      "execution_count": null,
      "metadata": {
        "id": "tN2Wr7KEYm4o"
      },
      "outputs": [],
      "source": [
        "\n",
        "# TODO(developer): Uncomment these variables before running the sample.\n",
        "project_id= 'theorem-prover-4182022'\n",
        "location = 'us' # Format is 'us' or 'eu'\n",
        "processor_id = '38d99862def047aa' # Create processor in Cloud Console\n",
        "file_path = '/content/drive/MyDrive/Colab Notebooks/slave-trade-volumes/all/Slave Trade Volume 10/tenpages/Class A. Correspondence with the British commissioners at Sierra Leone, the Havannah, Rio de Janeiro, and Surinam, relating to the slave trade. 1824-1825.pdf'\n",
        "\n",
        "def process_document_sample(\n",
        "    project_id: str, location: str, processor_id: str, file_path: str, print_flag:bool\n",
        "):\n",
        "    from google.cloud import documentai_v1 as documentai\n",
        "    from google.oauth2 import service_account\n",
        "\n",
        "    client = documentai.DocumentProcessorServiceClient.from_service_account_json(\"/content/drive/MyDrive/Colab Notebooks/documentai/theorem-prover-4182022-62dfbc9d2f0f.json\")\n",
        "\n",
        "    # You must set the api_endpoint if you use a location other than 'us', e.g.:\n",
        "    opts = {}\n",
        "    if location == \"us\":\n",
        "        opts = {\"api_endpoint\": \"us-documentai.googleapis.com\",\n",
        "                \"credentials_file\":\"/content/drive/MyDrive/Colab Notebooks/documentai/theorem-prover-4182022-62dfbc9d2f0f.json\"}\n",
        "\n",
        "    client = documentai.DocumentProcessorServiceClient(client_options=opts)\n",
        "\n",
        "    # The full resource name of the processor, e.g.:\n",
        "    # projects/project-id/locations/location/processor/processor-id\n",
        "    # You must create new processors in the Cloud Console first\n",
        "    name = f\"projects/{project_id}/locations/{location}/processors/{processor_id}\"\n",
        "\n",
        "    with open(file_path, \"rb\") as image:\n",
        "        image_content = image.read()\n",
        "\n",
        "    # Read the file into memory\n",
        "    document = {\"content\": image_content, \"mime_type\": \"application/pdf\"}\n",
        "\n",
        "    # Configure the process request\n",
        "    request = {\"name\": name, \"raw_document\": document}\n",
        "\n",
        "    # Recognizes text entities in the PDF document\n",
        "    result = client.process_document(request=request)\n",
        "\n",
        "    document = result.document\n",
        "\n",
        "    print(\"Document processing complete.\")\n",
        "\n",
        "    # For a full list of Document object attributes, please reference this page: https://googleapis.dev/python/documentai/latest/_modules/google/cloud/documentai_v1beta3/types/document.html#Document\n",
        "\n",
        "    document_pages = document.pages\n",
        "\n",
        "    # Read the text recognition output from the processor\n",
        "    if print_flag:\n",
        "      print(\"The document contains the following paragraphs:\")\n",
        "      for page in document_pages:\n",
        "          paragraphs = page.paragraphs\n",
        "          for paragraph in paragraphs:\n",
        "              paragraph_text = get_text(paragraph.layout, document)\n",
        "              print(f\"Paragraph text: {paragraph_text}\")\n",
        "    return document\n",
        "\n",
        "\n",
        "# Extract shards from the text field\n",
        "def get_text(doc_element: dict, document: dict):\n",
        "    \"\"\"\n",
        "    Document AI identifies form fields by their offsets\n",
        "    in document text. This function converts offsets\n",
        "    to text snippets.\n",
        "    \"\"\"\n",
        "    response = \"\"\n",
        "    # If a text segment spans several lines, it will\n",
        "    # be stored in different text segments.\n",
        "    for segment in doc_element.text_anchor.text_segments:\n",
        "        start_index = (\n",
        "            int(segment.start_index)\n",
        "            if segment in doc_element.text_anchor.text_segments\n",
        "            else 0\n",
        "        )\n",
        "        end_index = int(segment.end_index)\n",
        "        response += document.text[start_index:end_index]\n",
        "    return response\n"
      ]
    },
    {
      "cell_type": "markdown",
      "metadata": {
        "id": "opWhnME2S8xK"
      },
      "source": [
        "Some of Helper methods from Google Document AI to exmaine the the Output & options."
      ]
    },
    {
      "cell_type": "code",
      "execution_count": null,
      "metadata": {
        "id": "BxYroWiQWquk"
      },
      "outputs": [],
      "source": [
        "\n",
        "def print_page_dimensions(dimension: dict) -> None:\n",
        "    print(f\"    Width: {str(dimension.width)}\")\n",
        "    print(f\"    Height: {str(dimension.height)}\")\n",
        "\n",
        "\n",
        "def print_detected_langauges(detected_languages: dict) -> None:\n",
        "    print(\"    Detected languages:\")\n",
        "    for lang in detected_languages:\n",
        "        code = lang.language_code\n",
        "        conf_percent = \"{:.1%}\".format(lang.confidence)\n",
        "        print(f\"        {code} ({conf_percent} confidence)\")\n",
        "\n",
        "\n",
        "def print_paragraphs(paragraphs: dict, text: str) -> None:\n",
        "    print(f\"    {len(paragraphs)} paragraphs detected:\")\n",
        "    first_paragraph_text = layout_to_text(paragraphs[0].layout, text)\n",
        "    print(f\"        First paragraph text: {repr(first_paragraph_text)}\")\n",
        "    last_paragraph_text = layout_to_text(paragraphs[-1].layout, text)\n",
        "    print(f\"        Last paragraph text: {repr(last_paragraph_text)}\")\n",
        "\n",
        "\n",
        "def print_blocks(blocks: dict, text: str) -> None:\n",
        "    print(f\"    {len(blocks)} blocks detected:\")\n",
        "    first_block_text = layout_to_text(blocks[0].layout, text)\n",
        "    print(f\"        First text block: {repr(first_block_text)}\")\n",
        "    last_block_text = layout_to_text(blocks[-1].layout, text)\n",
        "    print(f\"        Last text block: {repr(last_block_text)}\")\n",
        "\n",
        "\n",
        "def print_lines(lines: dict, text: str) -> None:\n",
        "    print(f\"    {len(lines)} lines detected:\")\n",
        "    first_line_text = layout_to_text(lines[0].layout, text)\n",
        "    print(f\"        First line text: {repr(first_line_text)}\")\n",
        "    last_line_text = layout_to_text(lines[-1].layout, text)\n",
        "    print(f\"        Last line text: {repr(last_line_text)}\")\n",
        "\n",
        "\n",
        "def print_tokens(tokens: dict, text: str) -> None:\n",
        "    print(f\"    {len(tokens)} tokens detected:\")\n",
        "    first_token_text = layout_to_text(tokens[0].layout, text)\n",
        "    first_token_break_type = tokens[0].detected_break.type_.name\n",
        "    print(f\"        First token text: {repr(first_token_text)}\")\n",
        "    print(f\"        First token break type: {repr(first_token_break_type)}\")\n",
        "    last_token_text = layout_to_text(tokens[-1].layout, text)\n",
        "    last_token_break_type = tokens[-1].detected_break.type_.name\n",
        "    print(f\"        Last token text: {repr(last_token_text)}\")\n",
        "    print(f\"        Last token break type: {repr(last_token_break_type)}\")\n",
        "\n",
        "\n",
        "def layout_to_text(layout: dict, text: str) -> str:\n",
        "    \"\"\"\n",
        "    Document AI identifies text in different parts of the document by their\n",
        "    offsets in the entirity of the document's text. This function converts\n",
        "    offsets to a string.\n",
        "    \"\"\"\n",
        "    response = \"\"\n",
        "    # If a text segment spans several lines, it will\n",
        "    # be stored in different text segments.\n",
        "    for segment in layout.text_anchor.text_segments:\n",
        "        start_index = (\n",
        "            int(segment.start_index)\n",
        "            if segment in layout.text_anchor.text_segments\n",
        "            else 0\n",
        "        )\n",
        "        end_index = int(segment.end_index)\n",
        "        response += text[start_index:end_index]\n",
        "    return response\n"
      ]
    },
    {
      "cell_type": "markdown",
      "metadata": {
        "id": "nHYidMXMTDBE"
      },
      "source": [
        "### List of Papers:\n",
        "We save JSON responses, blocks and paragraphs into seperate dictionaries."
      ]
    },
    {
      "cell_type": "code",
      "execution_count": null,
      "metadata": {
        "colab": {
          "base_uri": "https://localhost:8080/"
        },
        "id": "x8eunsD0b5JI",
        "outputId": "04ff0cf8-00f6-4466-9167-883864916a21"
      },
      "outputs": [
        {
          "name": "stdout",
          "output_type": "stream",
          "text": [
            "This Document Parsing is for /content/drive/MyDrive/Colab Notebooks/slave-trade-volumes/all/Slave Trade Volume 10/tenpages/class-a-tocs.pdf\n",
            "Document processing complete.\n",
            "The document contains the following paragraphs:\n",
            "There are 8 page(s) in this document.\n",
            "\n",
            "Page 1:\n",
            "    Width: 1758.0\n",
            "    Height: 2275.0\n",
            "Page 2:\n",
            "    Width: 1758.0\n",
            "    Height: 2275.0\n",
            "Page 3:\n",
            "    Width: 1758.0\n",
            "    Height: 2275.0\n",
            "Page 4:\n",
            "    Width: 1758.0\n",
            "    Height: 2275.0\n",
            "Page 5:\n",
            "    Width: 1758.0\n",
            "    Height: 2275.0\n",
            "Page 6:\n",
            "    Width: 1758.0\n",
            "    Height: 2275.0\n",
            "Page 7:\n",
            "    Width: 1758.0\n",
            "    Height: 2275.0\n",
            "Page 8:\n",
            "    Width: 1758.0\n",
            "    Height: 2275.0\n",
            "This Document Parsing is for /content/drive/MyDrive/Colab Notebooks/slave-trade-volumes/all/Slave Trade Volume 10/tenpages/class-b-tocs.pdf\n",
            "Document processing complete.\n",
            "The document contains the following paragraphs:\n",
            "There are 9 page(s) in this document.\n",
            "\n",
            "Page 1:\n",
            "    Width: 1758.0\n",
            "    Height: 2275.0\n",
            "Page 2:\n",
            "    Width: 1758.0\n",
            "    Height: 2275.0\n",
            "Page 3:\n",
            "    Width: 1758.0\n",
            "    Height: 2275.0\n",
            "Page 4:\n",
            "    Width: 1758.0\n",
            "    Height: 2275.0\n",
            "Page 5:\n",
            "    Width: 1758.0\n",
            "    Height: 2275.0\n",
            "Page 6:\n",
            "    Width: 1758.0\n",
            "    Height: 2275.0\n",
            "Page 7:\n",
            "    Width: 1758.0\n",
            "    Height: 2275.0\n",
            "Page 8:\n",
            "    Width: 1758.0\n",
            "    Height: 2275.0\n",
            "Page 9:\n",
            "    Width: 1758.0\n",
            "    Height: 2275.0\n",
            "This Document Parsing is for /content/drive/MyDrive/Colab Notebooks/slave-trade-volumes/all/Slave Trade Volume 11/tenpages/class-a-tocs.pdf\n",
            "Document processing complete.\n",
            "The document contains the following paragraphs:\n",
            "There are 8 page(s) in this document.\n",
            "\n",
            "Page 1:\n",
            "    Width: 1758.0\n",
            "    Height: 2275.0\n",
            "Page 2:\n",
            "    Width: 1758.0\n",
            "    Height: 2275.0\n",
            "Page 3:\n",
            "    Width: 1758.0\n",
            "    Height: 2275.0\n",
            "Page 4:\n",
            "    Width: 1758.0\n",
            "    Height: 2275.0\n",
            "Page 5:\n",
            "    Width: 1758.0\n",
            "    Height: 2275.0\n",
            "Page 6:\n",
            "    Width: 1758.0\n",
            "    Height: 2275.0\n",
            "Page 7:\n",
            "    Width: 1758.0\n",
            "    Height: 2275.0\n",
            "Page 8:\n",
            "    Width: 1758.0\n",
            "    Height: 2275.0\n",
            "This Document Parsing is for /content/drive/MyDrive/Colab Notebooks/slave-trade-volumes/all/Slave Trade Volume 11/tenpages/class-b-tocs.pdf\n",
            "Document processing complete.\n",
            "The document contains the following paragraphs:\n",
            "There are 8 page(s) in this document.\n",
            "\n",
            "Page 1:\n",
            "    Width: 1758.0\n",
            "    Height: 2275.0\n",
            "Page 2:\n",
            "    Width: 1758.0\n",
            "    Height: 2275.0\n",
            "Page 3:\n",
            "    Width: 1758.0\n",
            "    Height: 2275.0\n",
            "Page 4:\n",
            "    Width: 1758.0\n",
            "    Height: 2275.0\n",
            "Page 5:\n",
            "    Width: 1758.0\n",
            "    Height: 2275.0\n",
            "Page 6:\n",
            "    Width: 1758.0\n",
            "    Height: 2275.0\n",
            "Page 7:\n",
            "    Width: 1758.0\n",
            "    Height: 2275.0\n",
            "Page 8:\n",
            "    Width: 1758.0\n",
            "    Height: 2275.0\n"
          ]
        }
      ],
      "source": [
        "file_name = os.path.basename(tocs['Slave Trade Volume 10'][1])\n",
        "class_a = tocs['Slave Trade Volume 10'][1]\n",
        "file_paths = ['/content/drive/MyDrive/Colab Notebooks/slave-trade-volumes/all/Slave Trade Volume 10/tenpages/class-a-tocs.pdf',\n",
        "              '/content/drive/MyDrive/Colab Notebooks/slave-trade-volumes/all/Slave Trade Volume 10/tenpages/class-b-tocs.pdf',\n",
        "              '/content/drive/MyDrive/Colab Notebooks/slave-trade-volumes/all/Slave Trade Volume 11/tenpages/class-a-tocs.pdf',\n",
        "              '/content/drive/MyDrive/Colab Notebooks/slave-trade-volumes/all/Slave Trade Volume 11/tenpages/class-b-tocs.pdf']\n",
        "\n",
        "text_volumes = {'Slave Trade Volume 10':{\"class_a\":[], \"class_b\":[]}, 'Slave Trade Volume 11':{\"class_a\":[], \"class_b\":[]}}\n",
        "text_blocks = {'Slave Trade Volume 10':{\"class_a\":[], \"class_b\":[]}, 'Slave Trade Volume 11':{\"class_a\":[], \"class_b\":[]}}\n",
        "\n",
        "raw_responses = {'Slave Trade Volume 10':{\"class_a\":[], \"class_b\":[]}, 'Slave Trade Volume 11':{\"class_a\":[], \"class_b\":[]}}\n",
        "\n",
        "for file_path in file_paths:\n",
        "  if \"Slave Trade Volume 10\" in file_path:\n",
        "    vol = \"Slave Trade Volume 10\"\n",
        "  else:\n",
        "    vol = \"Slave Trade Volume 11\"\n",
        "  ten_pages = {}\n",
        "  text_page_blocks = {}\n",
        "  print(\"This Document Parsing is for %s\" %(file_path))\n",
        "  res = process_document_sample(project_id, location, processor_id, file_path, False)\n",
        "  #print(res)\n",
        "  with open(file_path, \"rb\") as image:\n",
        "      image_content = image.read()\n",
        "\n",
        "  # Read the file into memory\n",
        "  doc = {\"content\": image_content, \"mime_type\": \"application/pdf\"}\n",
        "  print(\"The document contains the following paragraphs:\")\n",
        "  document = res\n",
        "  text = res.text\n",
        "  #print(f\"Full document text: {repr(text)}\\n\")\n",
        "  print(f\"There are {len(res.pages)} page(s) in this document.\\n\")\n",
        "  this_coll = \"class_a\" if \"class-a\" in file_path else \"class_b\"\n",
        "  raw_responses[vol][this_coll] = res\n",
        "\n",
        "  for page in document.pages:\n",
        "      print(f\"Page {page.page_number}:\")\n",
        "      print_page_dimensions(page.dimension)\n",
        "\n",
        "      counter = 0\n",
        "      text_page_blocks[page.page_number] = []\n",
        "      ten_pages[page.page_number] = []\n",
        "\n",
        "      for block in page.blocks:\n",
        "\n",
        "        counter += 1\n",
        "        text_page_blocks[page.page_number].append({\"block_number\":counter, \"text\":layout_to_text(block.layout, text)})\n",
        "\n",
        "      # print_detected_langauges(page.detected_languages)\n",
        "      # print_paragraphs(page.paragraphs, text)\n",
        "      # print_blocks(page.blocks, text)\n",
        "      # print_lines(page.lines, text)\n",
        "      # print_tokens(page.tokens, text)\n",
        "      paragraphs = page.paragraphs\n",
        "      para_counter = 0\n",
        "      for paragraph in paragraphs:\n",
        "          response = \"\"\n",
        "          para_counter += 1\n",
        "          # If a text segment spans several lines, it will\n",
        "          # be stored in different text segments.\n",
        "          for segment in paragraph.layout.text_anchor.text_segments:\n",
        "              start_index = (\n",
        "                  int(segment.start_index)\n",
        "                  if segment in paragraph.layout.text_anchor.text_segments\n",
        "                  else 0\n",
        "              )\n",
        "              end_index = int(segment.end_index)\n",
        "              response += document.text[start_index:end_index]        #print(f\"Paragraph text: {paragraph_text}\")\n",
        "          ten_pages[page.page_number].append({\"paragraph_num\":para_counter, \"paragraph\" : response})\n",
        "  text_volumes[vol][this_coll].append(ten_pages)\n",
        "  text_blocks[vol][this_coll].append(text_page_blocks)"
      ]
    },
    {
      "cell_type": "markdown",
      "metadata": {
        "id": "YmnbRGnUUyZa"
      },
      "source": [
        "check the AI results for List of Papers"
      ]
    },
    {
      "cell_type": "code",
      "execution_count": null,
      "metadata": {
        "colab": {
          "base_uri": "https://localhost:8080/"
        },
        "id": "bV7cJpYRfQQO",
        "outputId": "9abb0d92-1578-4bd4-8b17-e9319683ae7a"
      },
      "outputs": [],
      "source": [
        "text_blocks['Slave Trade Volume 10']['class_a']"
      ]
    },
    {
      "cell_type": "code",
      "execution_count": null,
      "metadata": {
        "colab": {
          "base_uri": "https://localhost:8080/"
        },
        "id": "zHO2S0-eoErP",
        "outputId": "d2e0a220-a7a1-470f-9afb-97430b4ab60e"
      },
      "outputs": [],
      "source": [
        "text_volumes['Slave Trade Volume 10']['class_a']"
      ]
    },
    {
      "cell_type": "markdown",
      "metadata": {
        "id": "NJAeataLTOfp"
      },
      "source": [
        "Save JSON responses"
      ]
    },
    {
      "cell_type": "code",
      "execution_count": null,
      "metadata": {
        "id": "59iv4vF5KRLt"
      },
      "outputs": [],
      "source": [
        "import json, codecs\n",
        "import google.cloud\n",
        "\n",
        "classes = ['class_a', 'class_b']\n",
        "vols = ['Slave Trade Volume 10', 'Slave Trade Volume 11']\n",
        "path = '/content/drive/MyDrive/Colab Notebooks/slave-trade-volumes/all/Slave Trade Volume 10/tenpages'\n",
        "for vol in vols:\n",
        "  for cl in classes:\n",
        "    with open(os.path.join(path, vol+\"_\"+cl+\"_json.json\"), 'w') as f:\n",
        "      this_json_text = google.cloud.documentai_v1.Document.to_json(raw_responses[vol][cl])\n",
        "      f.write(this_json_text)"
      ]
    },
    {
      "cell_type": "code",
      "execution_count": null,
      "metadata": {
        "colab": {
          "base_uri": "https://localhost:8080/"
        },
        "id": "wA_epTPrAaA5",
        "outputId": "d2e25511-4e44-488b-b068-096508c11f89"
      },
      "outputs": [
        {
          "data": {
            "text/plain": [
              "('Class A. Correspondence with the British commissioners at Sierra Leone, the Havannah, Rio de Janeiro, and Surinam, relating to the slave trade. 1824-1825',\n",
              " 'Part2')"
            ]
          },
          "execution_count": 13,
          "metadata": {},
          "output_type": "execute_result"
        }
      ],
      "source": [
        "l = list(classa_docs.values())[0]\n",
        "l[0], os.path.basename(classa_collections['Slave Trade Volume 10'][l[0]][0])[0:6].strip('_')"
      ]
    },
    {
      "cell_type": "code",
      "execution_count": null,
      "metadata": {
        "colab": {
          "base_uri": "https://localhost:8080/",
          "height": 53
        },
        "id": "J3lD6mdgRmro",
        "outputId": "40ae13ba-faf3-49c7-cee9-2fe40112218b"
      },
      "outputs": [
        {
          "data": {
            "application/vnd.google.colaboratory.intrinsic+json": {
              "type": "string"
            },
            "text/plain": [
              "'Class A. Correspondence with the British commissioners at Sierra Leone, the Havannah, Rio de Janeiro, and Surinam, relating to the slave trade. 1824-1825'"
            ]
          },
          "execution_count": 14,
          "metadata": {},
          "output_type": "execute_result"
        }
      ],
      "source": [
        "os.path.basename(classa_collections['Slave Trade Volume 10'][l[0]][0])[6:-4]"
      ]
    },
    {
      "cell_type": "code",
      "execution_count": null,
      "metadata": {
        "colab": {
          "base_uri": "https://localhost:8080/"
        },
        "id": "HXbyhD6TmCBj",
        "outputId": "06e3b01e-5d66-45fc-a8de-1105631f7da4"
      },
      "outputs": [
        {
          "data": {
            "text/plain": [
              "str"
            ]
          },
          "execution_count": 15,
          "metadata": {},
          "output_type": "execute_result"
        }
      ],
      "source": [
        "type(this_json_text)"
      ]
    },
    {
      "cell_type": "markdown",
      "metadata": {
        "id": "19AdyG8UTRgK"
      },
      "source": [
        "Save Paragraphs responses to dictionary"
      ]
    },
    {
      "cell_type": "code",
      "execution_count": null,
      "metadata": {
        "colab": {
          "base_uri": "https://localhost:8080/"
        },
        "id": "haE_WO_MWbqv",
        "outputId": "4f59931a-717b-404c-9820-0595504ab1df"
      },
      "outputs": [],
      "source": [
        "\n",
        "doc_text_volumes = {'Slave Trade Volume 10':{\"class_a\":{}, \"class_b\":{}}, 'Slave Trade Volume 11':{\"class_a\":{}, \"class_b\":{}}}\n",
        "doc_text_blocks = {'Slave Trade Volume 10':{\"class_a\": {}, \"class_b\":{}}, 'Slave Trade Volume 11':{\"class_a\":{}, \"class_b\":{}}}\n",
        "\n",
        "doc_raw_responses = {'Slave Trade Volume 10':{\"class_a\":{}, \"class_b\":{}}, 'Slave Trade Volume 11':{\"class_a\":{}, \"class_b\":{}}}\n",
        "\n",
        "this_coll = \"class_a\"\n",
        "\n",
        "for vol, docs in classa_collections.items():\n",
        "\n",
        "  for doc_name, file_paths in docs.items():\n",
        "      doc_raw_responses[vol][this_coll][doc_name] = []\n",
        "      doc_text_volumes[vol][this_coll][doc_name] = []\n",
        "      doc_text_blocks[vol][this_coll][doc_name] = []\n",
        "\n",
        "      for file_path in file_paths:\n",
        "          partition = os.path.basename(file_path)[0:6].strip('_')\n",
        "          print(\"Part %s for Collection name is %s\"%(partition, doc_name ))\n",
        "\n",
        "          ten_pages = {}\n",
        "          text_page_blocks = {}\n",
        "          print(\"This Document Parsing is for %s\" %(file_path))\n",
        "          res = process_document_sample(project_id, location, processor_id, file_path, False)\n",
        "          #print(res)\n",
        "          with open(file_path, \"rb\") as image:\n",
        "              image_content = image.read()\n",
        "\n",
        "          # Read the file into memory\n",
        "          doc = {\"content\": image_content, \"mime_type\": \"application/pdf\"}\n",
        "          print(\"The document contains the following paragraphs:\")\n",
        "          document = res\n",
        "          text = res.text\n",
        "          #print(f\"Full document text: {repr(text)}\\n\")\n",
        "          print(f\"There are {len(res.pages)} page(s) in this document.\\n\")\n",
        "\n",
        "          doc_raw_responses[vol][this_coll][doc_name].append({partition:google.cloud.documentai_v1.Document.to_json(res)})\n",
        "\n",
        "          for page in document.pages:\n",
        "              print(f\"Page {page.page_number}:\")\n",
        "              print_page_dimensions(page.dimension)\n",
        "\n",
        "              counter = 0\n",
        "              text_page_blocks[page.page_number] = []\n",
        "              ten_pages[page.page_number] = []\n",
        "\n",
        "              for block in page.blocks:\n",
        "\n",
        "                counter += 1\n",
        "                text_page_blocks[page.page_number].append({\"block_number\":counter, \"text\":layout_to_text(block.layout, text)})\n",
        "              paragraphs = page.paragraphs\n",
        "              para_counter = 0\n",
        "              for paragraph in paragraphs:\n",
        "                  response = \"\"\n",
        "                  para_counter += 1\n",
        "                  # If a text segment spans several lines, it will\n",
        "                  # be stored in different text segments.\n",
        "                  for segment in paragraph.layout.text_anchor.text_segments:\n",
        "                      start_index = (\n",
        "                          int(segment.start_index)\n",
        "                          if segment in paragraph.layout.text_anchor.text_segments\n",
        "                          else 0\n",
        "                      )\n",
        "                      end_index = int(segment.end_index)\n",
        "                      response += document.text[start_index:end_index]\n",
        "                  ten_pages[page.page_number].append({\"paragraph_num\":para_counter, \"paragraph\" : response})\n",
        "          doc_text_volumes[vol][this_coll][doc_name].append({partition:ten_pages})\n",
        "          doc_text_blocks[vol][this_coll][doc_name].append({partition:text_page_blocks})\n"
      ]
    },
    {
      "cell_type": "code",
      "execution_count": null,
      "metadata": {
        "id": "Kec0Wqpep33c"
      },
      "outputs": [],
      "source": [
        "import csv\n",
        "\n",
        "def save_csv(this_dict : dict, file_name:str, volume:str, path:str, csv_columns:list):\n",
        "\n",
        "  assert file_name, \"%s Filename is empty!\" %(file_name)\n",
        "  print(path, volume)\n",
        "  directory = os.path.join(path, volume)\n",
        "  # if not os.path.isdir(directory):\n",
        "  #   os.mkdir(directory)\n",
        "  print(volume, file_name)\n",
        "  file_path = os.path.join(path, file_name)\n",
        "  try:\n",
        "      with open(file_path, 'w') as csvfile:\n",
        "          writer = csv.DictWriter(csvfile, fieldnames=csv_columns)\n",
        "          writer.writeheader()\n",
        "          for data in this_dict:\n",
        "              writer.writerow(data)\n",
        "  except IOError:\n",
        "      print(\"I/O error\")\n",
        "      return False\n",
        "  return True"
      ]
    },
    {
      "cell_type": "markdown",
      "metadata": {
        "id": "sE-N32r5TcYB"
      },
      "source": [
        "Save List of Papers Blocks & Paragraphs into CSV files"
      ]
    },
    {
      "cell_type": "code",
      "execution_count": null,
      "metadata": {
        "colab": {
          "base_uri": "https://localhost:8080/"
        },
        "id": "tsn63PlBnUmV",
        "outputId": "6149378d-4afd-4c03-c508-fb015cadf981"
      },
      "outputs": [],
      "source": [
        "import pandas as pd\n",
        "for vol, this_coll_dict in text_volumes.items():\n",
        "  for coll, pages in this_coll_dict.items():\n",
        "    this_file = \"\"\n",
        "    print(\"pages\",len(pages[0]))\n",
        "    if vol in list(tocs.keys()):\n",
        "      toc_coll = tocs[vol]\n",
        "    for c in toc_coll:\n",
        "      if coll.replace('_', '-') in c:\n",
        "        this_file = c\n",
        "    print(this_file)\n",
        "    print(len(list(pages[0].values())))\n",
        "    this_pages = {}\n",
        "    for page, p_list in pages[0].items():\n",
        "      print(p_list[:2])\n",
        "      save_csv(p_list, os.path.basename(this_file)[:-4]+\"_\"+str(page)+\".csv\", \"apiresults-19\", os.path.dirname(this_file), ['paragraph_num', 'paragraph'])"
      ]
    },
    {
      "cell_type": "code",
      "execution_count": null,
      "metadata": {
        "colab": {
          "base_uri": "https://localhost:8080/"
        },
        "id": "zUiLjHcawnHg",
        "outputId": "295a6492-adae-45e1-b466-f65fae89a016"
      },
      "outputs": [],
      "source": [
        "import pandas as pd\n",
        "for vol, this_coll_dict in text_blocks.items():\n",
        "  for coll, pages in this_coll_dict.items():\n",
        "    this_file = \"\"\n",
        "    print(\"pages\",len(pages[0]))\n",
        "    if vol in list(tocs.keys()):\n",
        "      toc_coll = tocs[vol]\n",
        "    for c in toc_coll:\n",
        "      if coll.replace('_', '-') in c:\n",
        "        this_file = c\n",
        "    #print(vol, coll)\n",
        "    print(this_file)\n",
        "    print(len(list(pages[0].values())))\n",
        "    this_pages = {}\n",
        "    for page, p_list in pages[0].items():\n",
        "      print(len(p_list))\n",
        "      this_pages[page] = []\n",
        "      this_pages[page].append(p_list)\n",
        "      print(p_list[:2])\n",
        "      save_csv(p_list, os.path.basename(this_file)[:-4]+\"_\"+str(page)+\"_blocks.csv\", \"apiresults-19\", os.path.dirname(this_file),\n",
        "               ['block_number', 'text'])\n",
        "    # for page_num, paragraphs in pages[0].items():\n",
        "    #   for paragraph in paragraphs:\n",
        "    #     print(paragraph)"
      ]
    },
    {
      "cell_type": "code",
      "execution_count": null,
      "metadata": {
        "colab": {
          "base_uri": "https://localhost:8080/"
        },
        "id": "lvMMqtF9rFE-",
        "outputId": "5c750452-cd03-4247-f9c2-2c39b2c18dfa"
      },
      "outputs": [
        {
          "data": {
            "text/plain": [
              "{'Slave Trade Volume 10': ['/content/drive/MyDrive/Colab Notebooks/slave-trade-volumes/all/Slave Trade Volume 10/tenpages/class-a-tocs.pdf',\n",
              "  '/content/drive/MyDrive/Colab Notebooks/slave-trade-volumes/all/Slave Trade Volume 10/tenpages/class-b-tocs.pdf'],\n",
              " 'Slave Trade Volume 11': ['/content/drive/MyDrive/Colab Notebooks/slave-trade-volumes/all/Slave Trade Volume 11/tenpages/class-a-tocs.pdf',\n",
              "  '/content/drive/MyDrive/Colab Notebooks/slave-trade-volumes/all/Slave Trade Volume 11/tenpages/class-b-tocs.pdf']}"
            ]
          },
          "execution_count": 25,
          "metadata": {},
          "output_type": "execute_result"
        }
      ],
      "source": [
        "tocs"
      ]
    },
    {
      "cell_type": "markdown",
      "metadata": {
        "id": "8nBhvfAsTnSD"
      },
      "source": [
        "Save Document text JSON into JSON files"
      ]
    },
    {
      "cell_type": "code",
      "execution_count": null,
      "metadata": {
        "colab": {
          "base_uri": "https://localhost:8080/"
        },
        "id": "SOtzBpS3yiy-",
        "outputId": "adcd8a78-987a-4d4b-dd13-38bf70bcb384"
      },
      "outputs": [],
      "source": [
        "path = ''\n",
        "vols = ['Slave Trade Volume 10', 'Slave Trade Volume 11']\n",
        "\n",
        "for vol in doc_raw_responses.keys():\n",
        "  for cl in doc_raw_responses[vol].keys():\n",
        "    for doc, partitions_json_texts in doc_raw_responses[vol][cl].items():\n",
        "      path = volumes_dict[vol]\n",
        "      print(vol, path, doc)\n",
        "      directory = os.path.join(path, 'tenpages', 'apiresults-19', 'documents', doc)\n",
        "      if not os.path.isdir(directory):\n",
        "        os.mkdir(directory)\n",
        "      print(len(partitions_json_texts))\n",
        "      for part_json_text_dict in partitions_json_texts:\n",
        "        print(next(iter(part_json_text_dict.keys())))\n",
        "        part_num, this_json_text = next(iter(part_json_text_dict.items()))\n",
        "        with open(os.path.join(directory, part_num+\"_\"+doc+\".json\"), 'w') as f:\n",
        "          f.write(this_json_text)\n",
        "          print(part_num)"
      ]
    },
    {
      "cell_type": "code",
      "execution_count": null,
      "metadata": {
        "colab": {
          "base_uri": "https://localhost:8080/"
        },
        "id": "iyNxsSRUFK-U",
        "outputId": "d44b0867-5395-4031-c019-25d4edb9a065"
      },
      "outputs": [
        {
          "name": "stdout",
          "output_type": "stream",
          "text": [
            "Slave Trade Volume 10 /content/drive/MyDrive/Colab Notebooks/slave-trade-volumes/all/Slave Trade Volume 10\n",
            "True\n",
            "Slave Trade Volume 10 /content/drive/MyDrive/Colab Notebooks/slave-trade-volumes/all/Slave Trade Volume 10\n",
            "True\n",
            "Slave Trade Volume 11 /content/drive/MyDrive/Colab Notebooks/slave-trade-volumes/all/Slave Trade Volume 11\n",
            "True\n",
            "Slave Trade Volume 11 /content/drive/MyDrive/Colab Notebooks/slave-trade-volumes/all/Slave Trade Volume 11\n",
            "True\n"
          ]
        }
      ],
      "source": [
        "for vol in doc_raw_responses.keys():\n",
        "  for cl in doc_raw_responses[vol].keys():\n",
        "    for doc, partitions_json_texts in doc_raw_responses[vol][cl].items():\n",
        "      path = volumes_dict[vol]\n",
        "      print(vol, path)\n",
        "      directory = os.path.join(path, 'tenpages', 'apiresults-19', 'documents', doc, 'response_json')\n",
        "      print(len(partitions_json_texts) == len(os.listdir(directory)))"
      ]
    },
    {
      "cell_type": "markdown",
      "metadata": {
        "id": "djqta6r_Tt4z"
      },
      "source": [
        "Save paragraphs into CSV files"
      ]
    },
    {
      "cell_type": "code",
      "execution_count": null,
      "metadata": {
        "colab": {
          "base_uri": "https://localhost:8080/"
        },
        "id": "E1juiZ2yGAqx",
        "outputId": "a7de965b-f516-4789-c3d8-b5943a9dca4d"
      },
      "outputs": [],
      "source": [
        "csv_columns = ['page', 'paragraph', 'para_num']\n",
        "\n",
        "for vol, this_coll_dict in doc_text_volumes.items():\n",
        "  for coll in this_coll_dict.keys():\n",
        "      for doc, partitions in doc_text_volumes[vol][coll].items():\n",
        "        this_file = \"\"\n",
        "        true_pg_num = 1\n",
        "        all_partitions = []\n",
        "        print(\"partitions\",len(partitions))\n",
        "        count_p = len(partitions)\n",
        "\n",
        "        path = os.path.join(volumes_dict[vol], 'tenpages', 'apiresults-19', 'documents', doc)\n",
        "        this_file = os.path.join(path, 'paragraphs')\n",
        "        #print(this_file)\n",
        "\n",
        "        for partition in partitions:\n",
        "          this_partition = []\n",
        "          part_num, pages = next(iter(partition.items()))\n",
        "          #print(pages.keys(), pages[1])\n",
        "          for page_num, page in pages.items():\n",
        "            print(page_num)\n",
        "\n",
        "            for para in page:\n",
        "              this_partition.append({\"page\": page_num, \"para_num\":para['paragraph_num'], \"paragraph\":para['paragraph']})\n",
        "              all_partitions.append({\"page\": true_pg_num, \"para_num\":para['paragraph_num'], \"paragraph\":para['paragraph']})\n",
        "            true_pg_num += 1\n",
        "          #print(os.path.dirname(this_file))\n",
        "            #print(page_num)\n",
        "          print(\"length of dict\",len(this_partition))\n",
        "          save_csv(this_partition, str(part_num)+\"_\"+doc+\".csv\", \"apiresults-19\", this_file, csv_columns)\n",
        "        print(page_num, true_pg_num)\n",
        "        save_csv(all_partitions, doc+\".csv\", \"apiresults-19\", os.path.dirname(this_file), csv_columns)\n",
        "\n",
        "          ##print(json.dumps(partition))\n",
        "          #pages = list(partitions[0].values())[0].keys()\n",
        "        #print(list(partitions[0].values())[0][1][0].keys())"
      ]
    },
    {
      "cell_type": "markdown",
      "metadata": {
        "id": "Wn-W_wSHT-xw"
      },
      "source": [
        "Save Blocks into CSV files"
      ]
    },
    {
      "cell_type": "code",
      "execution_count": null,
      "metadata": {
        "colab": {
          "base_uri": "https://localhost:8080/"
        },
        "id": "g52L91pETjDC",
        "outputId": "334bfc61-4776-4dbf-cc46-ec44cdf559f0"
      },
      "outputs": [],
      "source": [
        "csv_columns = ['page', 'block_num', 'block']\n",
        "for vol, this_coll_dict in doc_text_blocks.items():\n",
        "  for coll in this_coll_dict.keys():\n",
        "      for doc, partitions in doc_text_blocks[vol][coll].items():\n",
        "        this_file = \"\"\n",
        "        print(\"partitions\",len(partitions))\n",
        "        true_pg_num = 1\n",
        "        all_partitions = []\n",
        "\n",
        "        path = os.path.join(volumes_dict[vol], 'tenpages', 'apiresults-19', 'documents', doc)\n",
        "        this_file = os.path.join(path, 'blocks')\n",
        "        print(this_file)\n",
        "\n",
        "        for partition in partitions:\n",
        "          this_partition = []\n",
        "          part_num, pages = next(iter(partition.items()))\n",
        "          for page_num, blocks in pages.items():\n",
        "            print(len(blocks))\n",
        "\n",
        "            for block in blocks:\n",
        "              print(block['block_number'])\n",
        "              this_partition.append({\"page\": page_num, \"block_num\":block['block_number'], \"block\":block['text']})\n",
        "              all_partitions.append({\"page\": true_pg_num, \"block_num\":block['block_number'], \"block\":block['text']})\n",
        "            true_pg_num += 1\n",
        "          save_csv(this_partition, str(part_num)+\"_\"+doc+\".csv\", \"apiresults-19\", this_file, csv_columns)\n",
        "        print(page_num, true_pg_num)\n",
        "        save_csv(all_partitions, \"blocks_\"+doc+\".csv\", \"apiresults-19\", os.path.dirname(this_file), csv_columns)"
      ]
    },
    {
      "cell_type": "code",
      "execution_count": null,
      "metadata": {
        "colab": {
          "base_uri": "https://localhost:8080/"
        },
        "id": "xE7Jx4wUMJoU",
        "outputId": "85242e55-2364-40f3-ea44-4ddd694664cc"
      },
      "outputs": [
        {
          "data": {
            "text/plain": [
              "{'Part2': {1: [{'block_number': 1,\n",
              "    'text': 'SIERRA LEONE.\\n(General.)\\ntrade is legally pursued, but it may be thought that where the trade is pro-\\nscribed it would not be dared to be carried on by Portuguese subjects.\\nIn the course of the last year some boats from Bissao, it is said, landed\\nat the mouth of the Rio Nunez; sacked some of the villages there, and\\ncarried off to Bissao to be sold into Slavery as many of their inhabitants as they\\ncould take.\\n'},\n",
              "   {'block_number': 2, 'text': '4\\n'},\n",
              "   {'block_number': 3,\n",
              "    'text': 'Besides the barbarity of this practice, its consequence is, that the natives\\nwithin the reach of such kidnapping expeditions, are rendered savage and\\nuntractable, so much so that they are always disposed to deal harshly with such\\nEuropeans as may fall into their hands. The natives of one of the Bisago\\nIslands, which lie about the mouth of the River on which Bissao is situated,\\npossessed themselves of a boat with its crew belonging to the Spanish Schooner\\n\"Joseph,\" condemned in the Mixed Court in the year 1822, which had incau-\\ntiously approached the Island to obtain information as to the proper course to\\nbe pursued by the “ Joseph\" in order to reach Bissao. The boat\\'s crew were,\\nwith some difficulty, after suffering great hardships, ransomed through the in-\\nterference of the Governor of Bissao. Although this interference was in the\\nend successful, we should think that the natives were more swayed by interest\\nin liberating the Europeans of the \"Joseph\" who were in their possession, than\\nby a friendly regard for the Governor of Bissao; the difficulty with which the\\nransom was effected shews this to have been the case.\\n'},\n",
              "   {'block_number': 4,\n",
              "    'text': 'It may be said by the Portuguese Authorities at Bissao, if they do not\\ndeny the fact, that it is not they nor those under their control who pursue\\nthe system of kidnapping that has been mentioned, but that that system is\\npursued by the Natives near Bissao, over whom those Authorities have no\\npower. Even should this be asserted, and the assertion be true, it is the\\ndemand for Slaves for exportation, which induces these independent Natives\\nto pursue such a mode of supplying that demand, If the Authorities at\\nBissao did not themselves export Slaves, or allow them to be exported within\\nthe extent of their influence by others, these Natives would not have sufficient\\ninducement to attack their neighbours for the purpose of enslaying them. We\\nthink that if the influence of the Authorities of Bissao and Cacheo were ex-\\nerted to discountenance that Trade, as it is now exerted to encourage it, the\\nTrade would not be pursued on the Coast in the vicinity of these places, as\\nthat Coast is described as being difficult of access from the intricacies and\\ndangers of the navigation about it.\\nThe Country about Bissao is said to be very fertile, and capable of pro-\\nducing most tropical fruits, A little wax and ivory is at times exported from\\nBissao by the Slave Ships, but we believe that Slaves form the chief article of\\nexport from thence.\\nOccasionally, about the months of May and June, a few Sloops come to\\nSierra Leone from Bissao laden with stock for this market, which is generally\\nsold to advantage.\\n'},\n",
              "   {'block_number': 5,\n",
              "    'text': 'In the Rio Nunez there has not been any Slave Ship for a considerable\\ntime past. Formerly this River was frequented by Slave Ships from The\\nHavannah and other places. The Natives of the River are now beginning to\\nturn their exclusive attention to another and better sort of commerce than\\nthat of Slaves, so as to make it worth the while of respectable mercantile\\npeople at Sierra Leone and at the Isle de Los, to enter into dealings with\\nthem.\\n'},\n",
              "   {'block_number': 6,\n",
              "    'text': 'Some time ago, even when some few Slave Ships entered the River for\\nSlaves, small vessels from the Isle de Los occasionally traded in the River\\nfor different articles, but their trade was subject to interruption, as the Na-\\ntives attended more to supplying the demands of the Slave Ships.\\nSome mercantile establishments have recently been formed at the head of\\nthe River. We trust that these establishments will eventually be productive\\n'}],\n",
              "  2: [{'block_number': 1,\n",
              "    'text': 'SIERRA LEONE. (General.)\\nof much benefit to their founders, and to the Natives with whom they would\\ntraffic. If the exportation of Slaves directly from the River should not again\\nbe \\nresumed, benefit to both parties must be produced.\\nIt is said that some Slaves are sent in canoes from the Rio Nunez to Bissao\\nto be sold there. We would not disbelieve this assertion; yet we would hope\\nthat this kind \\nof traffic is very limited. Our hope on this point seems to be\\nrealized, \\nby the fact that one of the old Slave Traders of the River, named\\nBateman, an Englishman we are sorry to say, is now in a state of poverty,\\nalthough \\nformerly a successful Slave Trader. This man, averse as he is\\nrepresented to be to engage in any other traffic than the traffic in Slaves,\\nwould, since Slave Ships ceased to enter the Rio Nunez, have employed to\\nadvantage\\n, it may be presumed, whatever capital he might have possessed at\\nthat time in the Slave \\nTraffic betwixt that River and Bissao, if such a traffic\\nwere extensive.\\n'},\n",
              "   {'block_number': 2, 'text': '5\\n'},\n",
              "   {'block_number': 3,\n",
              "    'text': 'A Coffee plantation is proposed to be established in the Rio Nunez by\\none \\nof the white \\ntraders of the River.\\n'},\n",
              "   {'block_number': 4,\n",
              "    'text': 'No Slave Ship has been in the Rio Pongos since the month of January,\\n1822\\n, when \\nthe Spanish Schooner \"Rosalia\" was brought to Sierra Leone\\nfrom thence.\\n'},\n",
              "   {'block_number': 5,\n",
              "    'text': 'Francisco Freire, the late pilot of the Rosalia,\" has left the Rio\\nPongos; he only had the opportunity of leaving the River a few months.\\nsince, \\nin the American Schooner \"Dolphin,\" mentioned in the last Report\\nof the Commissioners. \\nThe “ Dolphin\" was bound for The Havannah and\\nCharlston. \\nIt is said that Freire left with John Ormond, his friend in the\\nRio Pongos, the sixty Slaves (not having had an opportunity of disposing of\\nthem) that had \\nbeen kept back from Lieutenant Hagan, when Lieutenant\\nHagan made the \\ndemand of John Ormond, of the whole of the Slaves that\\nhad been purchased for the Schooner \"Rosalia.\" It is reported that Freire\\nproposed, \\non his return to The Havannah, to pay himself the value of these\\nsixty Slaves, as well as the value of the same number of Slaves that John\\nOrmond delivered up to Lieutenant Hagan, by attaching some property that\\nOrmond possessed at \\nThe Havannah.\\nWe trust that the Slave Trade will not be renewed in the Rio Pongos, but\\nthat \\nRiver \\nand the Rio Nunez require to be occasionally visited by the\\nCruizers, to \\nshew to the Natives that a vigilant eye is kept over their pro-ceedings. \\nThese Rivers have not been visited by the Cruizers since the\\nmonth of March\\n, 1823, when some of the boats of His Majesty\\'s Ship\\nOwen \\nGlendower went up their streams, and searched them strictly, but did\\nnot find \\nany Slave Ship.\\nWe understand that most of the old Slave Traders of the Rio Pongos are\\nemployed in the collection of the produce of the surrounding country, to dis-pose \\nof it to the British traders of the Isles de Los, or to those of this\\nColony.\\nIn the last Report of the Commissioners, it was stated that John Ormond was\\nunwilling to relinquish the hope of being again enabled to carry on the traffic\\nin Slaves. He, however, has been obliged to follow the example of the other\\nTraders in the \\nRiver, and to turn his attention to a better traffic. The\\nSchooner that was mentioned in the last Report of the Commissioners as\\nhaving been built by John Ormond, or under his direction, in the Rio Pongos,\\nwas \\nrecently despatched by him to Sierra Leone with a cargo of rice, for\\nthe \\naccount of a merchant of this place. The Schooner, a few days after\\nher arrival \\nat Sierra Leone, was seized by the Collector of the Customs, for\\na breach \\nof the British Navigation laws, she not being British built nor\\nowned by a British subject. On the direction of the Colonial Government,\\nthe \\nSchooner was released by the Collector. It was conceived, that to\\nhave applied the strictness of the Navigation laws to this vessel, would have\\n'}],\n",
              "  3: [{'block_number': 1,\n",
              "    'text': 'SIERRA LEONE. (General.)\\nmaterially checked the desire of Ormond in particular, and of the Natives in\\ngeneral, to engage in commerce with this Colony.\\nAlong the Coast from the Rio Pongos to Sierra Leone, the foreign Slave\\nTrade has ceased. The Natives of this Coast are in constant intercourse\\nwith the Colony of Sierra Leone. This intercourse is highly beneficial to the\\nNatives and to the Colony. The Natives bring hither supplies of rice, cattle,\\npoultry, and vegetables, for the Colonial market; they also bring some coffee,\\nwhich is said to be of an excellent quality; some ivory is also, at times,\\nbrought by them, which they procure from the interior. European goods.\\nare taken in return by these traders. We wish we could add, that the visits\\nof these Natives to Sierra Leone made a visible improvement in their moral\\ncondition; but they are so wedded to their own particular customs that time\\nonly can effect a change in that condition, but that change, we are sure, must\\nbe sooner or later effected through the influence of the Colony of Sierra\\nLeone.\\n'},\n",
              "   {'block_number': 2, 'text': '6.\\n'},\n",
              "   {'block_number': 3,\n",
              "    'text': 'Disturbances have lately existed in the tract of Country of which we have\\njust made mention. These disturbances were caused chiefly by the jealousie\\nof Chiefs of different districts. They have been, in some measure, removed\\nby the friendly interference of the Colonial Government between the contend-\\ning parties.\\n'},\n",
              "   {'block_number': 4,\n",
              "    'text': 'We are happy to be enabled to say, that the trade of Sierra Leone has\\nincreased since the date of the last Report of the Commissioners. This\\nincrease we ascribe principally to the great influx of traders into the Colony,\\nwhich has taken place within this last year, and to the demand for African\\ntimber within the same period.\\nThe traders from the interior consisted of the Natives of Foutah Jallon\\nand of the Natives of more distant Countries.\\nThe Natives of Foutah Jallon, or Foulahs as they are termed, brought\\nhither great numbers of large and small cattle with a considerable quantity of\\ngold; considerable, we mean, in comparison with the quantity brought to the\\nColony in former years. The Natives of Countries more distant than Foutah\\nJallon, brought mostly gold. It was a singular circumstance that the influx\\nof Native traders into the Colony, was greatest in the months of August and\\nSeptember, when the rains yet fell in the tract of Country around Sierra\\nLeone, and at Sierra Leone with considerable violence. This circumstance\\nshews the eagerness with which the Natives were possessed to exchange their\\narticles of commerce for the European goods to be found at Sierra Leone,\\nand shews that energy is not wanting amongst the Natives to make them en-\\ngage in a commerce of a different nature from the commerce in Slaves. The\\nrainy Season in the tropical parts of Africa is so inclement, that it is a\\nmatter of surprise that these people should expose themselves to it, in a\\njourney of several hundreds of miles for the sake of what a European would\\nconsider trifling gain.\\n'},\n",
              "   {'block_number': 5,\n",
              "    'text': 'It is not possible to estimate the quantity of cattle that was brought into\\nthe Colony by the Foulahs, but that quantity must have been very great; so\\ngreat, indeed, that although the daily consumption of meat by the Colonists\\nis, at all times, considerable, it was apprehended that the traders would over-\\nstock the market, and that they would not obtain a price for their\\nficient to remunerate them for their trouble and expense of bringing them\\nhither. We understand, however, that in general these traders in cattle were\\nvery well satisfied with their journey to Sierra Leone.\\nThe traders in gold were eagerly sought after by the Merchants of the\\nColony, who treated them liberally in every respect, even to maintaining them\\non their own premises to their personal inconvenience. These traders must\\nhave been very well satisfied with their expedition to this Colony, and it is to\\nbe expected, that the favourable reports of this Colony which they will be\\n'}],\n",
              "  4: [{'block_number': 1,\n",
              "    'text': 'SIERRA LEONE.\\n(General.)\\nlikely to spread in the interior Countries, will induce the visits of other and\\nmore distant traders.\\n'},\n",
              "   {'block_number': 2, 'text': '17\\n'},\n",
              "   {'block_number': 3,\n",
              "    'text': 'By far the greater part of these traders came to Sierra Leone from the in-\\nterior by the way of Port Logo, a small Native town, situated at the head of\\none of the principal branches of the Sierra Leone River, about fifty miles\\nfrom Freetown.\\n'},\n",
              "   {'block_number': 4,\n",
              "    'text': 'Formerly the greater part of the traders from the interior came to this Co-\\nlony by the way of the Scarcies River, which enters the Sea at about twenty\\nmiles to the \\nnorth of the River Sierra Leone.\\n'},\n",
              "   {'block_number': 5,\n",
              "    'text': 'The way to Sierra Leone from Foutah Jallon by Port Logo is more direct\\nthan \\nby that \\nof the Scarcies, and preferable, it would seem, in every respect,\\nas the Foulahs prefer \\nto take it, when they are free to travel by it without\\nbeing vexatiously interrupted by the Natives of the Chieftainships which in-\\ntervene betwixt Port Logo and Foutah Jallon.\\nThe way, or path as it is more emphatically termed, of Port Logo was\\nquite open last year to the Foulah traders, and to the Natives of the Countries\\nbeyond them.\\n'},\n",
              "   {'block_number': 6,\n",
              "    'text': \"In the Report of the Commissioners of the 5th of January, and 16th of\\nApril, 1821, it was mentioned that the Colonial Government had sent a Mis-\\nsion under the charge of Mr. O'Beirne of the Medical Staff to the King of\\nFoutah Jallon, \\nat his residence at Teembo, with the view to open a direct\\nintercourse \\nwith the Foulahs by Port Logo. That Mission, it was said, suc-ceeded in \\nits object, and Mr. O'Beirne brought with him, on his return to\\nSierra Leone\\n, a number of Foulah traders accompanied by a Nephew of the\\nKing of Foutah \\nJallon who was sent as a sort of Envoy by the King to\\nthe Governor of Sierra \\nLeone.\\n\"},\n",
              "   {'block_number': 7,\n",
              "    'text': \"Since the period of the return of the Envoy to his country, in 1821, to the\\nmonths of May or June, 1823, very little intercourse was kept up betwixt\\nFoutah Jallon \\nand Sierra Leone by the Port Logo path. Among the Foulahs,\\ncivil \\ncommotions arose in that period. The King who had received the Mis-sion was \\ndeposed by his subjects, and another was appointed to govern in his\\nstead. We \\nbelieve, also, that obstacles were thrown in the way of the\\nmarch \\nof the Foulah traders to Port Logo by Chiefs who were interested in\\ntheir \\nproceeding to Sierra Leone by the old path of the Scarcies.\\nSome time in the course of last year, the deposed King of the Foulahs was\\nreinstated in his authority, by his former subjects, who preferred his milder\\nvirtues to \\nthe arbitrary disposition of the person whom they had recently\\nelevated to power, and the commotions of the country subsided.\\nThe Foulah traders who were brought to Sierra Leone by Mr. O'Beirne\\nspread, it is understood, on their return to Foutah Jallon the most favourable\\nreports of Sierra Leone, its inhabitants and its wealth.\\n\"},\n",
              "   {'block_number': 8,\n",
              "    'text': \"These reports were circulated in Foutah Jallon, and in the surrounding\\ncountries, and contributed, with the favourable impressions of Sierra Leone,\\nwhich the King had received from the Mission under Mr. O'Beirne, to the\\ngreat influx of traders into the Colony within this last year.\\nThe obstacles that had been thrown in the way of the Foulah traders on the\\nPort Logo path by the jealousies of some Chiefs were, in some measure, re-moved and the Foulah \\ntraders and their neighbours were free to come to\\nSierra \\nLeone, as they did, by that path.\\n\"},\n",
              "   {'block_number': 9,\n",
              "    'text': \"The services rendered to the merchants of the Colony by the effects of Mr.\\nO'Beirne's Mission have recently been handsomely acknowledged by them.\\nAt the close of the past year, a messenger arrived at Sierra Leone from the\\nKing of Foutah Jallon bringing a letter from the King to the Governor of\\nSierra Leone expressive of the King's friendly regard for the Colony, and of\\nhis wish \\nthat the Governor would send to him some munitions and other\\narticles. A friendly answer was returned to this letter by the Colonial\\nGovernment, and a present, conformable to his wish, was sent to the King.\\n\"}],\n",
              "  5: [{'block_number': 1,\n",
              "    'text': 'SIERRA LEONE. (General.)\\nIt is to be hoped that this recent advantageous intercourse of the Colony\\nwith the Foulahs, and their neighbours will tend to the prosperity of Sierra\\nLeone. We confess that we think that to commerce only with the neigh-\\nbouring African Nations, and with the Nations more distantly situated, must\\nthe Colony look for the means of acquiring wealth for some years to come.\\nAgriculture does not afford within the limits of the Colony any article which\\nmay be given for exportation to the merchant in exchange for his European\\ncommodities.\\n'},\n",
              "   {'block_number': 2, 'text': '8\\n'},\n",
              "   {'block_number': 3,\n",
              "    'text': 'The timber trade has lately given much employment to many of the Natives\\nof the Port Logo River, about which river the timber is mostly cut, and of\\nthe country adjacent thereto, who during the latter part of the year 1821,\\nand during the year 1822, had been languishing in poverty for want of suffi-\\ncient employment in that trade.\\nThe quantity of timber exported from Sierra Leone, from the 1st of May,\\n1823, to the 1st of May, 1824, was 9646 logs. Only 1975 logs were\\nexported from Sierra Leone between the 1st of May, 1822, and the 1st of\\nMay, 1823.\\n'},\n",
              "   {'block_number': 4,\n",
              "    'text': 'The Chiefs, or Headmen, of the Port Logo River on the arrival of the\\nfirst timber-ships, in the months of April and May, 1823, availed themselves\\nof the sudden demand for timber at that time, to make exactions upon the\\nEuropean timber-merchants, and to raise the price of the timber. This was\\ndone in a manner that made the merchants suffer at that time, but they have\\nsince then, with some variation in the price, been regularly supplied with\\ntimber.\\n'},\n",
              "   {'block_number': 5,\n",
              "    'text': 'There are now several European timber establishments, on different islands\\nup the river, between twenty and thirty miles distance from Freetown. Most\\nof these establishments employ a considerable number of black persons, na-\\ntives of the river, and Kroomen, Africans whose country is situated on the\\nWestern Coast about the fifth degree of latitude, in the different labours\\nattendant on the trade, such as squaring the timber and putting it in a\\nshape proper to be shipped, rafting the timber to the timber-ships, and work-\\ning in boats and canoes. On board of the timber-ships, employment is also\\nfound for many Natives and Kroomen, but Kroomen are mostly employed to\\nassist the Sailors in the labour of taking in the timber.\\n'},\n",
              "   {'block_number': 6,\n",
              "    'text': 'The timber establishments hire their labourers at the rate of from four to\\nfive dollars per month. This rate of pay is sufficient to diffuse comfort and\\nhappiness amongst the labourers and their families, and happiness, according\\nto their own manners, appears to be diffused amongst them.\\nThe Natives generally unite in parties to fell the timber, to prepare it and\\nto raft it down for sale to the different establishments. Sometimes a dozen.\\nNatives will unite themselves for these purposes. At other times a Chief, or\\nHeadman, will direct as many dependants and domestic Slaves as he may have\\nto fell timber. Of the timber felled in this manner, a part is reserved for the\\nDependants and Slaves, and sold for their benefit; the most considerable part,\\nof course, is reserved for the Chief. Single families, residing near the water-\\nside, will employ themselves in felling timber. Often Natives who reside at\\nsome distance from the river come to the river-side; obtain permission of its\\nChiefs, for which permission they pay a trifling sum, and engage in large\\nparties in the business of cutting timber.\\nThe innumerable Creeks of the River afford great facilities for this trade.\\nThe trouble of transporting the timber from the place where it is felled to the\\nmain stream of the River, is comparatively but little.\\n'},\n",
              "   {'block_number': 7,\n",
              "    'text': 'When timber is in demand many villages are to be seen on the main stream\\nof the Port Logo River, and it is said that many of the Creeks, which, but for\\nthe trade, would be left to their native solitude, have habitations of industri-\\nous wood-cutters scattered on their banks.\\nThe timber-trade is the only trade which can at present give sufficient\\n'}],\n",
              "  6: [{'block_number': 1,\n",
              "    'text': 'SIERRA LEONE.\\n(General.)\\nemployment to the Natives of the upper part of the River; it is of the utmost\\nconsequence, therefore, that every possible encouragement should be given to\\nthe trade, that by the pursuit of it the Natives may have effaced from their\\nminds every remembrance of the Slave Trade.\\n'},\n",
              "   {'block_number': 2,\n",
              "    'text': \"In the last Report of the Commissioners it was respectfully stated that the\\nbest means of encouraging the trade, would be by employing the timber, or a\\ncertain quantity of it, in the construction of Ships, in His Majesty's Dock-\\nyards, for which service it was particularly adapted. And that it was naturally\\nsupposed that if the timber should once be known to be employed and ap-\\nproved in that service, it would grow into general estimation, and be intro-\\nduced into general use\\n\"},\n",
              "   {'block_number': 3,\n",
              "    'text': 'We may be permitted to add to this, that the timber is admirably fit, from\\nits durable qualities, to be employed in the construction of public edifices.\\nThe timber-merchants are very desirous to be secured from a return of vex-\\natious interruptions in their trade, on the part of the Natives, and to be secured\\nin the possession of the lands on which their establishments are founded. These\\nlands are held by them from the Natives, at a yearly rent. Considerable\\nsums of money have been laid out on the timber establishments, such sums as\\nhave made them valuable and worthy of being placed beyond the caprice of\\nthe Natives. The merchants would wish that the Colonial Government should\\nby Treaty, obtain the sovereignty of the lands which they occupy, and esta-\\nblish a station at Port Logo, which should serve to protect the interests of\\ntheir trade.\\n'},\n",
              "   {'block_number': 4,\n",
              "    'text': 'On the other branch of the Sierra Leone River, the Rokelle branch, as it is\\ncalled, very little timber is cut. Some cam-wood and ivory is brought from\\nthe interior down this branch of the river to Sierra Leone.\\n'},\n",
              "   {'block_number': 5,\n",
              "    'text': 'It was reported some time since that a path had been opened from Rokon,\\na Native town on the Rokelle, to the Gallinas River for the passage of slaves\\nfrom the adjacent country to the Gallinas. We do not disbelieve this report,\\nbut we would be inclined to hope that by the revival of the timber trade, and\\nthe encouragement that has been given to the gold and other trade of the in-\\nterior, fewer inducements are now held out to the Natives about this river to\\nengage in the traffic in Slaves with the Gallinas Slave-dealers.\\n'},\n",
              "   {'block_number': 6,\n",
              "    'text': 'The Gallinas River is the only notorious haunt of Slave-ships betwixt\\nSierra Leone and Cape Coast. It will be in vain to expect that this haunt\\nshall be destroyed so long as a French character shall protect a Slave-ship\\nfrom molestation. We have been constantly given to understand that French\\nvessels, or vessels well protected by a French mask, are almost the only\\nvessels which frequent this place. It is said that two or three vessels under\\nthe French flag are constantly to be seen at the Gallinas. The British\\nCruizers do, when passing by the Gallinas, visit vessels which shew a French\\nflag, but the papers which are produced by the people of such vessels are\\ngenerally of a kind to induce the Cruizers not to molest them.\\n'},\n",
              "   {'block_number': 7,\n",
              "    'text': \"We understand that a French Frigate named the has recently been\\ncruizing off the Gallinas and that she has made prize of one or two Slave Ves-\\nsels. It is said that the Commander of the French Frigate remonstrated with\\nthe Commander of His Majesty's Ship Driver, that lately visited the Gallinas\\nupon his having searched some vessels under the French flag.\\nSome months since, a Slave Schooner, under the Spanish flag, was acci-\\ndentally blown up, near the Gallinas, while a party of native Slave Traders\\nwas in the act of negotiating on board with the European Slave Dealers, for\\nthe goods for which slaves were to be exchanged. The Slave Traders, Native\\nand Foreign, were destroyed with the vessel.\\n\"},\n",
              "   {'block_number': 8,\n",
              "    'text': 'A few days ago, a Schooner named the Saint George, John Minshull Grif-\\nfith, Master, belonging to a British subject, arrived hither from Leeward with\\na cargo of rice. The master has given us some information of Slave Ships\\nseen or heard of by himself in the course of recent trading voyages, betwixt\\n'}],\n",
              "  7: [{'block_number': 1,\n",
              "    'text': '10\\nSIERRA LEONE.\\n(General.)\\nthe Gallinas and Cape Palmas. He said that on the 8th of February last,\\nhe saw one Brig and four Schooners at anchor off the Gallinas and two\\nSchooners under weigh, all bearing the French flag. On the night of the 8th\\nof February, being off Cape Mount, he was desired to heave to, by a\\nSchooner, or his vessel would be fired into: Mr. Griffith accordingly hove to,\\nbut was not further molested. On the 12th of March, he was informed by\\nsome of the natives, that two Schooners under the French flag, in quest\\nof Slaves, stood off the coast, on perceiving the Saint George. On the 20th of\\nMarch, Mr. Griffith observed a Schooner standing off and on, which he con-\\nsidered to be a Slave Trader. On the 2nd of April, he saw a Schooner which\\nhe was informed was trafficking in slaves, and had a few slaves on board, taken\\nat Piccaniny Sesters; on the same day, also, Mr Griffith was informed by the\\nnatives of Grand Sesters, that a Brig and a Schooner under the Spanish flag,\\nhad been three or four days at anchor, off Piccaniny Sesters, purchasing rice\\nfor their Slaves.\\n'},\n",
              "   {'block_number': 2,\n",
              "    'text': \"The master of the Saint George also related to us the particulars of his\\nmeeting with a French Brig of War on the 17th of February last; he said that\\nhe was proceeding in the Schooner, with a number of black persons on board,\\nsome of them forming part of his crew, others being labourers to assist the\\ncrew, to a place a little to the Eastward of Cape Palmas to fulfil some object\\nof a trading voyage. Being off Garraway, Latitude 4° 40' North, he saw a\\nBrig at a distance. The Schooner pursued her course; the Brig made sail\\nafter her, and when near, the Brig hoisted French colours; the Saint George\\nupon this hoisted the English flag, but still kept on her course, the Master being\\nanxious to arrive at the place of his destination before it grew dark, it being\\nthen late in the day and the navigation about Cape Palmas which the vessels\\nwere approaching, being dangerous. The Brig finding that the Schooner\\nstill made sail from her, and being come within distance, fired a shot at the\\nSaint George, although she had her English colours displayed. The Saint\\nGeorge, notwithstanding, continued to keep on her course until her Master\\nperceiving that the Brig was about to fire another shot at his vessel, stopped\\nher way, and waited until the Brig came up. The Master informed us, that he\\nwas hailed from the Brig, and asked what the Schooner was, and whence she\\ncame, that he was ordered to lower his boat, and come on board of the Brig;\\nbut this the Master told them that he could not do, as he had no boat to con-\\nvey him thither, they then told him to come in a Canoe which the Schooner\\npossessed; but the Master informed them that he could not trust himself in it,\\nas squally weather seemed to be coming on; with this reply the French seemed\\nto be satisfied. They did not choose to go on board of the Schooner and visit her,\\nbut they asked her Master many questions from their own deck. Observing\\nthe number of black persons that were on the deck of the Schooner they said\\nthat the Schooner was going to carry off from the Coast a cargo of Slaves;\\nthey desired the Master to count the number of black persons that were on\\nboard of the Schooner; the Master did so, but they did not seem to be satis-\\nfied with his reckoning; he was told he must certainly have more people in the\\nhold, which the Master says was not the case; they were very particular in\\nobtaining the name of the Master; they even required him to spell his name\\nseveral times, until they were perfectly satisfied they could write it properly.\\nThe Master understood this Brig, to be the French Brig of War the Dragon,\\nand he supposed that she was cruizing on the coast.\\nWe have only detailed these facts, as they were related to us by the Master\\nof the Saint George, to shew that the mere hoisting of a flag, is not in all cases\\nsufficient to satisfy a French Officer of the character of a vessel; were it\\notherwise, the Schooner would not have been fired at, and obliged to conform\\nto the pleasure of those of the Brig.\\nSome intercourse is kept up betwixt Sierra Leone, by means of its small\\ncraft, and the neighbourhood of the Gallinas, but the people about the latter\\n\"}],\n",
              "  8: [{'block_number': 1, 'text': '}\\n'},\n",
              "   {'block_number': 2, 'text': '1\\n'},\n",
              "   {'block_number': 3, 'text': '1\\n'},\n",
              "   {'block_number': 4,\n",
              "    'text': 'SIERRA LEONE.\\n(General.)\\n11\\nplace, are so much engaged with the traffic in slaves, that this intercourse is\\nnot so great nor, so advantageous as it would be, if that traffic were dis-\\ncontinued.\\n'},\n",
              "   {'block_number': 5,\n",
              "    'text': 'The American settlement at Cape Mesurado, to the Southward of the Gul-\\nlinas, is, we understand, in rather a languishing state; but it is to be hoped\\nthat it will yet prosper and be, what Sierra Leone now is, a noble monument\\nof the beneficence of the people by whom it was founded.\\nSome miles to the Southward of the American Settlement, is the small esta-\\nblishment of Captain Spence, the enterprising individual mentioned in the\\nReport of the 29th of April 1823. Captain Spence is the owner of the\\nSchooner Saint George, of which we have made mention; we have reason to\\nbelieve that his establishment prospers, and that it operates beneficially upon\\nthe natives with whom it is immediately in connexion. We have been in-\\nformed that the quantity of ivory and of palm oil obtained at the settlement, in\\ntraffic with the natives was much increased in the year 1823. Captain Spence\\nexpects this year a greater increase of these articles.\\n'},\n",
              "   {'block_number': 6,\n",
              "    'text': 'We have only occasionally, since the last Report of the Commissioners,\\nreceived some slight information of the state of the Slave Trade betwixt Cape\\nCoast and the Equator, we have been given to understand that during the\\ngreater part of last year very little Slave Trade was carried on at the usual\\nSlave haunts in the Bights of Benin and Biafra.\\nFrom the date of the Report of the 29th of April, 1823, to the present pe-\\nriod, only seven slave vessels have been taken in those Bights. But we are\\ndisposed to infer that the Slave Trade would have been carried on to a greater\\nextent than it is said to have been, if the disturbances in the Brazils, but more\\nparticularly at Bahia, had not prevented the Brazilians from actively engaging\\nin it. After the surrender of Bahia to the Brazilian forces, and the restoration\\nof tranquillity there, it would appear, from information that we have received,\\nthat Slave Ships again made their appearance in the Bight of Benin. In the\\nBight of Biafra, we have not heard that any Slave Ship has lately been seen.\\nNone were seen as we have been informed, by His Majesty\\'s Ship, Bann,\\nwhich lately visited that Bight.\\nThe state of affairs on the Gold Coast has, within this last year, taken up\\nmuch of the attention of the Cruizers, and has not left them much time to\\nsearch for Slave Ships. This fact, as well as that of the disturbances in the\\nBrazils, may account in some degree, for the circumstance of so few Slave\\nShips being taken, since the date of the last Report of the Commissioners.\\nHis Majesty\\'s Ship Owen Glendower, on leaving Sierra Leone, at the end\\nof the month of March 1823, proceeded to Cape Coast, and afterwards made a\\ncruize down the Coast as far as Molembo, which is situated to the South of\\nthe Equator. She did not take any Slave Vessel in that cruize. If we were\\nrightly informed, she did not see any Slave Vessel until she came to Molembo;\\nwhere she found a Portuguese trader, engaged in the legal traffic in Slaves, and\\na Spanish schooner that was just leaving the coast laden with Slaves and ivory.\\nTo this schooner the boats of the Owen Glendower, which had been despatched\\nfrom her, gave chase, but the schooner escaped from them. The Owen Glen-\\ndower afterwards returned to Cape Coast, and remained there a considerable\\ntime; she took, by means of her boats, the Spanish schooner \" Maria la Luz,”\\nin the New Calabar River; the \" Conchita\" in the Old Calabar River; and\\nthe \"Fabiana\" in the Bonny River. The Owen Glendower came to Sierra\\nLeone in the month of December last, and returned to the Gold Coast soon\\nafter.\\n'},\n",
              "   {'block_number': 7,\n",
              "    'text': 'His Majesty\\'s ship\" Driver\" left Sierra Leone about the same time as the\\nOwen Glendower in 1823; she proceeded to the Island of Ascension, and\\nafterwards to Cape Coast, where she remained for the protection of the\\nCastle. She was afterwards obliged to proceed to Rio de Janeiro to repair\\nsome damage which she had sustained. She returned to Sierra Leone in the\\n'}],\n",
              "  9: [{'block_number': 1,\n",
              "    'text': 'SIERRA LEONE.\\n(General.)\\nmonth of March last, and is again gone down to Cape Coast to assist in the\\ndefence made there against the Ashantees.\\nHis Majesty\\'s ship Bann also left Sierra Leone in the month of March, 1823,\\nand proceeded to the Island of Ascension; she was, soon after her arrival at\\nthat island, driven out of the African seas by a severe sickness which spread itself\\namongst her crew, and caused considerable mortality amongst them. She was\\nobliged to proceed to the Brazils, from whence she returned to Cape Coast in\\nthe month of September. At Cape Coast she remained a considerable time to\\nassist in the defence of the Castle. At the close of January last she cruized\\nin the Bights of Benin and Biafra. Off the River Lagos, in the Bight of\\nBenin, she took three Brazilian Slave Vessels, the Minerva,\" the \"Cer-\\nqueira,\" and the \"Creola;\" and afterwards, near the Island of Saint Thomas,\\nshe took the Brazilian brig \"Bom Caminho.\"\\nHis Majesty\\'s ship Cyrene proceeded from hence to Cape Coast in March,\\n1823, for the purpose of bringing the late Governor Sir Charles McCarthy to\\nSierra Leone. She returned hither with Sir Charles McCarthy in July; pro-\\nceeded afterwards to the Cape de Verd Islands, and came back to Sierra\\nLeone in September. From Sierra Leone the Cyrene proceeded to Cape\\nCoust, and from thence to England. We did not hear that the Cyrene met\\nwith any Slave Ship in her passages to and from the different places which we\\nhave mentioned.\\n'},\n",
              "   {'block_number': 2, 'text': '12\\n'},\n",
              "   {'block_number': 3,\n",
              "    'text': \"We have not heard that His Majesty's ships Victor and Swinger have taken\\nany Slave Ship since their late arrival on the coast.\\n\"},\n",
              "   {'block_number': 4,\n",
              "    'text': 'We have not, since the date of the Report of the 29th of April, 1823, had\\nproof that the Slave Trade has been carried on betwixt Princes Island and the\\nAfrican Rivers in its neighbourhood; but we have been informed that the\\ntrade is still kept up by small boats belonging to Princes Island. It will be\\nas difficult to put a stop to this traffic betwixt those two places, as it will be to\\nstop the trade that is carried on in Slaves betwixt Bissao and the Cape de Verd\\nIslands. The effectual remedy for the evil in both places will only be pro-\\nduced by a change of sentiment in regard to the trade on the part of the\\nGovernors of those places.\\n'},\n",
              "   {'block_number': 5,\n",
              "    'text': 'We are not enabled to give any particular information of the state of the\\nlegitimate commerce on the Gold Coast, but we apprehend that it cannot have\\nbeen promising of late on account of the Ashantee war which prevails there.\\nThe Ashantees have stopped the direct trade with the interior country. Below\\nthe Gold Coast we hope that legitimate commerce improved during the past\\nyear in proportion as the Slave Trade declined in that period.\\nFrom the foregoing statements it will appear that, since the date of the last\\nReport of the Commissioners, the Slave Trade has only existed at the Cape\\nde Verd Islands, and at Bissao and Cacheo, to the Northward of Sierra Leone.\\nThat betwixt Sierra Leone and Cape Coast, the trade has only been carried\\non at the Gallinas, and at some places in its vicinity. And that to the South-\\nward of Cape Coast a decrease of the trade has occurred.\\nThe recent addition to the Slave Trade Restriction Treaty with The\\nNetherlands, declaring the condemnation of ships if fitted out for the Slave\\nTrade, must be beneficial to the cause of the abolition of that Trade. When\\nthe same addition shall be made to the Treaties with Spain and Portugal, we\\nshall hope to see the Spanish and Portuguese Slave Traders swept from the\\ncoast, but not till then.\\n'},\n",
              "   {'block_number': 6, 'text': 'We have the honour to be &c.\\n(Signed)\\n'},\n",
              "   {'block_number': 7,\n",
              "    'text': 'E. GREGORY.\\nD. M. HAMILTON.\\nP. S. May 28th, 1824. We have been informed by a person who is\\nestablished in trade at the Isles de Los, that when he was in the Rio Nunez\\na short time since, he was positively informed that two vessels were, in the\\nmonth of January last, at Bissao waiting for a cargo of Slaves. We have\\n'}],\n",
              "  10: [{'block_number': 1,\n",
              "    'text': 'SIERRA LEONE.\\n(General.)\\nbeen also informed by the same person, that parties of negroes from Bissao\\nhave lately actually been in the Rio Nunez to carry off such of its natives as\\nthey could seize. A pretence is set up that these kidnapping excursions are\\nmade in retaliation for injuries received; but we are persuaded, as is also\\nour informant, that they would not take place if Slaves ceased to be exported\\nfrom Bissao.\\n'},\n",
              "   {'block_number': 2,\n",
              "    'text': 'The Right Hon. George Canning,\\n&c. &c.\\n&c.\\n'},\n",
              "   {'block_number': 3, 'text': 'I have the honour to be &c.\\n(Signed)\\n'},\n",
              "   {'block_number': 4,\n",
              "    'text': \"No. 4.\\nEdward Gregory, Esq. to Mr. Secretary Canning.-(Received Oct. 2.)\\nSIR,\\nSierra Leone, August 4, 1824.\\nMR. HAMILTON and myself had the honour to receive, on the 19th of\\nJune, your Despatch of the 8th April, 1824, acquainting us, in reference to\\nthe subject of our despatch of the 5th of January last, that it appeared to be\\nexpedient that we should, in the absence of Spanish Commissioners, pay into\\nthe Military Chest the Spanish moiety of the nett proceeds of the sales of\\nprizes, and that we should continue to pay into the same Chest the British\\nmoiety of the nett proceeds of the sales of prizes.\\nWe shall, Sir, conform to these instructions, as well as to the instructions\\nthat you are pleased to give us at the same time, that we should send the ac-\\ncounts of the sales of prizes in duplicate to His Majesty's Secretary of State\\nfor Foreign Affairs.\\n\"},\n",
              "   {'block_number': 5,\n",
              "    'text': 'The Right Hon. George Canning,\\n&.c.\\n&.c.\\n&c.\\n'},\n",
              "   {'block_number': 6, 'text': 'E. G.\\nD. M. H.\\n'},\n",
              "   {'block_number': 7,\n",
              "    'text': 'The Right Hon. George Canning,\\n&c. &c. &c.\\n'},\n",
              "   {'block_number': 8, 'text': '13\\n'},\n",
              "   {'block_number': 9, 'text': 'E. GREGORY.\\n'},\n",
              "   {'block_number': 10,\n",
              "    'text': \"No. 5.\\nEdward Gregory, Esq. to Mr. Secretary Canning.-(Received Oct. 2.)\\nSIR,\\nSierra Leone, August 4, 1824.\\nMR. HAMILTON and myself were honoured, on the 1st ultimo, with\\nyour Despatch, acquainting us that Mr. W. P. Worrall, Mr. S. M. Magnus,\\nand Mr. Samuel Bidwell, had been selected by you, Sir, for the situation of\\nClerks under the Commission, the two first Gentlemen to assist His Majesty's\\nCommissioners in the despatch of their Correspondence with His Majesty's\\nSecretary of State for Foreign Affairs, the third Gentleman to take the place\\nof Mr. Hodder in the Registry Office of the Mixed Commissions.\\nThe instructions which you have been pleased to give us in regard to these\\nGentlemen will be obeyed.\\nMr. Hamilton and myself beg leave, Sir, to express to you our grateful\\nsense of your attention in this instance: and we trust, Sir, that the particular\\npart of our duty in which these Gentlemen are to render their assistance, will\\nbe executed with as much satisfaction to yourself as it will be with pleasure\\nI have the honour to be, &c.\\nE. GREGORY.\\nto us.\\n(Signed)\\n\"}]}}"
            ]
          },
          "execution_count": 31,
          "metadata": {},
          "output_type": "execute_result"
        }
      ],
      "source": [
        "l = list(classa_docs.values())[0]\n",
        "doc_text_blocks['Slave Trade Volume 10']['class_a'][l[0]][0]"
      ]
    }
  ],
  "metadata": {
    "accelerator": "GPU",
    "colab": {
      "provenance": []
    },
    "gpuClass": "standard",
    "kernelspec": {
      "display_name": "Python 3",
      "name": "python3"
    },
    "language_info": {
      "name": "python"
    }
  },
  "nbformat": 4,
  "nbformat_minor": 0
}
