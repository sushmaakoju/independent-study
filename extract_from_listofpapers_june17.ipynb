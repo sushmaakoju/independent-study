{
  "cells": [
    {
      "cell_type": "markdown",
      "id": "9ffa2e5a",
      "metadata": {
        "id": "9ffa2e5a"
      },
      "source": [
        "# Extract \"List of papers\" Pages\n"
      ]
    },
    {
      "cell_type": "markdown",
      "id": "feb3c7bf",
      "metadata": {},
      "source": [
        "Supervisor: Prof. Henry Lovejoy for the Digital Slavery Research Lab\n",
        "\n",
        "Author: Sushma Akoju (Sushma Anand Akoju)"
      ]
    },
    {
      "cell_type": "markdown",
      "id": "f4b3c22c",
      "metadata": {
        "id": "f4b3c22c"
      },
      "source": [
        "### Reading PDF files which are Bitmap Encoded using Universal Document Converter\n",
        "Reference: https://www.universal-document-converter.com/"
      ]
    },
    {
      "cell_type": "markdown",
      "id": "fffb75ee",
      "metadata": {
        "id": "fffb75ee"
      },
      "source": [
        "## Getting aquainted with extracting pages from PDF documents\n",
        "\n",
        "### Steps to Install Universal Document converter on Windows\n",
        "- Download and install the exe and follow the installation instructions from <a href=\"https://www.universal-document-converter.com/\">Download from here</a>\n",
        "- After downloading open an example pdf in Adobe Acrobat version such as Adobe Acrobat Reader DC .\n",
        "- click on print and in your printers list, you can verify that Universal Document Converter exists.\n",
        "- select pages you like to save as a seperate pdf, click on print and save.\n",
        "\n",
        "### For Mac or Linux\n",
        "#### For Mac users\n",
        "- Open pdf file in preview\n",
        "- click on print and select pages you like to print and save\n",
        "\n",
        "#### For Linux users\n",
        "- Open pdf file in PDF Reader\n",
        "- click on print and select pages you like to print and save"
      ]
    },
    {
      "cell_type": "markdown",
      "id": "2ff7b490",
      "metadata": {
        "id": "2ff7b490"
      },
      "source": [
        "## Libraries to import for generating image files required for Transkribus\n",
        "- We use pdf2jpg for for generating images for each page for \"List of papers\" document for a given collection.\n",
        "    - Install pdf2jpg from <a href=\"https://github.com/pankajr141/pdf2jpg\"> pdf2jpg </a>\n",
        "- We use pytesseract for Optical character recognition. However, there are no guarantees this works.\n",
        "    - Install tessseract from <a href=\"https://tesseract-ocr.github.io/tessdoc/Home.html#binaries\"> tesseract </a>\n",
        "    - Install pytesseract from <a href=\"https://pypi.org/project/pytesseract/\"> pytesseract </a>"
      ]
    },
    {
      "cell_type": "code",
      "execution_count": null,
      "id": "a8967981",
      "metadata": {
        "id": "a8967981"
      },
      "outputs": [],
      "source": [
        "import re\n",
        "import os\n",
        "\n",
        "import pytesseract\n",
        "from pdf2jpg import pdf2jpg\n",
        "\n",
        "pytesseract.pytesseract.tesseract_cmd = r'C:\\Program Files\\Tesseract-OCR\\tesseract'"
      ]
    },
    {
      "cell_type": "markdown",
      "id": "870a35ae",
      "metadata": {
        "id": "870a35ae"
      },
      "source": [
        "### Steps to generate \"List of papers\" pdf from each of the collection pdf\n",
        "- Download each collection from volume i.e. for example Slave Trade Volume 10 from http://ddsnext.crl.edu/titles/33509/items?terms=&page=0\n",
        "    - Create a folder with name \"Slave Trade Volume 10\"\n",
        "    - Click on \"Class A. Correspondence with the British commissioners at Sierra Leone, the Havannah, Rio de Janeiro, and Surinam, relating to the slave trade. 1824-1825\" of item under Slave Trade Volume 10\n",
        "    - Click on Download button. Note that this opens a new tab or page where you should select all pages starting from 01 to last page number, so select all pages and click download.\n",
        "    - Once document is downloaded, save it to your root volume folder you created in step 1.\n",
        "    - repeat this for all collections under \"Slave Trade Volume 10\"\n",
        "- Now navigate to the volume we just downloaded.\n",
        "- Create a folder named \"extracted\" since we are going to extract \"List of Papers\" pages.\n",
        "- Click on first collection pdf document. Let us assume we are using Windows OS. (for Mac/linux, the steps are simple and listed in previous section \"Getting aquainted with extracting pages from PDF documents\"). So the document should have opened on Adobe Reader.\n",
        "- Now click on \"Print\" on option on Reader.\n",
        "- Select Universal Document Converter.\n",
        "- Note down starting page number and ending page number of \"List of papers\".\n",
        "- In Print window, select option \"Pages\" and enter 4-8 , 4 being the starting page number and 8 being ending page number for List of papers.\n",
        "- Note that collection \"Class A. Correspondence with the British commissioners at Sierra Leone, the Havannah, Rio de Janeiro, and Surinam, relating to the slave trade. 1824-1825\" PDF has List of papers from pages 4 to 8. (These are true PDF page numbers).\n",
        "- Now that you selected pages and selected Universal Document Converter, click on properties right next to Universal Document Converter.\n",
        "- In File format section, make sure PDF document is selected as first option and PDF Standard is Regular PDF, select Data Structure as Bitmapped PDF and leave the rest as default and click OK.\n",
        "- Now click Print on Print window. This will prompt for once for saving .prn file and another for .pdf file for extracted pages. Note that these files are saved under \"Slave Trade Volume 10\" -> \"extracted\" folder.\n",
        "- Now we will be running following code to first list all files and create a volume-wise dictionary with its corresponding list of collections first."
      ]
    },
    {
      "cell_type": "code",
      "execution_count": null,
      "id": "317b17b6",
      "metadata": {
        "id": "317b17b6",
        "outputId": "7d68c3e5-1e67-4b67-bf25-a77e334e6c4a"
      },
      "outputs": [
        {
          "data": {
            "text/plain": [
              "{'Slave Trade Volume 10': ['E:\\\\cu\\\\summer2022\\\\independent-study\\\\lod-images\\\\Slave Trade Volume 10\\\\Class A. Correspondence with the British commissioners at Sierra Leone, the Havannah, Rio de Janeiro, and Surinam, relating to the slave trade. 1824-1825.pdf',\n",
              "  'E:\\\\cu\\\\summer2022\\\\independent-study\\\\lod-images\\\\Slave Trade Volume 10\\\\Class A. Correspondence with the British commissioners at Sierra Leone, the Havannah, Rio de Janeiro, and Surinam, relating to the slave trade. 1825-1826.pdf',\n",
              "  'E:\\\\cu\\\\summer2022\\\\independent-study\\\\lod-images\\\\Slave Trade Volume 10\\\\Class B. Correspondence with foreign powers, relating to the slave trade. 1824-1825.pdf',\n",
              "  'E:\\\\cu\\\\summer2022\\\\independent-study\\\\lod-images\\\\Slave Trade Volume 10\\\\Class B. Correspondence with foreign powers, relating to the slave trade. 1825-1826.pdf'],\n",
              " 'Slave Trade Volume 11': ['E:\\\\cu\\\\summer2022\\\\independent-study\\\\lod-images\\\\Slave Trade Volume 11\\\\Class A. Correspondence with the British commissioners at Sierra Leone, the Havannah, Rio de Janeiro, and Surinam, relating to the slave trade. 1826-1827.pdf',\n",
              "  'E:\\\\cu\\\\summer2022\\\\independent-study\\\\lod-images\\\\Slave Trade Volume 11\\\\Class A. Correspondence with the British commissioners at Sierra Leone, the Havannah, Rio de Janeiro, and Surinam, relating to the slave trade. 1827.pdf',\n",
              "  'E:\\\\cu\\\\summer2022\\\\independent-study\\\\lod-images\\\\Slave Trade Volume 11\\\\Class B. Correspondence with foreign powers, relating to the slave trade. 1826-1827.pdf',\n",
              "  'E:\\\\cu\\\\summer2022\\\\independent-study\\\\lod-images\\\\Slave Trade Volume 11\\\\Class B. Correspondence with foreign powers, relating to the slave trade. 1827.pdf']}"
            ]
          },
          "execution_count": 3,
          "metadata": {},
          "output_type": "execute_result"
        }
      ],
      "source": [
        "root = \"E:\\cu\\summer2022\\independent-study\\lod-images\"\n",
        "assert os.path.exists(root), \"Path does not exists %s\" %root\n",
        "volumes = {folder: os.path.join(root,folder) for folder in os.listdir(root)}\n",
        "volumes_dict = {}\n",
        "for folder, volume in volumes.items():\n",
        "    docs = []\n",
        "    files = os.listdir(os.path.join(root, volume))\n",
        "    assert len(files) >0, \"Empty volume folder %s\" %volume\n",
        "    for doc in files:\n",
        "        assert os.path.exists(os.path.join(root, volume, doc)), \"File does not exist %s\" %doc\n",
        "        if not os.path.isdir(os.path.join(volume,doc)) and os.path.splitext(doc)[1] == '.pdf':\n",
        "            docs.append(os.path.join(volume,doc))\n",
        "    volumes_dict[folder] = []\n",
        "    volumes_dict[folder] = docs\n",
        "volumes_dict"
      ]
    },
    {
      "cell_type": "markdown",
      "id": "4e50d635",
      "metadata": {
        "id": "4e50d635"
      },
      "source": [
        "## Convert extracted \"List of papers\" for each collection into Jpeg Images\n",
        "- First we use volumes dictionary to get volume and corresponding collections list (which are from \"extracted\" folder)\n",
        "- <b> Create a folder named as \"images\". </b>\n",
        "- Then we use pdf2jpg to convert each pdf of \"List of papers\" for collection.\n",
        "- The previous step will create a folder name same as pdf name under \"extracted\\images\" i.e. \"images\" folder we created in step 2 here. Under each of document named folders, we will see each of \"list of papers\" pages saved as jpg files.\n",
        "- Note that each of jpg file is saved as pagenumber_collectionname.jpg."
      ]
    },
    {
      "cell_type": "code",
      "execution_count": null,
      "id": "70deb80c",
      "metadata": {
        "id": "70deb80c",
        "outputId": "cc4d2cf2-4a85-4b7c-807d-6ab263084fdf"
      },
      "outputs": [
        {
          "name": "stdout",
          "output_type": "stream",
          "text": [
            "E:\\cu\\summer2022\\independent-study\\lod-images\\Slave Trade Volume 10\n",
            "E:\\cu\\summer2022\\independent-study\\lod-images\\Slave Trade Volume 10\n",
            "E:\\cu\\summer2022\\independent-study\\lod-images\\Slave Trade Volume 10\n",
            "E:\\cu\\summer2022\\independent-study\\lod-images\\Slave Trade Volume 10\n",
            "E:\\cu\\summer2022\\independent-study\\lod-images\\Slave Trade Volume 11\n",
            "E:\\cu\\summer2022\\independent-study\\lod-images\\Slave Trade Volume 11\n",
            "E:\\cu\\summer2022\\independent-study\\lod-images\\Slave Trade Volume 11\n",
            "E:\\cu\\summer2022\\independent-study\\lod-images\\Slave Trade Volume 11\n"
          ]
        }
      ],
      "source": [
        "lines = []\n",
        "total_check = 0\n",
        "\n",
        "for volume, colls in volumes_dict.items():\n",
        "#colls = volumes_dict['Slave Trade Volume 10']\n",
        "    for doc in colls:\n",
        "        #print(doc)\n",
        "        outputpath = os.path.join(os.path.split(doc)[0], 'images')\n",
        "        print(os.path.split(doc)[0] )\n",
        "        result = pdf2jpg.convert_pdf2jpg(doc, outputpath, dpi=300, pages=\"ALL\")\n",
        "        #print(result)"
      ]
    },
    {
      "cell_type": "markdown",
      "id": "35558f1c",
      "metadata": {
        "id": "35558f1c"
      },
      "source": [
        "## Create Images Volume dictionary\n",
        "- For each volume in root folder, we get all collection folders listed under \"volume name\\extracted\\images\".\n",
        "- For each collection folder, we get all image files, and we also rename each image file to page number.jpg, since each of jpg file is saved as pagenumber_collectionname.jpg, we do not need collection for individual pages since pages are listed under folder named as collectionname."
      ]
    },
    {
      "cell_type": "code",
      "execution_count": null,
      "id": "909ba196",
      "metadata": {
        "id": "909ba196",
        "outputId": "f8678b9d-5ec4-43c3-bd06-b4e50596d8cd",
        "scrolled": true
      },
      "outputs": [
        {
          "name": "stdout",
          "output_type": "stream",
          "text": [
            "True\n",
            "{'Slave Trade Volume 10': 'E:\\\\cu\\\\summer2022\\\\independent-study\\\\lod-images\\\\Slave Trade Volume 10\\\\images', 'Slave Trade Volume 11': 'E:\\\\cu\\\\summer2022\\\\independent-study\\\\lod-images\\\\Slave Trade Volume 11\\\\images'}\n",
            "['0_Class A. Correspondence with the British commissioners at Sierra Leone, the Havannah, Rio de Janeiro, and Surinam, relating to the slave trade. 1824-1825.pdf.jpg', '1_Class A. Correspondence with the British commissioners at Sierra Leone, the Havannah, Rio de Janeiro, and Surinam, relating to the slave trade. 1824-1825.pdf.jpg', '2_Class A. Correspondence with the British commissioners at Sierra Leone, the Havannah, Rio de Janeiro, and Surinam, relating to the slave trade. 1824-1825.pdf.jpg', '3_Class A. Correspondence with the British commissioners at Sierra Leone, the Havannah, Rio de Janeiro, and Surinam, relating to the slave trade. 1824-1825.pdf.jpg']\n",
            "renaming file 0_Class A. Correspondence with the British commissioners at Sierra Leone, the Havannah, Rio de Janeiro, and Surinam, relating to the slave trade. 1824-1825.pdf.jpg 1.jpg\n",
            "renaming file 1_Class A. Correspondence with the British commissioners at Sierra Leone, the Havannah, Rio de Janeiro, and Surinam, relating to the slave trade. 1824-1825.pdf.jpg 2.jpg\n",
            "renaming file 2_Class A. Correspondence with the British commissioners at Sierra Leone, the Havannah, Rio de Janeiro, and Surinam, relating to the slave trade. 1824-1825.pdf.jpg 3.jpg\n",
            "renaming file 3_Class A. Correspondence with the British commissioners at Sierra Leone, the Havannah, Rio de Janeiro, and Surinam, relating to the slave trade. 1824-1825.pdf.jpg 4.jpg\n",
            "['0_Class A. Correspondence with the British commissioners at Sierra Leone, the Havannah, Rio de Janeiro, and Surinam, relating to the slave trade. 1825-1826.pdf.jpg', '1_Class A. Correspondence with the British commissioners at Sierra Leone, the Havannah, Rio de Janeiro, and Surinam, relating to the slave trade. 1825-1826.pdf.jpg', '2_Class A. Correspondence with the British commissioners at Sierra Leone, the Havannah, Rio de Janeiro, and Surinam, relating to the slave trade. 1825-1826.pdf.jpg', '3_Class A. Correspondence with the British commissioners at Sierra Leone, the Havannah, Rio de Janeiro, and Surinam, relating to the slave trade. 1825-1826.pdf.jpg']\n",
            "renaming file 0_Class A. Correspondence with the British commissioners at Sierra Leone, the Havannah, Rio de Janeiro, and Surinam, relating to the slave trade. 1825-1826.pdf.jpg 1.jpg\n",
            "renaming file 1_Class A. Correspondence with the British commissioners at Sierra Leone, the Havannah, Rio de Janeiro, and Surinam, relating to the slave trade. 1825-1826.pdf.jpg 2.jpg\n",
            "renaming file 2_Class A. Correspondence with the British commissioners at Sierra Leone, the Havannah, Rio de Janeiro, and Surinam, relating to the slave trade. 1825-1826.pdf.jpg 3.jpg\n",
            "renaming file 3_Class A. Correspondence with the British commissioners at Sierra Leone, the Havannah, Rio de Janeiro, and Surinam, relating to the slave trade. 1825-1826.pdf.jpg 4.jpg\n",
            "['0_Class B. Correspondence with foreign powers, relating to the slave trade. 1824-1825.pdf.jpg', '1_Class B. Correspondence with foreign powers, relating to the slave trade. 1824-1825.pdf.jpg', '2_Class B. Correspondence with foreign powers, relating to the slave trade. 1824-1825.pdf.jpg', '3_Class B. Correspondence with foreign powers, relating to the slave trade. 1824-1825.pdf.jpg']\n",
            "renaming file 0_Class B. Correspondence with foreign powers, relating to the slave trade. 1824-1825.pdf.jpg 1.jpg\n",
            "renaming file 1_Class B. Correspondence with foreign powers, relating to the slave trade. 1824-1825.pdf.jpg 2.jpg\n",
            "renaming file 2_Class B. Correspondence with foreign powers, relating to the slave trade. 1824-1825.pdf.jpg 3.jpg\n",
            "renaming file 3_Class B. Correspondence with foreign powers, relating to the slave trade. 1824-1825.pdf.jpg 4.jpg\n",
            "['0_Class B. Correspondence with foreign powers, relating to the slave trade. 1825-1826.pdf.jpg', '1_Class B. Correspondence with foreign powers, relating to the slave trade. 1825-1826.pdf.jpg', '2_Class B. Correspondence with foreign powers, relating to the slave trade. 1825-1826.pdf.jpg', '3_Class B. Correspondence with foreign powers, relating to the slave trade. 1825-1826.pdf.jpg', '4_Class B. Correspondence with foreign powers, relating to the slave trade. 1825-1826.pdf.jpg']\n",
            "renaming file 0_Class B. Correspondence with foreign powers, relating to the slave trade. 1825-1826.pdf.jpg 1.jpg\n",
            "renaming file 1_Class B. Correspondence with foreign powers, relating to the slave trade. 1825-1826.pdf.jpg 2.jpg\n",
            "renaming file 2_Class B. Correspondence with foreign powers, relating to the slave trade. 1825-1826.pdf.jpg 3.jpg\n",
            "renaming file 3_Class B. Correspondence with foreign powers, relating to the slave trade. 1825-1826.pdf.jpg 4.jpg\n",
            "renaming file 4_Class B. Correspondence with foreign powers, relating to the slave trade. 1825-1826.pdf.jpg 5.jpg\n",
            "['0_Class A. Correspondence with the British commissioners at Sierra Leone, the Havannah, Rio de Janeiro, and Surinam, relating to the slave trade. 1826-1827.pdf.jpg', '1_Class A. Correspondence with the British commissioners at Sierra Leone, the Havannah, Rio de Janeiro, and Surinam, relating to the slave trade. 1826-1827.pdf.jpg', '2_Class A. Correspondence with the British commissioners at Sierra Leone, the Havannah, Rio de Janeiro, and Surinam, relating to the slave trade. 1826-1827.pdf.jpg', '3_Class A. Correspondence with the British commissioners at Sierra Leone, the Havannah, Rio de Janeiro, and Surinam, relating to the slave trade. 1826-1827.pdf.jpg']\n",
            "renaming file 0_Class A. Correspondence with the British commissioners at Sierra Leone, the Havannah, Rio de Janeiro, and Surinam, relating to the slave trade. 1826-1827.pdf.jpg 1.jpg\n",
            "renaming file 1_Class A. Correspondence with the British commissioners at Sierra Leone, the Havannah, Rio de Janeiro, and Surinam, relating to the slave trade. 1826-1827.pdf.jpg 2.jpg\n",
            "renaming file 2_Class A. Correspondence with the British commissioners at Sierra Leone, the Havannah, Rio de Janeiro, and Surinam, relating to the slave trade. 1826-1827.pdf.jpg 3.jpg\n",
            "renaming file 3_Class A. Correspondence with the British commissioners at Sierra Leone, the Havannah, Rio de Janeiro, and Surinam, relating to the slave trade. 1826-1827.pdf.jpg 4.jpg\n",
            "['0_Class A. Correspondence with the British commissioners at Sierra Leone, the Havannah, Rio de Janeiro, and Surinam, relating to the slave trade. 1827.pdf.jpg', '1_Class A. Correspondence with the British commissioners at Sierra Leone, the Havannah, Rio de Janeiro, and Surinam, relating to the slave trade. 1827.pdf.jpg', '2_Class A. Correspondence with the British commissioners at Sierra Leone, the Havannah, Rio de Janeiro, and Surinam, relating to the slave trade. 1827.pdf.jpg', '3_Class A. Correspondence with the British commissioners at Sierra Leone, the Havannah, Rio de Janeiro, and Surinam, relating to the slave trade. 1827.pdf.jpg']\n",
            "renaming file 0_Class A. Correspondence with the British commissioners at Sierra Leone, the Havannah, Rio de Janeiro, and Surinam, relating to the slave trade. 1827.pdf.jpg 1.jpg\n",
            "renaming file 1_Class A. Correspondence with the British commissioners at Sierra Leone, the Havannah, Rio de Janeiro, and Surinam, relating to the slave trade. 1827.pdf.jpg 2.jpg\n",
            "renaming file 2_Class A. Correspondence with the British commissioners at Sierra Leone, the Havannah, Rio de Janeiro, and Surinam, relating to the slave trade. 1827.pdf.jpg 3.jpg\n",
            "renaming file 3_Class A. Correspondence with the British commissioners at Sierra Leone, the Havannah, Rio de Janeiro, and Surinam, relating to the slave trade. 1827.pdf.jpg 4.jpg\n",
            "['0_Class B. Correspondence with foreign powers, relating to the slave trade. 1826-1827.pdf.jpg', '1_Class B. Correspondence with foreign powers, relating to the slave trade. 1826-1827.pdf.jpg', '2_Class B. Correspondence with foreign powers, relating to the slave trade. 1826-1827.pdf.jpg', '3_Class B. Correspondence with foreign powers, relating to the slave trade. 1826-1827.pdf.jpg', '4_Class B. Correspondence with foreign powers, relating to the slave trade. 1826-1827.pdf.jpg']\n",
            "renaming file 0_Class B. Correspondence with foreign powers, relating to the slave trade. 1826-1827.pdf.jpg 1.jpg\n",
            "renaming file 1_Class B. Correspondence with foreign powers, relating to the slave trade. 1826-1827.pdf.jpg 2.jpg\n",
            "renaming file 2_Class B. Correspondence with foreign powers, relating to the slave trade. 1826-1827.pdf.jpg 3.jpg\n",
            "renaming file 3_Class B. Correspondence with foreign powers, relating to the slave trade. 1826-1827.pdf.jpg 4.jpg\n",
            "renaming file 4_Class B. Correspondence with foreign powers, relating to the slave trade. 1826-1827.pdf.jpg 5.jpg\n",
            "['0_Class B. Correspondence with foreign powers, relating to the slave trade. 1827.pdf.jpg', '1_Class B. Correspondence with foreign powers, relating to the slave trade. 1827.pdf.jpg', '2_Class B. Correspondence with foreign powers, relating to the slave trade. 1827.pdf.jpg']\n",
            "renaming file 0_Class B. Correspondence with foreign powers, relating to the slave trade. 1827.pdf.jpg 1.jpg\n",
            "renaming file 1_Class B. Correspondence with foreign powers, relating to the slave trade. 1827.pdf.jpg 2.jpg\n",
            "renaming file 2_Class B. Correspondence with foreign powers, relating to the slave trade. 1827.pdf.jpg 3.jpg\n"
          ]
        }
      ],
      "source": [
        "root = \"E:\\cu\\summer2022\\independent-study\\lod-images\"\n",
        "print(os.path.exists(root))\n",
        "volumes_imgs = {folder: os.path.join(root,folder, 'images') for folder in os.listdir(root)}\n",
        "volumes_img_dict = {}\n",
        "print(volumes_imgs)\n",
        "for folder, volume in volumes_imgs.items():\n",
        "    colls = [ os.path.join(volume,col) for col in os.listdir(volume)]\n",
        "    #print(colls)\n",
        "    for coll in colls:\n",
        "        imgs = []\n",
        "        files = os.listdir(coll)\n",
        "        print(files)\n",
        "        #rename first and then\n",
        "        for pg,file in enumerate(files):\n",
        "            if not os.path.isdir(os.path.join(coll,file)) and os.path.splitext(file)[1] == '.jpg':\n",
        "                dest = os.path.join(os.path.split(file)[0], str(pg+1)+\".jpg\")\n",
        "                if os.path.basename(dest) not in files:\n",
        "                    os.rename(os.path.join(coll,file), os.path.join(coll,dest)) #uncomment this line only if you want to change the those long filenames.\n",
        "                    print(\"renaming file\",file, dest )\n",
        "        files = os.listdir(coll)\n",
        "        for file in files:\n",
        "            imgs.append(os.path.join(coll,file))\n",
        "        volumes_img_dict[coll] = []\n",
        "        volumes_img_dict[coll] = imgs"
      ]
    },
    {
      "cell_type": "markdown",
      "id": "feffe231",
      "metadata": {
        "id": "feffe231"
      },
      "source": [
        "## Convert Image to string using Tesseract\n",
        "- We can see text extracted from image is scattered, original structure is NOT preserved as well as there are some random special characters."
      ]
    },
    {
      "cell_type": "code",
      "execution_count": null,
      "id": "9d0b5fd4",
      "metadata": {
        "id": "9d0b5fd4",
        "outputId": "f6d46de7-13a5-4596-8061-0d9d7709a8fd"
      },
      "outputs": [
        {
          "name": "stdout",
          "output_type": "stream",
          "text": [
            "Class A.\n",
            "\n",
            "LIST\n",
            "\n",
            "OF PAPERS\n",
            "\n",
            "SIERRA LEONE.\n",
            "\n",
            "No.\n",
            "\n",
            "1, Mr. Sec’ Canning to H. M’s. Comm”\n",
            "\n",
            "One Enclosure\n",
            "\n",
            "Mr. Sec! Canning to H, M’s. Comm™\n",
            "3. H. M’s. Comm\" to Mr. SecYCanning = -\n",
            "4. E. Gregory, Esq. to Mr. Sec? Canning = -\n",
            "5. E. Gregory, Esq. to Mr. Sect Canning\n",
            "6. E. Gregory, Esq. to Mr. See? Canning\n",
            "7. E. Gregory, Esq. to Mr. Sect Canning\n",
            "8. E. Gregory, Esq. to Mr. Sec! Canning\n",
            "9. Mr. Sec! Canning to H. M’s, Comm? ~\n",
            "\n",
            "2.\n",
            "\n",
            "Four Enclosures\n",
            "\n",
            "10. H. M’s. Comm® to Mr. Sec? Canning\n",
            "11. D. M. Hamilton, Esq. to Mr. See Canning\n",
            "12. Mr, Sec? Canning to D. M. Hamilton, Esq.\n",
            "18. Mr, Sec! Canning to D. M. Hamilton, Esq.\n",
            "\n",
            "> S eae\n",
            "\n",
            "|\n",
            "\n",
            "Bale & Receipt. *\n",
            "\n",
            "DB\n",
            "\n",
            "v BD Be PH PS FS BP =\n",
            "\n",
            "(General.)\n",
            "\n",
            "SUBJECT,\n",
            "June sta Slaves ou board at time of detention\n",
            "\n",
            "Juei8-— Papers laid before Parliament oe\n",
            "Ky u—~ Annual Report . 2. . 2...\n",
            "oat ¢—— Proceeds of Sales . . . .\n",
            "\n",
            "oc — Mess. Worrall, Magnus, & Bidwell\n",
            "se 3—~ Instruction to Mr. Con.-Gen. Clarke\n",
            "NET— Receipt of Despatches\n",
            "\n",
            "Ree i—— Receipt of No.2 2. 2...\n",
            "\n",
            "Nov.20 © Consolidation Act . 2. 2. ,\n",
            "tis. tie Receipt of No.9, . 2 eo.\n",
            "\n",
            "na. 7—~ Death of Mr.Gregory. . 2...\n",
            "apilé—— Approbation of Conduct . . . .\n",
            "Aptis Death of Mr, Gregory . . 1.\n",
            "\n",
            "SIERRA LEONE.\n",
            "\n",
            "D. M. Hamilton, Esq. to J. Planta, jun. Esq.\n",
            "\n",
            "15. H. M’s. Comm. to Mr. Sec’ Canning\n",
            "16. E. Gregory, Esq. to Mr. Sec! Canning = -\n",
            "17, E. Gregory, Esq. to Mr. Sec! Canning\n",
            "\n",
            "18, Lord Howard de Walden to E. Gregory, Esq. -\n",
            "Two Enclosures\n",
            "\n",
            "19. G. Rendall, Esq. to J. Bandinel, Esq.\n",
            "20, H.M’s, Comm” to Mr, Sec? Canning -\n",
            "\n",
            "21. E. Gregory, Esq. to Lord Howard de Walden ~\n",
            "\n",
            "22. D. M. Hamilton, Esq. to Mr. Sec! Canning\n",
            "23. D. M. Hamilton, Esq. to Mr. Sec? Canning\n",
            "24, E. Gregory, Esq. to Mr. Sec! Canning\n",
            "25. H. M’s. Comm® to Mr. Sec? Canning =~\n",
            "26. Mr. Sec Canning to D. M. Hamilton Esq.\n",
            "27. Mr. Sec’ Canning to E. Gregory, Esq.  ~\n",
            "\n",
            "28. J. Planta, jun. Esq. to D. M. Hamilton, Esq.\n",
            "\n",
            "29. Mr. Sec! Canning to W. Smith, Esq.  -\n",
            "30. Mr. Sec* Canning to H, M’s Comm® ~\n",
            "81. J. Reffell, Esq. to Mr, Sec’ Canning\n",
            "\n",
            "D.\n",
            "\n",
            "o PE mo mb po\n",
            "\n",
            "Popo PD po py\n",
            "\n",
            "F2> So Y » 5\n",
            "\n",
            "(Separate. )\n",
            "\n",
            ": Jnca * Mr. Hamilton’s Appointment . .\n",
            ": ode — Salary during Absence . . .\n",
            "\" eti-— Mr. Hamilton and Mr. Woods . .\n",
            "- jitex —- Seat in the Council... . . .\n",
            "\n",
            "aye 6— Ditto. 2... 1. ee\n",
            "ind g-~ Emancipated Slaves . 2...\n",
            ". Use 3-—~ Thanks for Approbation . . . .\n",
            ". Santisias Seatin the Council... : .°. ,\n",
            "(Ratibims Josefa... wy ke,\n",
            "\n",
            "Facies Leave of Absence . . . . ,\n",
            "» Jar Bik Provisional leave of Absence. . .\n",
            ": Jawigies Mess, Magnus, Bidwell, & Worrall\n",
            "\n",
            "in it—— Leaveof Absence . . . ,\n",
            "\n",
            ". Jan. 24——_ Provisional Leave of Absence .\n",
            "\n",
            "Maram Josefa . . 2. 1. we\n",
            "\n",
            ". Mavai—+ Appointment. .9. 2. . . .\n",
            "\n",
            "/ Mati Mr,Smith. . . . . 2.4,\n",
            "}» Sane 27\n",
            "\n",
            "Ma.we—~ Appointment, ad interim .. .\n",
            "\n",
            "‘SIERRA LEONE. (Spain.)\n",
            "\n",
            "32. Mr. Sec! Canning to H.M’s. Comm\" =~\n",
            "83, H. M’s. Comm* to Mr. Sect Canning ~\n",
            "34. H. M’s. Comm\" to Mr. Sec! Canning\n",
            "35. Mr. Sec! Canning to H. M. Comm” -\n",
            "36. H. M’s, Comm\" to Mr. Sec? Caming = -\n",
            "\n",
            "BROS Bp BE oy\n",
            "\n",
            ". my oi Fabiana , . . . ok ke\n",
            "\n",
            "Hine g-—~ Conchita . . . . 4, .\n",
            " Miesi7~ Additional Articles of Dec. 1822 :\n",
            ". day 5—— Sailing of Vessels for Afvicea .  ,\n",
            "- gin Mr. Hamilton . . 2. 1.\n",
            "\n",
            "Page\n",
            "\n",
            "27\n",
            "27\n",
            "33\n",
            "33\n",
            "33\n",
            "\n"
          ]
        }
      ],
      "source": [
        "key = list(volumes_img_dict.keys())[0]\n",
        "file = volumes_img_dict[key][0]\n",
        "print(pytesseract.image_to_string(file, timeout=2000))"
      ]
    }
  ],
  "metadata": {
    "colab": {
      "provenance": []
    },
    "kernelspec": {
      "display_name": "Python 3 (ipykernel)",
      "language": "python",
      "name": "python3"
    },
    "language_info": {
      "codemirror_mode": {
        "name": "ipython",
        "version": 3
      },
      "file_extension": ".py",
      "mimetype": "text/x-python",
      "name": "python",
      "nbconvert_exporter": "python",
      "pygments_lexer": "ipython3",
      "version": "3.9.12"
    }
  },
  "nbformat": 4,
  "nbformat_minor": 5
}
