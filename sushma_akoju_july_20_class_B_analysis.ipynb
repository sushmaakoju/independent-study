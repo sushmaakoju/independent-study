{
  "cells": [
    {
      "cell_type": "markdown",
      "metadata": {},
      "source": [
        "## Text extraction from OCR scanned Handwritten Slave Trade Volumes\n",
        "Supervisor: Prof. Henry Lovejoy for the Digital Slavery Research Lab\n",
        "\n",
        "Author: Sushma Akoju (Sushma Anand Akoju)"
      ]
    },
    {
      "cell_type": "markdown",
      "metadata": {},
      "source": [
        "### Class B Document Analysis and Text Extractions from Slave Trade Volumnes\n",
        "### British Parliamentary Papers"
      ]
    },
    {
      "cell_type": "markdown",
      "metadata": {
        "id": "aKZcR2VxUIGv"
      },
      "source": [
        "Install Gcloud, google python api for OAuth i.e Authentication tokens, Google Cloud and Google Cloud Document AI packages. Remember you will have to Restart Colab session after this installation step."
      ]
    },
    {
      "cell_type": "code",
      "execution_count": null,
      "metadata": {
        "colab": {
          "base_uri": "https://localhost:8080/"
        },
        "id": "TamXzz-rXzg1",
        "outputId": "20a35873-51ef-4b7c-b1d9-907e3cc8b2e0"
      },
      "outputs": [],
      "source": [
        "!pip install gcloud\n",
        "!pip install google-api-python-client\n",
        "!pip install google-cloud\n",
        "!pip install google-cloud-documentai"
      ]
    },
    {
      "cell_type": "code",
      "execution_count": null,
      "metadata": {
        "id": "o2AHs5Kwqrob"
      },
      "outputs": [],
      "source": [
        "# NotebookApp.iopub_data_rate_limit=1000000.0 (bytes/sec)\n",
        "# NotebookApp.rate_limit_window=3.0 (secs)"
      ]
    },
    {
      "cell_type": "markdown",
      "metadata": {
        "id": "u6ZlcH6uUKHa"
      },
      "source": [
        "Create test Authentication method."
      ]
    },
    {
      "cell_type": "code",
      "execution_count": null,
      "metadata": {
        "id": "KR5uvxHHDJQx"
      },
      "outputs": [],
      "source": [
        "from google.cloud import documentai_v1beta3\n",
        "import pprint\n",
        "\n",
        "def sample_create_processor():\n",
        "    # Create a client\n",
        "    client = documentai_v1beta3.DocumentProcessorServiceClient()\n",
        "\n",
        "    # Initialize request argument(s)\n",
        "    request = documentai_v1beta3.CreateProcessorRequest(\n",
        "        parent=\"parent_value\",\n",
        "    )\n",
        "\n",
        "    # Make the request\n",
        "    response = client.create_processor(request=request)\n",
        "\n",
        "    # Handle the response\n",
        "    pprint.pprint(response)"
      ]
    },
    {
      "cell_type": "code",
      "execution_count": null,
      "metadata": {
        "id": "EjqOytEdE5Aj"
      },
      "outputs": [],
      "source": [
        "# sample_create_processor()"
      ]
    },
    {
      "cell_type": "markdown",
      "metadata": {
        "id": "Zh5nU0vjUNc0"
      },
      "source": [
        "Mount the drive"
      ]
    },
    {
      "cell_type": "code",
      "execution_count": null,
      "metadata": {
        "colab": {
          "base_uri": "https://localhost:8080/"
        },
        "id": "sZbVroQgGHHM",
        "outputId": "65f05ea2-d8ff-4a96-c4ca-f01b1905988f"
      },
      "outputs": [
        {
          "name": "stdout",
          "output_type": "stream",
          "text": [
            "Drive already mounted at /content/drive; to attempt to forcibly remount, call drive.mount(\"/content/drive\", force_remount=True).\n"
          ]
        }
      ],
      "source": [
        "from google.colab import drive\n",
        "drive.mount('/content/drive')"
      ]
    },
    {
      "cell_type": "code",
      "execution_count": null,
      "metadata": {
        "colab": {
          "base_uri": "https://localhost:8080/"
        },
        "id": "zrcCKE2eGPpa",
        "outputId": "83e57678-a852-46ef-be91-99f91e21324b"
      },
      "outputs": [
        {
          "name": "stdout",
          "output_type": "stream",
          "text": [
            "/content/drive/MyDrive/Colab Notebooks/slave-trade-volumes/all\n",
            "'Slave Trade Volume 10'  'Slave Trade Volume 11'  'Slave Trade Volume 12'\n"
          ]
        }
      ],
      "source": [
        "%cd /content/drive/MyDrive/Colab\\ Notebooks/slave-trade-volumes/all/\n",
        "!ls"
      ]
    },
    {
      "cell_type": "markdown",
      "metadata": {
        "id": "NErGziOcUPhy"
      },
      "source": [
        "Get all ten page partitions of collections files."
      ]
    },
    {
      "cell_type": "code",
      "execution_count": null,
      "metadata": {
        "id": "mF5VP2y7NAOi"
      },
      "outputs": [],
      "source": [
        "import os\n",
        "path = '/content/drive/MyDrive/Colab Notebooks/slave-trade-volumes/all/'\n",
        "volumes_dict = {folder : os.path.join(path,folder) for folder in os.listdir(path) if \"Slave Trade Volume 12\" not in folder}\n",
        "\n",
        "volumes = [os.path.join(path,folder) for folder in os.listdir(path) if \"Slave Trade Volume 12\" not in folder]\n",
        "\n",
        "classa_docs = {volumes[1]: ['Class A. Correspondence with the British commissioners at Sierra Leone, the Havannah, Rio de Janeiro, and Surinam, relating to the slave trade. 1824-1825',\n",
        "               'Class A. Correspondence with the British commissioners at Sierra Leone, the Havannah, Rio de Janeiro, and Surinam, relating to the slave trade. 1825-1826'],\n",
        "               volumes[0]:['Class A. Correspondence with the British commissioners at Sierra Leone, the Havannah, Rio de Janeiro, and Surinam, relating to the slave trade. 1826-1827',\n",
        "               'Class A. Correspondence with the British commissioners at Sierra Leone, the Havannah, Rio de Janeiro, and Surinam, relating to the slave trade. 1827']}\n",
        "classb_docs = {volumes[1]: ['Class B. Correspondence with foreign powers, relating to the slave trade. 1824-1825',\n",
        "               'Class B. Correspondence with foreign powers, relating to the slave trade. 1825-1826'],\n",
        "               volumes[0]: ['Class B. Correspondence with foreign powers, relating to the slave trade. 1826-1827',\n",
        "               'Class B. Correspondence with foreign powers, relating to the slave trade. 1827']}\n",
        "\n",
        "classa_collections = { os.path.basename(volume) : {\n",
        "    doc: [os.path.join(volume,\"tenpages/classa\",coll) for coll in os.listdir(os.path.join(volume, \"tenpages/classa\")) if doc in coll]\n",
        "    for doc in classa_docs[volume]} for volume in volumes}\n",
        "\n",
        "classb_collections = { os.path.basename(volume) : {\n",
        "    doc : [os.path.join(volume,\"tenpages/classb\",coll) for coll in os.listdir(os.path.join(volume, \"tenpages/classb\")) if doc in coll]\n",
        "    for doc in classb_docs[volume]} for volume in volumes}\n",
        "tocs = { os.path.basename(volume) : [os.path.join(volume,\"tenpages/\",coll) for coll in os.listdir(os.path.join(volume, \"tenpages\")) if \"toc\" in coll] for volume in volumes}\n",
        "\n",
        "#classa_collections, classb_collections, tocs"
      ]
    },
    {
      "cell_type": "code",
      "execution_count": null,
      "metadata": {
        "colab": {
          "base_uri": "https://localhost:8080/"
        },
        "id": "a3OHnUqBpzhP",
        "outputId": "2d0e683c-812a-457a-a218-95ff27446155"
      },
      "outputs": [],
      "source": [
        "classb_collections"
      ]
    },
    {
      "cell_type": "markdown",
      "metadata": {
        "id": "AvTRMSnJUVhK"
      },
      "source": [
        "Check Partition counters"
      ]
    },
    {
      "cell_type": "code",
      "execution_count": null,
      "metadata": {
        "id": "CqkMEDa7it8M"
      },
      "outputs": [],
      "source": [
        "partition_counters =  {}\n",
        "for vol, docs in classb_collections.items():\n",
        "  for doc_name, file_paths in docs.items():\n",
        "    partition_counters[doc_name] = 0\n",
        "    for file_path in file_paths:\n",
        "      if doc_name in file_path:\n",
        "        partition_counters[doc_name] += 1"
      ]
    },
    {
      "cell_type": "code",
      "execution_count": null,
      "metadata": {
        "colab": {
          "base_uri": "https://localhost:8080/"
        },
        "id": "aVXcQVjqlCWw",
        "outputId": "c9fcd580-8bb1-4329-a63b-8cb27e706545"
      },
      "outputs": [
        {
          "data": {
            "text/plain": [
              "{'Class B. Correspondence with foreign powers, relating to the slave trade. 1824-1825': 15,\n",
              " 'Class B. Correspondence with foreign powers, relating to the slave trade. 1825-1826': 19,\n",
              " 'Class B. Correspondence with foreign powers, relating to the slave trade. 1826-1827': 19,\n",
              " 'Class B. Correspondence with foreign powers, relating to the slave trade. 1827': 14}"
            ]
          },
          "execution_count": 61,
          "metadata": {},
          "output_type": "execute_result"
        }
      ],
      "source": [
        "partition_counters"
      ]
    },
    {
      "cell_type": "markdown",
      "metadata": {
        "id": "Rje1k5DXUaAm"
      },
      "source": [
        "Ensure you configured your account with your API: [Setup Document AI](https://cloud.google.com/document-ai/docs/setup )\n",
        "\n",
        "Here we process each of 10-page partitions of each of Collection from each Slave Trade Volume."
      ]
    },
    {
      "cell_type": "code",
      "execution_count": null,
      "metadata": {
        "id": "tN2Wr7KEYm4o"
      },
      "outputs": [],
      "source": [
        "\n",
        "# TODO(developer): Uncomment these variables before running the sample.\n",
        "project_id= 'theorem-prover-4182022'\n",
        "location = 'us' # Format is 'us' or 'eu'\n",
        "processor_id = '38d99862def047aa' # Create processor in Cloud Console\n",
        "file_path = '/content/drive/MyDrive/Colab Notebooks/slave-trade-volumes/all/Slave Trade Volume 10/tenpages/Class A. Correspondence with the British commissioners at Sierra Leone, the Havannah, Rio de Janeiro, and Surinam, relating to the slave trade. 1824-1825.pdf'\n",
        "\n",
        "def process_document_sample(\n",
        "    project_id: str, location: str, processor_id: str, file_path: str, print_flag:bool\n",
        "):\n",
        "    from google.cloud import documentai_v1 as documentai\n",
        "    from google.oauth2 import service_account\n",
        "\n",
        "    client = documentai.DocumentProcessorServiceClient.from_service_account_json(\"/content/drive/MyDrive/Colab Notebooks/documentai/theorem-prover-4182022-62dfbc9d2f0f.json\")\n",
        "\n",
        "    # You must set the api_endpoint if you use a location other than 'us', e.g.:\n",
        "    opts = {}\n",
        "    if location == \"us\":\n",
        "        opts = {\"api_endpoint\": \"us-documentai.googleapis.com\",\n",
        "                \"credentials_file\":\"/content/drive/MyDrive/Colab Notebooks/documentai/theorem-prover-4182022-62dfbc9d2f0f.json\"}\n",
        "\n",
        "    client = documentai.DocumentProcessorServiceClient(client_options=opts)\n",
        "\n",
        "    # The full resource name of the processor, e.g.:\n",
        "    # projects/project-id/locations/location/processor/processor-id\n",
        "    # You must create new processors in the Cloud Console first\n",
        "    name = f\"projects/{project_id}/locations/{location}/processors/{processor_id}\"\n",
        "\n",
        "    with open(file_path, \"rb\") as image:\n",
        "        image_content = image.read()\n",
        "\n",
        "    # Read the file into memory\n",
        "    document = {\"content\": image_content, \"mime_type\": \"application/pdf\"}\n",
        "\n",
        "    # Configure the process request\n",
        "    request = {\"name\": name, \"raw_document\": document}\n",
        "\n",
        "    # Recognizes text entities in the PDF document\n",
        "    result = client.process_document(request=request)\n",
        "\n",
        "    document = result.document\n",
        "\n",
        "    print(\"Document processing complete.\")\n",
        "\n",
        "    # For a full list of Document object attributes, please reference this page: https://googleapis.dev/python/documentai/latest/_modules/google/cloud/documentai_v1beta3/types/document.html#Document\n",
        "\n",
        "    document_pages = document.pages\n",
        "\n",
        "    # Read the text recognition output from the processor\n",
        "    if print_flag:\n",
        "      print(\"The document contains the following paragraphs:\")\n",
        "      for page in document_pages:\n",
        "          paragraphs = page.paragraphs\n",
        "          for paragraph in paragraphs:\n",
        "              paragraph_text = get_text(paragraph.layout, document)\n",
        "              print(f\"Paragraph text: {paragraph_text}\")\n",
        "    return document\n",
        "\n",
        "\n",
        "# Extract shards from the text field\n",
        "def get_text(doc_element: dict, document: dict):\n",
        "    \"\"\"\n",
        "    Document AI identifies form fields by their offsets\n",
        "    in document text. This function converts offsets\n",
        "    to text snippets.\n",
        "    \"\"\"\n",
        "    response = \"\"\n",
        "    # If a text segment spans several lines, it will\n",
        "    # be stored in different text segments.\n",
        "    for segment in doc_element.text_anchor.text_segments:\n",
        "        start_index = (\n",
        "            int(segment.start_index)\n",
        "            if segment in doc_element.text_anchor.text_segments\n",
        "            else 0\n",
        "        )\n",
        "        end_index = int(segment.end_index)\n",
        "        response += document.text[start_index:end_index]\n",
        "    return response\n"
      ]
    },
    {
      "cell_type": "markdown",
      "metadata": {
        "id": "OsAb6uWEUhuf"
      },
      "source": [
        "Some of Helper methods from Google Document AI to exmaine the the Output & options."
      ]
    },
    {
      "cell_type": "code",
      "execution_count": null,
      "metadata": {
        "id": "BxYroWiQWquk"
      },
      "outputs": [],
      "source": [
        "\n",
        "def print_page_dimensions(dimension: dict) -> None:\n",
        "    print(f\"    Width: {str(dimension.width)}\")\n",
        "    print(f\"    Height: {str(dimension.height)}\")\n",
        "\n",
        "\n",
        "def print_detected_langauges(detected_languages: dict) -> None:\n",
        "    print(\"    Detected languages:\")\n",
        "    for lang in detected_languages:\n",
        "        code = lang.language_code\n",
        "        conf_percent = \"{:.1%}\".format(lang.confidence)\n",
        "        print(f\"        {code} ({conf_percent} confidence)\")\n",
        "\n",
        "\n",
        "def print_paragraphs(paragraphs: dict, text: str) -> None:\n",
        "    print(f\"    {len(paragraphs)} paragraphs detected:\")\n",
        "    first_paragraph_text = layout_to_text(paragraphs[0].layout, text)\n",
        "    print(f\"        First paragraph text: {repr(first_paragraph_text)}\")\n",
        "    last_paragraph_text = layout_to_text(paragraphs[-1].layout, text)\n",
        "    print(f\"        Last paragraph text: {repr(last_paragraph_text)}\")\n",
        "\n",
        "\n",
        "def print_blocks(blocks: dict, text: str) -> None:\n",
        "    print(f\"    {len(blocks)} blocks detected:\")\n",
        "    first_block_text = layout_to_text(blocks[0].layout, text)\n",
        "    print(f\"        First text block: {repr(first_block_text)}\")\n",
        "    last_block_text = layout_to_text(blocks[-1].layout, text)\n",
        "    print(f\"        Last text block: {repr(last_block_text)}\")\n",
        "\n",
        "\n",
        "def print_lines(lines: dict, text: str) -> None:\n",
        "    print(f\"    {len(lines)} lines detected:\")\n",
        "    first_line_text = layout_to_text(lines[0].layout, text)\n",
        "    print(f\"        First line text: {repr(first_line_text)}\")\n",
        "    last_line_text = layout_to_text(lines[-1].layout, text)\n",
        "    print(f\"        Last line text: {repr(last_line_text)}\")\n",
        "\n",
        "\n",
        "def print_tokens(tokens: dict, text: str) -> None:\n",
        "    print(f\"    {len(tokens)} tokens detected:\")\n",
        "    first_token_text = layout_to_text(tokens[0].layout, text)\n",
        "    first_token_break_type = tokens[0].detected_break.type_.name\n",
        "    print(f\"        First token text: {repr(first_token_text)}\")\n",
        "    print(f\"        First token break type: {repr(first_token_break_type)}\")\n",
        "    last_token_text = layout_to_text(tokens[-1].layout, text)\n",
        "    last_token_break_type = tokens[-1].detected_break.type_.name\n",
        "    print(f\"        Last token text: {repr(last_token_text)}\")\n",
        "    print(f\"        Last token break type: {repr(last_token_break_type)}\")\n",
        "\n",
        "\n",
        "def layout_to_text(layout: dict, text: str) -> str:\n",
        "    \"\"\"\n",
        "    Document AI identifies text in different parts of the document by their\n",
        "    offsets in the entirity of the document's text. This function converts\n",
        "    offsets to a string.\n",
        "    \"\"\"\n",
        "    response = \"\"\n",
        "    # If a text segment spans several lines, it will\n",
        "    # be stored in different text segments.\n",
        "    for segment in layout.text_anchor.text_segments:\n",
        "        start_index = (\n",
        "            int(segment.start_index)\n",
        "            if segment in layout.text_anchor.text_segments\n",
        "            else 0\n",
        "        )\n",
        "        end_index = int(segment.end_index)\n",
        "        response += text[start_index:end_index]\n",
        "    return response\n"
      ]
    },
    {
      "cell_type": "markdown",
      "metadata": {
        "id": "nltemQ5fUnEk"
      },
      "source": [
        "### List of Papers:\n",
        "We save JSON responses, blocks and paragraphs into seperate dictionaries."
      ]
    },
    {
      "cell_type": "code",
      "execution_count": null,
      "metadata": {
        "colab": {
          "base_uri": "https://localhost:8080/"
        },
        "id": "x8eunsD0b5JI",
        "outputId": "89c425d3-00c4-41c1-872a-71845cf21388"
      },
      "outputs": [
        {
          "name": "stdout",
          "output_type": "stream",
          "text": [
            "This Document Parsing is for /content/drive/MyDrive/Colab Notebooks/slave-trade-volumes/all/Slave Trade Volume 10/tenpages/class-a-tocs.pdf\n",
            "Document processing complete.\n",
            "The document contains the following paragraphs:\n",
            "There are 8 page(s) in this document.\n",
            "\n",
            "Page 1:\n",
            "    Width: 1758.0\n",
            "    Height: 2275.0\n",
            "Page 2:\n",
            "    Width: 1758.0\n",
            "    Height: 2275.0\n",
            "Page 3:\n",
            "    Width: 1758.0\n",
            "    Height: 2275.0\n",
            "Page 4:\n",
            "    Width: 1758.0\n",
            "    Height: 2275.0\n",
            "Page 5:\n",
            "    Width: 1758.0\n",
            "    Height: 2275.0\n",
            "Page 6:\n",
            "    Width: 1758.0\n",
            "    Height: 2275.0\n",
            "Page 7:\n",
            "    Width: 1758.0\n",
            "    Height: 2275.0\n",
            "Page 8:\n",
            "    Width: 1758.0\n",
            "    Height: 2275.0\n",
            "This Document Parsing is for /content/drive/MyDrive/Colab Notebooks/slave-trade-volumes/all/Slave Trade Volume 10/tenpages/class-b-tocs.pdf\n",
            "Document processing complete.\n",
            "The document contains the following paragraphs:\n",
            "There are 9 page(s) in this document.\n",
            "\n",
            "Page 1:\n",
            "    Width: 1758.0\n",
            "    Height: 2275.0\n",
            "Page 2:\n",
            "    Width: 1758.0\n",
            "    Height: 2275.0\n",
            "Page 3:\n",
            "    Width: 1758.0\n",
            "    Height: 2275.0\n",
            "Page 4:\n",
            "    Width: 1758.0\n",
            "    Height: 2275.0\n",
            "Page 5:\n",
            "    Width: 1758.0\n",
            "    Height: 2275.0\n",
            "Page 6:\n",
            "    Width: 1758.0\n",
            "    Height: 2275.0\n",
            "Page 7:\n",
            "    Width: 1758.0\n",
            "    Height: 2275.0\n",
            "Page 8:\n",
            "    Width: 1758.0\n",
            "    Height: 2275.0\n",
            "Page 9:\n",
            "    Width: 1758.0\n",
            "    Height: 2275.0\n",
            "This Document Parsing is for /content/drive/MyDrive/Colab Notebooks/slave-trade-volumes/all/Slave Trade Volume 11/tenpages/class-a-tocs.pdf\n",
            "Document processing complete.\n",
            "The document contains the following paragraphs:\n",
            "There are 8 page(s) in this document.\n",
            "\n",
            "Page 1:\n",
            "    Width: 1758.0\n",
            "    Height: 2275.0\n",
            "Page 2:\n",
            "    Width: 1758.0\n",
            "    Height: 2275.0\n",
            "Page 3:\n",
            "    Width: 1758.0\n",
            "    Height: 2275.0\n",
            "Page 4:\n",
            "    Width: 1758.0\n",
            "    Height: 2275.0\n",
            "Page 5:\n",
            "    Width: 1758.0\n",
            "    Height: 2275.0\n",
            "Page 6:\n",
            "    Width: 1758.0\n",
            "    Height: 2275.0\n",
            "Page 7:\n",
            "    Width: 1758.0\n",
            "    Height: 2275.0\n",
            "Page 8:\n",
            "    Width: 1758.0\n",
            "    Height: 2275.0\n",
            "This Document Parsing is for /content/drive/MyDrive/Colab Notebooks/slave-trade-volumes/all/Slave Trade Volume 11/tenpages/class-b-tocs.pdf\n",
            "Document processing complete.\n",
            "The document contains the following paragraphs:\n",
            "There are 8 page(s) in this document.\n",
            "\n",
            "Page 1:\n",
            "    Width: 1758.0\n",
            "    Height: 2275.0\n",
            "Page 2:\n",
            "    Width: 1758.0\n",
            "    Height: 2275.0\n",
            "Page 3:\n",
            "    Width: 1758.0\n",
            "    Height: 2275.0\n",
            "Page 4:\n",
            "    Width: 1758.0\n",
            "    Height: 2275.0\n",
            "Page 5:\n",
            "    Width: 1758.0\n",
            "    Height: 2275.0\n",
            "Page 6:\n",
            "    Width: 1758.0\n",
            "    Height: 2275.0\n",
            "Page 7:\n",
            "    Width: 1758.0\n",
            "    Height: 2275.0\n",
            "Page 8:\n",
            "    Width: 1758.0\n",
            "    Height: 2275.0\n"
          ]
        }
      ],
      "source": [
        "file_name = os.path.basename(tocs['Slave Trade Volume 10'][1])\n",
        "class_a = tocs['Slave Trade Volume 10'][1]\n",
        "file_paths = ['/content/drive/MyDrive/Colab Notebooks/slave-trade-volumes/all/Slave Trade Volume 10/tenpages/class-a-tocs.pdf',\n",
        "              '/content/drive/MyDrive/Colab Notebooks/slave-trade-volumes/all/Slave Trade Volume 10/tenpages/class-b-tocs.pdf',\n",
        "              '/content/drive/MyDrive/Colab Notebooks/slave-trade-volumes/all/Slave Trade Volume 11/tenpages/class-a-tocs.pdf',\n",
        "              '/content/drive/MyDrive/Colab Notebooks/slave-trade-volumes/all/Slave Trade Volume 11/tenpages/class-b-tocs.pdf']\n",
        "\n",
        "text_volumes = {'Slave Trade Volume 10':{\"class_a\":[], \"class_b\":[]}, 'Slave Trade Volume 11':{\"class_a\":[], \"class_b\":[]}}\n",
        "text_blocks = {'Slave Trade Volume 10':{\"class_a\":[], \"class_b\":[]}, 'Slave Trade Volume 11':{\"class_a\":[], \"class_b\":[]}}\n",
        "\n",
        "raw_responses = {'Slave Trade Volume 10':{\"class_a\":[], \"class_b\":[]}, 'Slave Trade Volume 11':{\"class_a\":[], \"class_b\":[]}}\n",
        "\n",
        "for file_path in file_paths:\n",
        "  if \"Slave Trade Volume 10\" in file_path:\n",
        "    vol = \"Slave Trade Volume 10\"\n",
        "  else:\n",
        "    vol = \"Slave Trade Volume 11\"\n",
        "  ten_pages = {}\n",
        "  text_page_blocks = {}\n",
        "  print(\"This Document Parsing is for %s\" %(file_path))\n",
        "  res = process_document_sample(project_id, location, processor_id, file_path, False)\n",
        "  #print(res)\n",
        "  with open(file_path, \"rb\") as image:\n",
        "      image_content = image.read()\n",
        "\n",
        "  # Read the file into memory\n",
        "  doc = {\"content\": image_content, \"mime_type\": \"application/pdf\"}\n",
        "  print(\"The document contains the following paragraphs:\")\n",
        "  document = res\n",
        "  text = res.text\n",
        "  #print(f\"Full document text: {repr(text)}\\n\")\n",
        "  print(f\"There are {len(res.pages)} page(s) in this document.\\n\")\n",
        "  this_coll = \"class_a\" if \"class-a\" in file_path else \"class_b\"\n",
        "  raw_responses[vol][this_coll] = res\n",
        "\n",
        "  for page in document.pages:\n",
        "      print(f\"Page {page.page_number}:\")\n",
        "      print_page_dimensions(page.dimension)\n",
        "\n",
        "      counter = 0\n",
        "      text_page_blocks[page.page_number] = []\n",
        "      ten_pages[page.page_number] = []\n",
        "\n",
        "      for block in page.blocks:\n",
        "\n",
        "        counter += 1\n",
        "        text_page_blocks[page.page_number].append({\"block_number\":counter, \"text\":layout_to_text(block.layout, text)})\n",
        "\n",
        "      # print_detected_langauges(page.detected_languages)\n",
        "      # print_paragraphs(page.paragraphs, text)\n",
        "      # print_blocks(page.blocks, text)\n",
        "      # print_lines(page.lines, text)\n",
        "      # print_tokens(page.tokens, text)\n",
        "      paragraphs = page.paragraphs\n",
        "      para_counter = 0\n",
        "      for paragraph in paragraphs:\n",
        "          response = \"\"\n",
        "          para_counter += 1\n",
        "          # If a text segment spans several lines, it will\n",
        "          # be stored in different text segments.\n",
        "          for segment in paragraph.layout.text_anchor.text_segments:\n",
        "              start_index = (\n",
        "                  int(segment.start_index)\n",
        "                  if segment in paragraph.layout.text_anchor.text_segments\n",
        "                  else 0\n",
        "              )\n",
        "              end_index = int(segment.end_index)\n",
        "              response += document.text[start_index:end_index]        #print(f\"Paragraph text: {paragraph_text}\")\n",
        "          ten_pages[page.page_number].append({\"paragraph_num\":para_counter, \"paragraph\" : response})\n",
        "  text_volumes[vol][this_coll].append(ten_pages)\n",
        "  text_blocks[vol][this_coll].append(text_page_blocks)"
      ]
    },
    {
      "cell_type": "markdown",
      "metadata": {
        "id": "FNce42cfU33P"
      },
      "source": [
        "Check API results for List of papers"
      ]
    },
    {
      "cell_type": "markdown",
      "metadata": {
        "id": "cg85-thNUo2A"
      },
      "source": [
        "Test Exmaples"
      ]
    },
    {
      "cell_type": "code",
      "execution_count": null,
      "metadata": {
        "colab": {
          "base_uri": "https://localhost:8080/"
        },
        "id": "bV7cJpYRfQQO",
        "outputId": "383b1eed-76d2-4614-952a-5d98579af6e5"
      },
      "outputs": [],
      "source": [
        "text_blocks['Slave Trade Volume 10']['class_a']"
      ]
    },
    {
      "cell_type": "code",
      "execution_count": null,
      "metadata": {
        "colab": {
          "base_uri": "https://localhost:8080/"
        },
        "id": "zHO2S0-eoErP",
        "outputId": "fc5a26ad-769b-4eaa-a7d9-2a31be4f47d6"
      },
      "outputs": [],
      "source": [
        "text_volumes['Slave Trade Volume 10']['class_a']"
      ]
    },
    {
      "cell_type": "code",
      "execution_count": null,
      "metadata": {
        "id": "59iv4vF5KRLt"
      },
      "outputs": [],
      "source": [
        "# import json, codecs\n",
        "# import google.cloud\n",
        "\n",
        "# classes = ['class_a', 'class_b']\n",
        "# vols = ['Slave Trade Volume 10', 'Slave Trade Volume 11']\n",
        "# path = '/content/drive/MyDrive/Colab Notebooks/slave-trade-volumes/all/Slave Trade Volume 10/tenpages'\n",
        "# for vol in vols:\n",
        "#   for cl in classes:\n",
        "#     with open(os.path.join(path, vol+\"_\"+cl+\"_json.json\"), 'w') as f:\n",
        "#       this_json_text = google.cloud.documentai_v1.Document.to_json(raw_responses[vol][cl])\n",
        "#       f.write(this_json_text)"
      ]
    },
    {
      "cell_type": "code",
      "execution_count": null,
      "metadata": {
        "colab": {
          "base_uri": "https://localhost:8080/"
        },
        "id": "wA_epTPrAaA5",
        "outputId": "8b863e21-2b8c-4351-d9e0-09a9fdcc4e10"
      },
      "outputs": [
        {
          "data": {
            "text/plain": [
              "('Class B. Correspondence with foreign powers, relating to the slave trade. 1824-1825',\n",
              " 'Part8')"
            ]
          },
          "execution_count": 69,
          "metadata": {},
          "output_type": "execute_result"
        }
      ],
      "source": [
        "l = list(classb_docs.values())[0]\n",
        "l[0], os.path.basename(classb_collections['Slave Trade Volume 10'][l[0]][0])[0:6].strip('_')"
      ]
    },
    {
      "cell_type": "code",
      "execution_count": null,
      "metadata": {
        "colab": {
          "base_uri": "https://localhost:8080/",
          "height": 35
        },
        "id": "J3lD6mdgRmro",
        "outputId": "7138c478-b972-4881-d626-896693e38c03"
      },
      "outputs": [
        {
          "data": {
            "application/vnd.google.colaboratory.intrinsic+json": {
              "type": "string"
            },
            "text/plain": [
              "'Class B. Correspondence with foreign powers, relating to the slave trade. 1824-1825'"
            ]
          },
          "execution_count": 71,
          "metadata": {},
          "output_type": "execute_result"
        }
      ],
      "source": [
        "os.path.basename(classb_collections['Slave Trade Volume 10'][l[0]][0])[6:-4]"
      ]
    },
    {
      "cell_type": "code",
      "execution_count": null,
      "metadata": {
        "colab": {
          "base_uri": "https://localhost:8080/"
        },
        "id": "HXbyhD6TmCBj",
        "outputId": "8de5db7a-649b-406f-ac23-fcc03672c39f"
      },
      "outputs": [
        {
          "data": {
            "text/plain": [
              "str"
            ]
          },
          "execution_count": 72,
          "metadata": {},
          "output_type": "execute_result"
        }
      ],
      "source": [
        "type(this_json_text)"
      ]
    },
    {
      "cell_type": "markdown",
      "metadata": {
        "id": "MTyqBLv8aa0u"
      },
      "source": [
        "Get paragraphs and block level text from Class B collection partitions using Document AI."
      ]
    },
    {
      "cell_type": "code",
      "execution_count": null,
      "metadata": {
        "colab": {
          "base_uri": "https://localhost:8080/"
        },
        "id": "haE_WO_MWbqv",
        "outputId": "fcf1678d-aa41-4c82-9ab3-ffcc605e5e35"
      },
      "outputs": [],
      "source": [
        "\n",
        "import json, codecs\n",
        "import google.cloud\n",
        "\n",
        "doc_text_volumes = {'Slave Trade Volume 10':{\"class_a\":{}, \"class_b\":{}}, 'Slave Trade Volume 11':{\"class_a\":{}, \"class_b\":{}}}\n",
        "doc_text_blocks = {'Slave Trade Volume 10':{\"class_a\": {}, \"class_b\":{}}, 'Slave Trade Volume 11':{\"class_a\":{}, \"class_b\":{}}}\n",
        "\n",
        "doc_raw_responses = {'Slave Trade Volume 10':{\"class_a\":{}, \"class_b\":{}}, 'Slave Trade Volume 11':{\"class_a\":{}, \"class_b\":{}}}\n",
        "\n",
        "this_coll = \"class_b\"\n",
        "\n",
        "for vol, docs in classb_collections.items():\n",
        "\n",
        "  for doc_name, file_paths in docs.items():\n",
        "      doc_raw_responses[vol][this_coll][doc_name] = []\n",
        "      doc_text_volumes[vol][this_coll][doc_name] = []\n",
        "      doc_text_blocks[vol][this_coll][doc_name] = []\n",
        "\n",
        "      for file_path in file_paths:\n",
        "          partition = os.path.basename(file_path)[0:6].strip('_')\n",
        "          print(\"Part %s for Collection name is %s\"%(partition, doc_name ))\n",
        "\n",
        "          ten_pages = {}\n",
        "          text_page_blocks = {}\n",
        "          print(\"This Document Parsing is for %s\" %(file_path))\n",
        "          res = process_document_sample(project_id, location, processor_id, file_path, False)\n",
        "          #print(res)\n",
        "          with open(file_path, \"rb\") as image:\n",
        "              image_content = image.read()\n",
        "\n",
        "          # Read the file into memory\n",
        "          doc = {\"content\": image_content, \"mime_type\": \"application/pdf\"}\n",
        "          print(\"The document contains the following paragraphs:\")\n",
        "          document = res\n",
        "          text = res.text\n",
        "          #print(f\"Full document text: {repr(text)}\\n\")\n",
        "          print(f\"There are {len(res.pages)} page(s) in this document.\\n\")\n",
        "\n",
        "          doc_raw_responses[vol][this_coll][doc_name].append({partition:google.cloud.documentai_v1.Document.to_json(res)})\n",
        "\n",
        "          print(len(document.pages))\n",
        "          for page in document.pages:\n",
        "              print(f\"Page {page.page_number}:\")\n",
        "              print_page_dimensions(page.dimension)\n",
        "\n",
        "              counter = 0\n",
        "              text_page_blocks[page.page_number] = []\n",
        "              ten_pages[page.page_number] = []\n",
        "\n",
        "              for block in page.blocks:\n",
        "\n",
        "                counter += 1\n",
        "                text_page_blocks[page.page_number].append({\"block_number\":counter, \"text\":layout_to_text(block.layout, text)})\n",
        "              paragraphs = page.paragraphs\n",
        "              para_counter = 0\n",
        "              for paragraph in paragraphs:\n",
        "                  response = \"\"\n",
        "                  para_counter += 1\n",
        "                  # If a text segment spans several lines, it will\n",
        "                  # be stored in different text segments.\n",
        "                  for segment in paragraph.layout.text_anchor.text_segments:\n",
        "                      start_index = (\n",
        "                          int(segment.start_index)\n",
        "                          if segment in paragraph.layout.text_anchor.text_segments\n",
        "                          else 0\n",
        "                      )\n",
        "                      end_index = int(segment.end_index)\n",
        "                      response += document.text[start_index:end_index]\n",
        "                  ten_pages[page.page_number].append({\"paragraph_num\":para_counter, \"paragraph\" : response})\n",
        "          doc_text_volumes[vol][this_coll][doc_name].append({partition:ten_pages})\n",
        "          doc_text_blocks[vol][this_coll][doc_name].append({partition:text_page_blocks})\n"
      ]
    },
    {
      "cell_type": "markdown",
      "metadata": {
        "id": "gq2aYlZlajsd"
      },
      "source": []
    },
    {
      "cell_type": "code",
      "execution_count": null,
      "metadata": {
        "id": "Kec0Wqpep33c"
      },
      "outputs": [],
      "source": [
        "import csv\n",
        "\n",
        "def save_csv(this_dict : dict, file_name:str, volume:str, path:str, csv_columns:list):\n",
        "\n",
        "  assert file_name, \"%s Filename is empty!\" %(file_name)\n",
        "  print(path, volume)\n",
        "  directory = os.path.join(path, volume)\n",
        "  # if not os.path.isdir(directory):\n",
        "  #   os.mkdir(directory)\n",
        "  #print(volume, file_name)\n",
        "  print(directory)\n",
        "  file_path = os.path.join(path, file_name)\n",
        "  try:\n",
        "      with open(file_path, 'w') as csvfile:\n",
        "          writer = csv.DictWriter(csvfile, fieldnames=csv_columns)\n",
        "          writer.writeheader()\n",
        "          for data in this_dict:\n",
        "              writer.writerow(data)\n",
        "  except IOError:\n",
        "      print(\"I/O error\")\n",
        "      return False\n",
        "  return True"
      ]
    },
    {
      "cell_type": "markdown",
      "metadata": {
        "id": "o5VHEU6CamSc"
      },
      "source": [
        "Save JSON responses of List of Papers"
      ]
    },
    {
      "cell_type": "code",
      "execution_count": null,
      "metadata": {
        "colab": {
          "base_uri": "https://localhost:8080/"
        },
        "id": "tsn63PlBnUmV",
        "outputId": "e196717f-a1ea-4d3f-8bb5-0f87e319a6e4"
      },
      "outputs": [],
      "source": [
        "import pandas as pd\n",
        "for vol, this_coll_dict in text_volumes.items():\n",
        "  for coll, pages in this_coll_dict.items():\n",
        "    this_file = \"\"\n",
        "    print(\"pages\",len(pages[0]))\n",
        "    if vol in list(tocs.keys()):\n",
        "      toc_coll = tocs[vol]\n",
        "    for c in toc_coll:\n",
        "      if coll.replace('_', '-') in c:\n",
        "        this_file = c\n",
        "    print(this_file)\n",
        "    print(len(list(pages[0].values())))\n",
        "    this_pages = {}\n",
        "    for page, p_list in pages[0].items():\n",
        "      save_csv(p_list, os.path.basename(this_file)[:-4]+\"_\"+str(page)+\".csv\", \"apiresults-19\", os.path.dirname(this_file))"
      ]
    },
    {
      "cell_type": "markdown",
      "metadata": {
        "id": "N3Up8-oMarJ3"
      },
      "source": [
        "Save Blocks and Paragraphs for List of Papers"
      ]
    },
    {
      "cell_type": "code",
      "execution_count": null,
      "metadata": {
        "colab": {
          "base_uri": "https://localhost:8080/"
        },
        "id": "zUiLjHcawnHg",
        "outputId": "3010e9d6-4577-4527-b1e8-da5648edcda7"
      },
      "outputs": [],
      "source": [
        "import pandas as pd\n",
        "for vol, this_coll_dict in text_blocks.items():\n",
        "  for coll, pages in this_coll_dict.items():\n",
        "    this_file = \"\"\n",
        "    print(\"pages\",len(pages[0]))\n",
        "    if vol in list(tocs.keys()):\n",
        "      toc_coll = tocs[vol]\n",
        "    for c in toc_coll:\n",
        "      if coll.replace('_', '-') in c:\n",
        "        this_file = c\n",
        "    #print(vol, coll)\n",
        "    print(this_file)\n",
        "    print(len(list(pages[0].values())))\n",
        "    this_pages = {}\n",
        "    for page, p_list in pages[0].items():\n",
        "      print(len(p_list))\n",
        "      this_pages[page] = []\n",
        "      this_pages[page].append(p_list)\n",
        "      #save_csv(p_list, os.path.basename(this_file)[:-4]+\"_\"+str(page)+\"_blocks.csv\", \"apiresults-19\", os.path.dirname(this_file))\n",
        "    # for page_num, paragraphs in pages[0].items():\n",
        "    #   for paragraph in paragraphs:\n",
        "    #     print(paragraph)"
      ]
    },
    {
      "cell_type": "code",
      "execution_count": null,
      "metadata": {
        "colab": {
          "base_uri": "https://localhost:8080/"
        },
        "id": "lvMMqtF9rFE-",
        "outputId": "9214f67b-1ca8-414a-96d5-fd0920b133db"
      },
      "outputs": [
        {
          "data": {
            "text/plain": [
              "{'Slave Trade Volume 10': ['/content/drive/MyDrive/Colab Notebooks/slave-trade-volumes/all/Slave Trade Volume 10/tenpages/class-a-tocs.pdf',\n",
              "  '/content/drive/MyDrive/Colab Notebooks/slave-trade-volumes/all/Slave Trade Volume 10/tenpages/class-b-tocs.pdf'],\n",
              " 'Slave Trade Volume 11': ['/content/drive/MyDrive/Colab Notebooks/slave-trade-volumes/all/Slave Trade Volume 11/tenpages/class-a-tocs.pdf',\n",
              "  '/content/drive/MyDrive/Colab Notebooks/slave-trade-volumes/all/Slave Trade Volume 11/tenpages/class-b-tocs.pdf']}"
            ]
          },
          "execution_count": 92,
          "metadata": {},
          "output_type": "execute_result"
        }
      ],
      "source": [
        "tocs"
      ]
    },
    {
      "cell_type": "markdown",
      "metadata": {
        "id": "U2hSlds8av4b"
      },
      "source": [
        "Save JSON responses for Document texts"
      ]
    },
    {
      "cell_type": "code",
      "execution_count": null,
      "metadata": {
        "colab": {
          "base_uri": "https://localhost:8080/"
        },
        "id": "SOtzBpS3yiy-",
        "outputId": "d863f142-a3c5-4e46-f31f-90e164ef9bce"
      },
      "outputs": [],
      "source": [
        "path = ''\n",
        "vols = ['Slave Trade Volume 10', 'Slave Trade Volume 11']\n",
        "\n",
        "for vol in doc_raw_responses.keys():\n",
        "  for cl in doc_raw_responses[vol].keys():\n",
        "    for doc, partitions_json_texts in doc_raw_responses[vol][cl].items():\n",
        "      path = volumes_dict[vol]\n",
        "      print(vol, path, doc)\n",
        "      directory = os.path.join(path, 'tenpages', 'apiresults-19', 'documents', doc)\n",
        "      if not os.path.isdir(directory):\n",
        "        os.mkdir(directory)\n",
        "      print(len(partitions_json_texts))\n",
        "      for part_json_text_dict in partitions_json_texts:\n",
        "        print(next(iter(part_json_text_dict.keys())))\n",
        "        part_num, this_json_text = next(iter(part_json_text_dict.items()))\n",
        "        with open(os.path.join(directory, part_num+\"_\"+doc+\".json\"), 'w') as f:\n",
        "          f.write(this_json_text)\n",
        "          print(part_num)"
      ]
    },
    {
      "cell_type": "markdown",
      "metadata": {
        "id": "pbqjzRepa2nb"
      },
      "source": [
        "Check Partition counts with results counts"
      ]
    },
    {
      "cell_type": "code",
      "execution_count": null,
      "metadata": {
        "colab": {
          "base_uri": "https://localhost:8080/"
        },
        "id": "iyNxsSRUFK-U",
        "outputId": "e2f328e0-6aa9-4645-e83a-362f511dd8bf"
      },
      "outputs": [
        {
          "name": "stdout",
          "output_type": "stream",
          "text": [
            "Slave Trade Volume 10 /content/drive/MyDrive/Colab Notebooks/slave-trade-volumes/all/Slave Trade Volume 10 Class B. Correspondence with foreign powers, relating to the slave trade. 1824-1825\n",
            "True\n",
            "Slave Trade Volume 10 /content/drive/MyDrive/Colab Notebooks/slave-trade-volumes/all/Slave Trade Volume 10 Class B. Correspondence with foreign powers, relating to the slave trade. 1825-1826\n",
            "True\n",
            "Slave Trade Volume 11 /content/drive/MyDrive/Colab Notebooks/slave-trade-volumes/all/Slave Trade Volume 11 Class B. Correspondence with foreign powers, relating to the slave trade. 1826-1827\n",
            "True\n",
            "Slave Trade Volume 11 /content/drive/MyDrive/Colab Notebooks/slave-trade-volumes/all/Slave Trade Volume 11 Class B. Correspondence with foreign powers, relating to the slave trade. 1827\n",
            "True\n"
          ]
        }
      ],
      "source": [
        "for vol in doc_raw_responses.keys():\n",
        "  for cl in doc_raw_responses[vol].keys():\n",
        "    for doc, partitions_json_texts in doc_raw_responses[vol][cl].items():\n",
        "      path = volumes_dict[vol]\n",
        "      print(vol, path, doc)\n",
        "      directory = os.path.join(path, 'tenpages', 'apiresults-19', 'documents', doc, 'response_json')\n",
        "      print(len(partitions_json_texts) == len(os.listdir(directory)))"
      ]
    },
    {
      "cell_type": "markdown",
      "metadata": {
        "id": "TSssMwFQa8-D"
      },
      "source": [
        "Save Document Paragraph texts to CSV for each partition of each collection from each of the Slave Trade volumes 10 & 11."
      ]
    },
    {
      "cell_type": "code",
      "execution_count": null,
      "metadata": {
        "colab": {
          "base_uri": "https://localhost:8080/"
        },
        "id": "E1juiZ2yGAqx",
        "outputId": "2fad6527-b666-44ce-e118-dc8b5db0daf3"
      },
      "outputs": [],
      "source": [
        "csv_columns = ['page', 'paragraph', 'para_num']\n",
        "\n",
        "for vol, this_coll_dict in doc_text_volumes.items():\n",
        "  for coll in this_coll_dict.keys():\n",
        "      for doc, partitions in doc_text_volumes[vol][coll].items():\n",
        "        this_file = \"\"\n",
        "        true_pg_num = 1\n",
        "        all_partitions = []\n",
        "        print(\"partitions\",len(partitions))\n",
        "        count_p = len(partitions)\n",
        "\n",
        "        path = os.path.join(volumes_dict[vol], 'tenpages', 'apiresults-19', 'documents', doc)\n",
        "        this_file = os.path.join(path, 'paragraphs')\n",
        "        #print(this_file)\n",
        "\n",
        "        for partition in partitions:\n",
        "          this_partition = []\n",
        "          part_num, pages = next(iter(partition.items()))\n",
        "          #print(pages.keys(), pages[1])\n",
        "          for page_num, page in pages.items():\n",
        "            print(page_num)\n",
        "\n",
        "            for para in page:\n",
        "              this_partition.append({\"page\": page_num, \"para_num\":para['paragraph_num'], \"paragraph\":para['paragraph']})\n",
        "              all_partitions.append({\"page\": true_pg_num, \"para_num\":para['paragraph_num'], \"paragraph\":para['paragraph']})\n",
        "            true_pg_num += 1\n",
        "          #print(os.path.dirname(this_file))\n",
        "            #print(page_num)\n",
        "          print(\"length of dict\",len(this_partition))\n",
        "          save_csv(this_partition, str(part_num)+\"_\"+doc+\".csv\", \"apiresults-19\", this_file, csv_columns)\n",
        "        print(page_num, true_pg_num)\n",
        "        save_csv(all_partitions, doc+\".csv\", \"apiresults-19\", os.path.dirname(this_file), csv_columns)\n",
        "\n",
        "          ##print(json.dumps(partition))\n",
        "          #pages = list(partitions[0].values())[0].keys()\n",
        "        #print(list(partitions[0].values())[0][1][0].keys())\n"
      ]
    },
    {
      "cell_type": "markdown",
      "metadata": {
        "id": "Q0hOORmFbHOq"
      },
      "source": [
        "Save Document Block texts to CSV for each partition of each collection from each of the Slave Trade volumes 10 & 11."
      ]
    },
    {
      "cell_type": "code",
      "execution_count": null,
      "metadata": {
        "colab": {
          "base_uri": "https://localhost:8080/"
        },
        "id": "g52L91pETjDC",
        "outputId": "98cf8afc-2b67-4f8f-869e-2141c565adb5"
      },
      "outputs": [],
      "source": [
        "csv_columns = ['page', 'block_num', 'block']\n",
        "for vol, this_coll_dict in doc_text_blocks.items():\n",
        "  for coll in this_coll_dict.keys():\n",
        "      for doc, partitions in doc_text_blocks[vol][coll].items():\n",
        "        this_file = \"\"\n",
        "        print(\"partitions\",len(partitions))\n",
        "        true_pg_num = 1\n",
        "        all_partitions = []\n",
        "\n",
        "        path = os.path.join(volumes_dict[vol], 'tenpages', 'apiresults-19', 'documents', doc)\n",
        "        this_file = os.path.join(path, 'blocks')\n",
        "        print(this_file)\n",
        "\n",
        "        for partition in partitions:\n",
        "          this_partition = []\n",
        "          part_num, pages = next(iter(partition.items()))\n",
        "          for page_num, blocks in pages.items():\n",
        "            print(len(blocks))\n",
        "\n",
        "            for block in blocks:\n",
        "              print(block['block_number'])\n",
        "              this_partition.append({\"page\": page_num, \"block_num\":block['block_number'], \"block\":block['text']})\n",
        "              all_partitions.append({\"page\": true_pg_num, \"block_num\":block['block_number'], \"block\":block['text']})\n",
        "            true_pg_num += 1\n",
        "          save_csv(this_partition, str(part_num)+\"_\"+doc+\".csv\", \"apiresults-19\", this_file, csv_columns)\n",
        "        print(page_num, true_pg_num)\n",
        "        save_csv(all_partitions, \"blocks_\"+doc+\".csv\", \"apiresults-19\", os.path.dirname(this_file), csv_columns)"
      ]
    },
    {
      "cell_type": "code",
      "execution_count": null,
      "metadata": {
        "colab": {
          "base_uri": "https://localhost:8080/"
        },
        "id": "xE7Jx4wUMJoU",
        "outputId": "7936eb83-a376-46e7-8a48-5636ba1a434c"
      },
      "outputs": [
        {
          "data": {
            "text/plain": [
              "{'Part8': {1: [{'block_number': 1,\n",
              "    'text': '64\\nBRAZIL.\\nit being impossible to take them into this Ship, as many of the Kroomen had not\\nhad the small pox, and the chances are that even if we had done so, it would not\\nhave checked it in the others left on board, on whom it had not then made its\\nappearance, as it was nearly sunset when we got hold of her after a chase in the\\nwinds eye\\nfrom 7 A. M. We kept her by us all night, and in the morning gave\\nher as good a cleaning and whitewashing as we could, and then sent her off to\\nSierra Leone, under charge of Mr. Young, who has been long on the coast, and\\nhaving taken up prizes before, perfectly understands how to treat the Slaves.\\nBut I must say, I have great fear that they will lose a great many on their way,\\nalthough great care was taken that noone should go on board, who had not had\\nthis disease. I hope no accident will happen to any of our own people gone up\\nin her. I have given Mr. Young orders to bring his people down to Cape Coast\\nby the first conveyance.\\n'},\n",
              "   {'block_number': 2,\n",
              "    'text': 'Commodore Bullen,\\nCommr. in Chief of H. M. S.and Vessels on the Coast of Africa.\\n'},\n",
              "   {'block_number': 3,\n",
              "    'text': 'No. 53.\\nMr. Consul-General Chamberlain to Mr. Secretary Canning.-(Received\\nNovember 11th.)\\n'},\n",
              "   {'block_number': 4,\n",
              "    'text': \"SIR,\\nRio de Janeiro, 18th Sept. 1824.\\nI REGRET to say that I have not yet been able to obtain the particulars of\\nthe Rule used in the Admeasurement of Slave vessels, though I have ascertained\\nthat it differs entirely from that employed in calculating the Tonnage of Merchant\\nShips.\\nI had hoped that the Minister would have acquiesced in my request to be\\nfurnished with information on this point, but his Note of the 2d instant, in reply\\nto mine of the 16th ult., (forwarded by the last Packet) shewing me that I was\\nnot to expect this favour, and declaring besides, that the vessels whose incorrect\\nmeasurement you had instructed me to represent to the Brazilian Government,\\nwhich representation formed the subject of my Letter to His Excellency, of the\\n26th of January last, (of which I have already had the honour to send you a\\ncopy) had been officially ascertained to have been measured according to law, I\\nfelt it to be proper not to let the matter stop where it was.\\nAnd accordingly I addressed M. De Carvalho again on the 10th instant, on\\nthis subject, pointing out the necessity for His Majesty's Government being\\nmade acquainted with the mode prescribed by the law for measuring these\\nvessels; and reiterating the request to be furnished with the Rule.\\nInclosure No. 3, being the Copy of this Letter, will put you in possession of\\nwhat I considered myself called upon to say in support of the request. The\\nchief arguments being in substance, that the British Government having bound\\nitself by Treaty to pay Demurrage for Slave ships, improperly detained by\\nBritish cruizers, according to a fixed Scale of Tonnage, it is of moment to know\\nhow the Tonnage of such vessels is ascertained. Because, as these are found,\\nupon investigation by the British Authorities, to be of much larger capacity, when\\nemployed in the Slave-Trade, than when measured for other purposes, at the\\nsame time that their estimate for the latter very nearly coincides with what it\\nwould be in England; whilst their estimate for the former very considerably\\nexceeds it; the British Government is thus rendered liable to pay a much higher\\nrate of Demurrage than is bona fide due under the Treaty.\\n\"},\n",
              "   {'block_number': 5,\n",
              "    'text': 'And, that there being now very sufficient reason to believe that the practice\\nused in measuring Slave vessels in Brazil, instead of being the means of restrict-\\ning the shipment to five Individuals to every two Tons, has been employed to\\n'}],\n",
              "  2: [{'block_number': 1,\n",
              "    'text': \"BRAZIL,\\n65\\nmake it legal to ship at the rate of four for each real bona fide Ton, according to\\nthe usual understanding of that measure of capacity, I felt it to be my duty to com-\\nmunicate the fact, and the particulars of the rule of calculation, to His Majesty's\\nGovernment, that they might have an opportunity of fully considering a subject\\nin which they are interested, equally with the Brazilian Government.\\nNo reply has yet been received.\\n\"},\n",
              "   {'block_number': 2, 'text': 'I have the honour to be, &c. &c.\\n'},\n",
              "   {'block_number': 3,\n",
              "    'text': 'The Right Hon. George Canning,\\n&c. &c. &c.\\n'},\n",
              "   {'block_number': 4, 'text': '(Signed) H. CHAMBERLAIN.\\n'},\n",
              "   {'block_number': 5,\n",
              "    'text': 'First Enclosure in No. 53.\\nM. De Carvalho e Mello to Mr. Consul-General Chamberlain.\\n'},\n",
              "   {'block_number': 6,\n",
              "    'text': 'Secretaria de Estado, 2 de Setembro, de 1824.\\nLUIZ Joze de Carvalho e Mello faz seus comprimentos ao Sñr. Henrique\\nChamberlain, Consul Geral de S. M. Britannica, e accusa a recepçao do Bilhete,\\nque\\nlhe dirigio em 16 do mez passado, em que S. Mc. mostrava o dezejo de se\\nthe remetterem as particularidades, que supponha terem sido mandadas adoptar\\nnas arqueaçoens das Embarcacoens do Commercio licito de Escravos.\\nLuiz Joze de Carvalho e Mello, referindo a S. Mce. para o que lhe\\nexpoz no seu\\nBilhete em data de 13 do dito mez, nada mais tem a accrescentar, senao que\\no Governo de S. M. Imperial, querendo mostrar a contemplaçao que lhe merecem\\nas representações de S. Mee. recommendou ás auctoridades incumbidas da\\nquelle ramo de serviço (nao obstante consta por informações Officiaes, que as\\narqueaçoes tinham sido feitas na conformidade da respectiva Lei) que as mesmas\\nAuctoridades fizessem observar um methodo fixo e regular, a fim de\\nque nað\\nhouvesse alteração ou discrepancia nas ditas arqueaçoens, evitando-se assim al-\\ngum abuso que podesse haver a esté respeito.\\nL. J. de Carvalho, e Mello renova por esta occasiaõ, &c.\\n'},\n",
              "   {'block_number': 7, 'text': 'Sãr. Henrique Chamberlain,\\n&c. &c.\\n&c.\\n'},\n",
              "   {'block_number': 8,\n",
              "    'text': \"Second Enclosure in No. 53.-(Translation.)\\nM. de Carvalho e Mello, to Mr. Consul-General Chamberlain.\\nSecretary of State's Office, September 2d, 1824.\\nLUIZ Joze de Carvalho e Mello, presents his compliments to Mr. H.\\nChamberlain, His Britannic Majesty's Consul General, and acknowledges the\\nreceipt of the note which he addressed to him on the 16th of last month, in which\\nhe expressed a wish to have sent to him, the particulars he supposes to have been\\nordered to be adopted in the measurement of vessels employed in the licit\\nSlave Trade.\\n\"},\n",
              "   {'block_number': 9,\n",
              "    'text': \"Luiz Joze de Carvalho e Mello, referring Mr. Consul General to what he\\nstated in his note under date of the 13th of the said month, has nothing more to\\nadd, but that His Imperial Majesty's Government, desiring to shew to the Re-\\npresentations of Mr. Consul General, the consideration which they merit, has\\nrecommended to the Authorities charged with that branch of the service (not-\\nwithstanding it is known from Official information, that the measurements have\\nbeen made in comformity with the respective Law), that the said Authorities\\nshould cause to be observed a fixed and regular mode, to the end that there should be\\n\"}],\n",
              "  3: [{'block_number': 1,\n",
              "    'text': '66\\nno alteration, or discrepance in the said measurements, thus preventing any abuse\\nwhich might occur in this respect.\\nLuiz Joze de Carvalho e Mello, renews on this occasion, &c\\n'},\n",
              "   {'block_number': 2, 'text': 'BRAZIL.\\n'},\n",
              "   {'block_number': 3, 'text': 'Henry Chamberlain, Esq.\\n&c.\\n&c.\\n&c.\\n'},\n",
              "   {'block_number': 4,\n",
              "    'text': 'Third Enclosure in No. 53,\\nMr. Consul-General Chamberlain to M. de Carvalho e Mello.\\n'},\n",
              "   {'block_number': 5,\n",
              "    'text': \"SIR,\\nRio de Janeiro, 10th September, 1824.\\nI HAVE the honour to acknowledge the receipt of your Excellency's note of\\nthe 2d Instant, in answer to mine of the 16th ult. soliciting to be favoured with\\nthe particulars of the mode, which I understood from the tenour of your Excel-\\nlency's previous note of the 13th, had been ordered to be followed in the mea-\\nsurement of Slave Vessels.\\n\"},\n",
              "   {'block_number': 6,\n",
              "    'text': \"In this answer, your Excellency has the goodness to state, that you have no-\\nthing further to add to the contents of that note, beyond the assurance that His\\nImperial Majesty's Government has recommended a fixed and regular method\\nof measurement, to be observed by the Authorities charged with that branch of\\nservice.\\n\"},\n",
              "   {'block_number': 7,\n",
              "    'text': 'Upon which, your Excellency will permit me very respectfully to state, that it\\nis of moment to the British Government to possess officially the rule used by the\\nmeasurers of vessels destined for the trade; because, if that rule differ materially\\nfrom the other usual mode of ascertaining the Tonnage of vessels, it is necessary\\nthat it should not only be made acquainted with the fact, generally, but also\\nwith its particulars..\\n'},\n",
              "   {'block_number': 8,\n",
              "    'text': 'The British Government is bound, by the Additional Convention to the Treaty\\nof Vienna of 22d January, 1815, signed at London on 28th July, 1817, to pay\\ndemurrage for Slave vessels, improperly detained by British Cruizers, according\\nto rates specified in the Schedule, forming part of the 8th Article of the Regu-\\nlations for the Mixed Commissions, comprised in that Convention; which rates are\\nregulated by the Tonnage of the detained vessels according to a scale extending\\nfrom 100 to 300 Tons.\\n'},\n",
              "   {'block_number': 9,\n",
              "    'text': 'According to the Statement I had the honour to inclose to your Excellency on\\nthe 26th of January last, representing four instances of what the British Go-\\nvernment conceive to be improper measurement of vessels employed in this\\nTrade, but which your Excellency now tells me, it has been officially ascer-\\ntained, had been made in comformity with the Law, (“ naõ obstante constar por\\n\"informações officiaes que as arqueações tinham sido feitas na conformidade da\\n\"respectiva Lei.\") it is undeniable that two distinct modes of measurement\\nhave been employed; and that their capacity for carrying Slaves, has been esti-\\nmated a great deal above their capacity for the payment of light dues.\\nIt being at the same time worthy remark, that the first name on the list, the\\n\"Nova Sorte,\" which was the only one that happened to be measured at Sierra\\nLeone, turned out to be of 83 Tons English, being within one Ton and one\\ntwelfth part of a Ton, of the number allotted for the payment of the light\\ndues at Bahia. Which approximate results of the two measurements have na-\\nturally led to the conclusion, that the other mode of measuring is not correct,\\nand has been improperly practised. It would indeed be difficult to understand\\nhow the measurements by the Authorities at Bahia can have been correct, (not-\\nwithstanding the official assurances that they were according to Law), when there\\nare the following differences in the Tonnage of the same vessels; the excess\\nbeing in each case on the side of the Tonnage for Slaves, thereby entitling them\\nto carry a greater number of Slaves, and, in case of improper detention, to de-\\n'}],\n",
              "  4: [{'block_number': 1,\n",
              "    'text': 'BRAZIL.\\n67\\nmand a higher rate of demurrage per diem, than by Treaty they are bonâ fide\\nentitled to-\\n'},\n",
              "   {'block_number': 2,\n",
              "    'text': 'Nova Sorte, an Excess of 574 tons upon 841\\nConceiçao,\\nLisboa,\\n59/\\n108\\n264\\n92\\nCommerciante,\\n83\\n162\\nIn the first, the excess being above two thirds of the real tonnage ;---In the 2d\\nabove one half ;-In the 3d not quite one fourth ;-And in the last, rather more\\nthan one half.\\n'},\n",
              "   {'block_number': 3, 'text': '-\\n'},\n",
              "   {'block_number': 4,\n",
              "    'text': \"I will take the liberty to request your Excellency's attention to the case of the\\nfirst of these vessels; as that whose tonnage has been ascertained by a British\\nauthority; and found very nearly to agree with that declared by a Brazilian au-\\nthority, for other purposes than the Slave Trade.\\n\"},\n",
              "   {'block_number': 5,\n",
              "    'text': 'According to this (which is selected for example sake as the real tonnage) she\\nwould be entitled, at the rate of 5 for every two tons, to carry 210 or 211 Slaves;\\nby the other, 353 Slaves; that is to say; this excessive measure entitles her to\\ncarry upwards of four Slaves for each bona fide ton. And the result is nearly the\\nsame in the other cases; which I will yenture to assert, and to pledge myself, is\\nnot the understanding in which the Convention of 1815 and the Additional Con-\\nvention of 1817, were agreed to by the British Government.\\n'},\n",
              "   {'block_number': 6,\n",
              "    'text': \"At all events, as this question has arisen out of your Excellency's Note of the\\n2nd instant, and is one in which the British Government is deeply interested, as\\nwell as that of Brazil, I feel myself called upon to furnish His Majesty's Secre-\\ntary of State with all the information I can obtain upon the subject, to the end\\nthat he may be able to take it into full consideration. Wherefore I trust your\\nExcellency will excuse my renewing the request already made on the 16 ult. and\\nwill be pleased to cause to be delivered to me a Copy of the rule established by\\nLaw, for admeasuring the Tonnage of vessels to be employed in the licit Slave\\nTrade; according to which the number of Slaves allowed to be shipped in each\\nvessel is calculated.\\n\"},\n",
              "   {'block_number': 7,\n",
              "    'text': 'I have great satisfaction in profiting of this opportunity, to express to your\\nExcellency the sentiments of respect and consideration with which I have the\\nhonour to be, &c. &c.\\n(Signed)\\nH. CHAMBERLAIN.\\nH. E. the Commander Luiz Joze de Carvalho e Mello,\\n&c.\\n&c.\\n&c.\\n'},\n",
              "   {'block_number': 8,\n",
              "    'text': 'No. 54.\\nMr. Consul-General Chamberlain to Mr. Secretary Canning-(Received\\nDecember 25th.)\\n'},\n",
              "   {'block_number': 9,\n",
              "    'text': \"SIR,\\nRio de Janeiro, 30th October, 1824.\\nIN obedience to the Instructions contained in your Dispatch of the Slave-Trade\\nSeries, dated the 6th of August, received here on the 17th instant, per Lord\\nMelville Packet, I addressed a letter to the Secretary of State for Foreign Affairs,\\nstating the mischievous effects resulting from the permission given to Brazilian\\nvessels proceeding to Molembo for Slaves, to touch in their way at the Islands of\\nPrinces and St. Thomas; and signifying the expectation of His Majesty's\\nGovernment that the Brazilian Government being made aware of the evils\\nproduced by the present form of Passports would lose no time in altering it.\\nYesterday I received a Reply to this Representation (of which I beg leave to\\nsend a Copy and Translation) stating that the latter has been sent on the 27th\\ninst. to the Government of Bahia, with orders to report upon the subject, in\\n\"}],\n",
              "  5: [{'block_number': 1,\n",
              "    'text': '68\\nBRAZIL.\\norder that the Emperor may then decide upon what may be requisite to be\\ndone.\\nI have the honour to be, &c.\\n(Signed)\\n'},\n",
              "   {'block_number': 2,\n",
              "    'text': 'The Right Hon. George Canning,\\n&c. &c. &c.\\n'},\n",
              "   {'block_number': 3,\n",
              "    'text': 'First Enclosure in No. 54,\\nMr. Consul General Chamberlain to M. de Carvalho e Mello.\\n'},\n",
              "   {'block_number': 4, 'text': 'H. CHAMBERLAIN.\\n'},\n",
              "   {'block_number': 5,\n",
              "    'text': \"SIR,\\nRio de Janeiro, 20th October, 1824.\\nI HAVE been instructed to make known to your Excellency, that His Ma-\\njesty's Commissioners at Sierra Leone have several times represented to their\\nGovernment the mischievous effects resulting from the practice of the Brazilian\\nAuthorities, in giving permission to vessels proceeding to Molembo for Slaves, to\\ntouch, in their way, at the Islands of Princes and St. Thomas. By which per-\\nmission these vessels obtain an excuse for being seen near the Slave Coast, to the\\nNorthward of the Equator; and they generally take advantage of the opportu-\\nnity to procure cargoes of Negroes in those parts, where, by the Laws of every\\nCivilized Nation, the Slave-Trade has been strictly \\nforbidden.\\nIt is my duty to add, that His Majesty's Government trust, that the Brazilian\\nGovernment, now they are made aware of the evils which are produced by the\\nform in which their Passport is drawn up, will lose no time in causing it to be\\naltered.\\n\"},\n",
              "   {'block_number': 6,\n",
              "    'text': 'I beg to repeat to Your Excellency, on this occasion, the sentiments of perfect\\nconsideration with which I have the honour to be, &c.\\nH. CHAMBERLAIN.\\n'},\n",
              "   {'block_number': 7,\n",
              "    'text': 'His Excellency\\n(Signed)\\nThe Commander, Luiz Joze de Carvalho e Mello.\\n'},\n",
              "   {'block_number': 8,\n",
              "    'text': 'Second Enclosure in No. 54.\\nM. de Carvalho e Mello to Mr. Consul-General Chamberlain.\\n'},\n",
              "   {'block_number': 9,\n",
              "    'text': 'Em 29 de Outubro de 1824.\\nLUIZ Joze de Carvalho e Mello faz seus comprimentos ao Sãr H. Chamber-\\nlain, Consul Geral de S. M. Britannica, e accusando a sua Nota de 20 do cor-\\nriente, em a qual participa, que os Commissarios de S. M. B. em Serra Leoa\\ntem por varias vezes representado ao seu Governo, os maos effeitos resultað\\nque\\nda pratica seguida pelas Auctoridades Brasileiras, permittindo aos Navios, que\\nvao a Molembo para o trafico de Escravatura, que toquem por escala nas Ilhas do\\nPrincipe e S. Thomé; tem de participar a S. Mce. que a sua Nota foi em 27 do\\ncorrente remettida ao Presidente da Bahia, para que informasse com o seu\\nparecer sobre semelhante materia para ser presente a S. M. Imperial.\\nLuiz Joze de Carvalho e Mello approveita esta occaziao, &c. &c.\\n'},\n",
              "   {'block_number': 10, 'text': 'Sir Chamberlain,\\n&c. &c. &c.\\n'},\n",
              "   {'block_number': 11,\n",
              "    'text': 'Second Enclosure in No. 54.-(Translation.)\\nM. de Carvalho e Mello to Mr. Consul-General Chamberlain.\\n'},\n",
              "   {'block_number': 12,\n",
              "    'text': \"October 29, 1824.\\nLUIZ Joze de Carvalho e Mello presents his compliments to Mr. H. Cham-\\nberlain, His Britannic Majesty's Consul General; and acknowledging his Note\\n\"}],\n",
              "  6: [{'block_number': 1,\n",
              "    'text': 'BRAZIL.\\n69\\nof the 20th instant, in which he acquaints him that the Commissioners of His\\nBritannic Majesty at Sierra Leone, have at various times represented to their\\nGovernment the bad effects resulting from the practice followed by the Brazilian\\nAuthorities, in permitting vessels bound to Molembo, to trade for Slaves, to touch\\non their way, at the Islands of Princes, and St. Thomas, has to inform him, that\\nhis Note was transmitted on the 27th instant, to the President of Bahia, in order\\nthat his report on this subject may be made known to the Emperor.\\nLuiz Joze de Carvalho e Mello profits of this opportunity, &c. &c.\\nHenry Chamberlain, Esq.\\n&c. &c.\\n&c.\\n'},\n",
              "   {'block_number': 2,\n",
              "    'text': 'No. 55.\\nMr. Consul-General Chamberlain to Mr. Secretary Canning.-(Received\\nFeb. 6th, 1825.)\\nRio de Janeiro, 11th December, 1824.\\n'},\n",
              "   {'block_number': 3,\n",
              "    'text': \"SIR,\\nM. de Carvalho e Mello having sent me, on the 6th instant, a Note explaining\\nin detail the method used to find the Tonnage of vessels employed in the licit\\nSlave-Trade, requested by me on the 10th of September last, for the purpose of\\nbeing transmitted to His Majesty's Government, I have the honour to send here-\\nwith a Copy and Translation thereof, for their information.\\n\"},\n",
              "   {'block_number': 4,\n",
              "    'text': 'According to this mode of estimating the Tonnage of Slave-vesels, a brig\\ncalled the Adamaster, of about 189 tons burthen, belonging to this Port, is allowed\\nto carry 750 Slaves, that is to say, her burthen for the Slave-Trade is 300 tons,\\nwhich seems to be about the general rule of proportion in the vessels quoted in\\nthe Representation of the Mixed Commission at Sierra Leone.\\nI have the honour to be, &c. &c.\\n(Signed) H. CHAMBERLAIN.\\n'},\n",
              "   {'block_number': 5,\n",
              "    'text': 'The Right Hon. George Canning.\\n&c. &c. &c.\\n'},\n",
              "   {'block_number': 6,\n",
              "    'text': 'Enclosure in No: 55.\\nM. de Carvalho e Mello to Mr. Consul-General Chamberlain.\\n'},\n",
              "   {'block_number': 7,\n",
              "    'text': \"Secretaria d'Estado, em 6 de Dezembro de 1824.\\nLUIZ Joze de Carvalhoe Mello faz seus comprimentos ao Sãr Henrique Cham-\\nberlain, Consul Geral de S. M. Britannica, e accusa a recepçaõ do officio de 10\\nde Setembro passado que S. Mce. lhe dirigia, requerendo que se lhe communi-\\ncasse officialmente o methodo que se segue na arqueaçaõ das Embarcaçoens\\nBrasileiras destinadas ao Commercio licito da Escravatùra, para o fazer chegar\\nao conhecimento do Governo Britannico.\\n\"},\n",
              "   {'block_number': 8,\n",
              "    'text': \"L. J. de Carvalho e Mello, havendo exigido por ordem de S. M. O Imperador,\\ndo Tribunal competente da Junta do Commercio, que transmittisse todos os\\nesclarecimentos necessarios, a respeito do methodo em questao, o mesmo Tri-\\nbunal depois de ter tomado todas as informaçoens que lhe eram necessarias para\\neste fim, acaba de informar o seguinte.--Divide-se o chao ou pavimento da Tolda,\\nCastello, Convez, e Coberta no sentido de popa e prôa, em comprimentos parciaes\\nde seis palmos, a que chamam Rumos; toma-se em palmos a meio de cada um\\nd'estes rumos, a largúra o bocca do navio; somanse todas estas larguras em\\ncada pavimento ou ponte, e multiplica-se a soma por seis, para se ter a superfi-\\ncię de cada ponte em palmos quadrados; se acontece haver alguma fracçao de\\nrumo, toma-se igualmente a largura do Navio a meio d'elle e multiplica-se esta\\npelos palmos da mencionada fracçao, cujo producto se addiciona ao primeiro\\n\"}],\n",
              "  7: [{'block_number': 1,\n",
              "    'text': \"BRAZIL.\\nindicado, o mesmo se pratica em as outras pontes ou pavimentos: somām-se\\ndepois os productos ou resultados parciaes, disconta-se do total a soma dos\\nresguardos, isto he, d'aquelles espaços que sao occupados por alguma coiza, como\\npor exemplo Cartinga do Grupés, Abitas, Escoteiras do velaxo, e meia laranja\\nde prôa, Mastro de Traquete, Fogao e seu taboleiro, Lancha, Escoteiras de\\nGavia, Mastro Grande, Bombas, meia laranja, Abitacula, e Roda do Leme, cujas\\nsuperficies tambem se medem em palmos quadrados, e dividindo-se o resto por\\ntrinta e seis, que sao os palmos quadrados que se contem em uma Tonelada, ou\\nduas pipas que tem cada huma seis palmos de comprimento e trez de diametro\\nmedio, acha-se o numero de toneladas de superficie, do qual tomando-se metade e\\nmultiplicando-se por cinco, quantidade dos Escravos que devem contar-se por\\ncada duas Toneladas, dà os que o navio póde transportar. A camara e cama-\\nrotes entram na mediçao, porque na viagem de volta pessoa alguma tem\\nagazalhado; e nao se mede o rancho da equipagem, porque esse hé o logar\\ndestinado para Hospital, porem se os navios tem Belixes, Cadoleixas, ou\\nTarimbas, estas nao entram na mediçaõ.\\n\"},\n",
              "   {'block_number': 2, 'text': '70\\n'},\n",
              "   {'block_number': 3,\n",
              "    'text': 'Luiz Joze de Carvalho e Mello transmittindo ao Sãr Consul Geral a infor-\\nmaçao acima, julga ter satisfeito a sua requisiçao, e aproveita, &c. &c.\\n'},\n",
              "   {'block_number': 4,\n",
              "    'text': 'Enclosure in No. 55.-( Translation.)\\nM. de Carvalho e Mello to Mr. Consul General Chamberlain.\\n'},\n",
              "   {'block_number': 5,\n",
              "    'text': 'Secretary of State\\'s Office, 6th December, 1824.\\nLUIZ Joze de Carvalho e Mello, presents his compliments to Mr. Henry\\nChamberlain, His Britannic Majesty\\'s Consul General, and acknowledges\\nthe receipt of the Office of the 10th September last, which he addressed to him\\nrequesting that the mode followed in the measurement of Brazilian vessels em-\\nployed in the licit Slave Trade might be officially communicated to him, in order\\nthat he might transmit it to the knowledge of the British Government.\\nup on\\nLuiz Joze de Carvalho e Mello, having by order of His Majesty the Empe-\\nror, required from the Competent Tribunal of the Board of Trade, the transmis-\\nsion of all the necessary explanations respecting the mode in question, the same\\nTribunal, after having taken every information which was necessary to this end,\\nhave just made known as follows:-The ground or flooring of the quarter deck,\\nforecastle\\n, deck, and the middle deck from stem to stern, are divided into partial\\nlengths of 6 palms which are called \"Rumos,\"* these breadths are added\\neach flooring, or deck, and the sum multiplied by 6 in order to have the super-\\nficies of each deck in square palms: if it happen that there are any fraction of a\\n\"Rumo\" the breadth of the ship is equally taken at the middle of it, and this is\\nmultiplied by the palms of the said fraction, and its product added to the before\\nmentioned; the same is done with the other decks or floorings; afterwards the\\nproducts or partial results are added up, abating from the amount the reserved\\nplaces, that is, of those spaces which are occupied by any thing, as for example\\nthe stem of the bowsprit, bits, top knight head, and forescuttle, foremast, cook\\'s\\nfire-place and stand, launch, knight-head, mainmast, pumps, companion, binna-cle, \\nand rudder-case, whose superficies are also measured in square palms, and\\ndividing the remainder by 36, which is the number of square palms contained in\\n* Compartment.\\n'}],\n",
              "  8: [{'block_number': 1,\n",
              "    'text': 'BRAZIL.\\n71\\na ton or two pipes, each of which is 6 palms in length and three in medium dia-\\nmeter, the number of superficial tons will be found, whereof taking the half and\\nmultiplying it by five, the quantity of Slaves which ought to be reckoned for\\nevery two tons, will give the number that the ship may carry. The cabin and\\nbirths enter into this measurement, because on the return Voyage, no person has\\nany particular place; and the steerage is not measured, because this is the place\\nappointed for the hospital: however, if the ships have births for the seamen,\\n*Cadoleixas, or Tarimbast, these do not come into the measurement.\\n'},\n",
              "   {'block_number': 2,\n",
              "    'text': 'Luiz Joze de Carvalho e Mello transmitting to Mr. Consul General the above\\ninformation, judges he has satisfied his requisition; and profits, &c.\\n'},\n",
              "   {'block_number': 3, 'text': 'Henry Chamberlain, Esq.\\n&c. &c.\\n&c.\\n'},\n",
              "   {'block_number': 4,\n",
              "    'text': 'Cannot ascertain what place or space is called by this name. + Board fixed up in any part\\nof the Ship, (on deck, between \\ndecks, or elsewhere) for the sailors to sleep on.\\n'},\n",
              "   {'block_number': 5,\n",
              "    'text': 'No. 56.\\nMr. Consul General Chamberlain, to Mr. Secretary Canning.-(Received\\nMarch, 6th.)\\n'},\n",
              "   {'block_number': 6,\n",
              "    'text': 'SIR,\\nRio de Janeiro, 4th January, 1825.\\nI HAVE the honour to transmit herewith a statement of the number of Negroes\\nbrought into this Port of Rio de Janeiro during the last year; and a compara-\\ntive statement of the importations during the years 1823 and 1824.\\n'},\n",
              "   {'block_number': 7,\n",
              "    'text': 'On the Eastern coast of Africa there appears to have been a small diminution\\nin the numbers embarked, with a vast increase of mortality during the Voyage ;\\nwhilst on the Western, the trade has flourished eminently, the numbers embarked\\nhaving risen from about Twelve thousand, to near Twenty-two thousand, an ex-\\ncess of nine thousand six hundred and ninety over the number embarked during\\nthe preceding year.\\nThe mortality also exceeds the average ratio of that year.\\n'},\n",
              "   {'block_number': 8, 'text': 'I have the honour to be, &c.\\n'},\n",
              "   {'block_number': 9,\n",
              "    'text': 'The Right Honourable George Canning,\\n&e.\\n&c.\\n&c.\\n'},\n",
              "   {'block_number': 10, 'text': '(Signed) H. CHAMBERLAIN.\\n'}],\n",
              "  9: [{'block_number': 1, 'text': '72\\n'},\n",
              "   {'block_number': 2,\n",
              "    'text': 'First Enclosure in No. 56.\\nA STATEMENT shewing the number of Slaves imported into Rio de Janeiro\\nduring the year 1824.\\nSlaves.\\n'},\n",
              "   {'block_number': 3,\n",
              "    'text': '1824.\\nJanuary 3 Boa Hora\\n5\\n93\\nTejo\\nAvidor\\n29\\n\"9\\nFebruary 2 Viajante\\n'},\n",
              "   {'block_number': 4, 'text': '33\\n'},\n",
              "   {'block_number': 5, 'text': '33\\n'},\n",
              "   {'block_number': 6, 'text': '}\"\\n'},\n",
              "   {'block_number': 7, 'text': 'Date.\\n'},\n",
              "   {'block_number': 8, 'text': '>>\\n'},\n",
              "   {'block_number': 9, 'text': '\"\"\\n'},\n",
              "   {'block_number': 10, 'text': '33\\n'},\n",
              "   {'block_number': 11, 'text': 'April\\n'},\n",
              "   {'block_number': 12, 'text': '\"2\\n'},\n",
              "   {'block_number': 13, 'text': '\"\"\\n'},\n",
              "   {'block_number': 14,\n",
              "    'text': 'March 3 Zephiro.\\nTrajano....\\n14 Leopoldina\\nSanto Antonio\\nAdamastor…………………….\\n'},\n",
              "   {'block_number': 15, 'text': '35\\n'},\n",
              "   {'block_number': 16, 'text': '>>\\n'},\n",
              "   {'block_number': 17, 'text': 'May\\n'},\n",
              "   {'block_number': 18, 'text': '\"\"\\n'},\n",
              "   {'block_number': 19, 'text': '33\\n'},\n",
              "   {'block_number': 20, 'text': '\"\"\\n'},\n",
              "   {'block_number': 21, 'text': '\"2\\n'},\n",
              "   {'block_number': 22, 'text': '\"\"\\n'},\n",
              "   {'block_number': 23, 'text': '39\\n'},\n",
              "   {'block_number': 24, 'text': '33\\n'},\n",
              "   {'block_number': 25, 'text': '4\\n'},\n",
              "   {'block_number': 26, 'text': '39\\n'},\n",
              "   {'block_number': 27, 'text': 'July\\n'},\n",
              "   {'block_number': 28, 'text': '23\\n'},\n",
              "   {'block_number': 29, 'text': '29\\n'},\n",
              "   {'block_number': 30, 'text': '\"\"\\n'},\n",
              "   {'block_number': 31, 'text': '>>\\n'},\n",
              "   {'block_number': 32, 'text': '\">\\n\"\"\\n'},\n",
              "   {'block_number': 33, 'text': '\"\"\\n'},\n",
              "   {'block_number': 34, 'text': '14\\n'},\n",
              "   {'block_number': 35,\n",
              "    'text': '* 5 18 22 234267235141511013222224,251343,84956 31\\n'},\n",
              "   {'block_number': 36, 'text': '39\\n'},\n",
              "   {'block_number': 37,\n",
              "    'text': '26 Imperio do Brazil.\\nGeneral Rego..\\nConde dos Arcos\\n'},\n",
              "   {'block_number': 38, 'text': '21\\n21\\n29\\nNovemb. 2\\n'},\n",
              "   {'block_number': 39, 'text': '25\\n'},\n",
              "   {'block_number': 40,\n",
              "    'text': '\"9\\nAugust 3\\nBom Jesus\\nSeptem. 3 Amalia\\n23 Donna Anna\\n32\\n'},\n",
              "   {'block_number': 41, 'text': '1\\n'},\n",
              "   {'block_number': 42, 'text': '29 Tejo...\\n99\\nOctober 2 Bella Americana\\n'},\n",
              "   {'block_number': 43,\n",
              "    'text': 'St. Antonio Flor de Loanda\\nMinerva\\n9 de Janeiro\\nRoza\\nSanta\\nIndustria\\nPastora de Lima..........\\nBella Umiliana\\n'},\n",
              "   {'block_number': 44, 'text': 'Esperança...\\n'},\n",
              "   {'block_number': 45, 'text': '93\\n11\\n'},\n",
              "   {'block_number': 46,\n",
              "    'text': '4° de Abril\\nSenra, da Guia.\\nPoliphemo\\nHenriqueta\\n3 Lucrecia...\\nNovo Despique.\\nLisboa...\\nSan Jozé Deligente..\\n18 Nympha do Brasil\\nDesuniao\\nMercurio..\\nMercantil\\n26 Regenerador\\nTrajano.....\\n'},\n",
              "   {'block_number': 47, 'text': '6 de Fevereiro..\\n'},\n",
              "   {'block_number': 48, 'text': 'NAME.\\n'},\n",
              "   {'block_number': 49, 'text': 'Amizade dos Santos........\\n'},\n",
              "   {'block_number': 50, 'text': 'Boa Uniao..………….\\n'},\n",
              "   {'block_number': 51, 'text': 'Caçador\\nCometa\\n'},\n",
              "   {'block_number': 52,\n",
              "    'text': 'Abysmo.\\nSanta Roza\\nSanta Antonio Flor de Loanda.\\n'},\n",
              "   {'block_number': 53, 'text': 'Principe Real.\\nMaria\\n'},\n",
              "   {'block_number': 54,\n",
              "    'text': '22\\nDecemb. 1 Desengano\\nDesuniao..\\n\"\"\\n29\\n'},\n",
              "   {'block_number': 55,\n",
              "    'text': '4\\n8\\n15 Amazonia....\\n16 Flora...\\n28 Conceiçao de Passos\\n29 Regeneradora\\n30 Gram Penedo\\n'},\n",
              "   {'block_number': 56,\n",
              "    'text': '2 Marquez do Pombal.\\n4 Principe Real..\\nLigeiro\\n'},\n",
              "   {'block_number': 57,\n",
              "    'text': '13\\n16\\n17 St. Antonio Destimido …..….…\\n20 Amizade de Santos\\n'},\n",
              "   {'block_number': 58, 'text': 'Imperador do Brazil.....\\nGaliana...\\n'},\n",
              "   {'block_number': 59, 'text': 'BRAZIL.\\n'},\n",
              "   {'block_number': 60,\n",
              "    'text': 'Bahia\\nBenguella..\\nBahia..\\nMosambique.\\nCabinda.\\nQuilimane\\nMosambique.\\n'},\n",
              "   {'block_number': 61, 'text': 'Ambris\\nAngola\\n'},\n",
              "   {'block_number': 62, 'text': 'Benguella....\\nDo.\\nQuilimane...\\n'},\n",
              "   {'block_number': 63, 'text': 'Angola\\nQuilimane...\\nDo.\\nDo.\\nBahia..\\n'},\n",
              "   {'block_number': 64,\n",
              "    'text': 'Cabinda..\\nQuilimane..\\nBenguella..\\nMosambique\\n'},\n",
              "   {'block_number': 65, 'text': 'Whence.\\n'},\n",
              "   {'block_number': 66,\n",
              "    'text': 'Angola\\nDo.\\nQuilimane.\\nMosambique.\\nQuilimane...\\nAngola.\\nAmbris\\nDo.\\nCabinda..\\nDo.\\nDo.\\n'},\n",
              "   {'block_number': 67, 'text': 'Angola\\nDo.\\nDo.\\n'},\n",
              "   {'block_number': 68, 'text': 'Angola\\nDo.\\nBenguella..\\n'},\n",
              "   {'block_number': 69, 'text': 'Cabinda\\nAmbris\\n'},\n",
              "   {'block_number': 70, 'text': '......\\n'},\n",
              "   {'block_number': 71, 'text': '.\\n'},\n",
              "   {'block_number': 72, 'text': 'Angola\\nDo.\\nBenguella..\\n'},\n",
              "   {'block_number': 73, 'text': 'Do.\\nCabinda..\\n'},\n",
              "   {'block_number': 74, 'text': '...\\n'},\n",
              "   {'block_number': 75, 'text': '(Signed)\\n'},\n",
              "   {'block_number': 76,\n",
              "    'text': 'Angola\\nAmbris\\nDo.\\nAngola\\nDo.\\nAmbris\\nBenguella\\nAngola\\nAngola\\nCabinda...\\nBenguella..\\n'},\n",
              "   {'block_number': 77, 'text': '.....\\n'},\n",
              "   {'block_number': 78,\n",
              "    'text': 'Angola\\nAmbris\\nMosambique..\\nAmbris\\nBenguella.\\nCabinda..\\nDo.\\nAngola\\n'},\n",
              "   {'block_number': 79, 'text': \"Embark'd\\n\"},\n",
              "   {'block_number': 80, 'text': '326\\n'},\n",
              "   {'block_number': 81, 'text': '517\\n596\\n393\\n625\\n'},\n",
              "   {'block_number': 82, 'text': '404\\n600\\n446\\n518\\n536\\n175\\n697\\n448\\n'},\n",
              "   {'block_number': 83, 'text': '455\\n612\\n282\\n396\\n'},\n",
              "   {'block_number': 84, 'text': '403\\n627\\n496\\n'},\n",
              "   {'block_number': 85, 'text': '467 32\\n202\\n'},\n",
              "   {'block_number': 86, 'text': '543\\n'},\n",
              "   {'block_number': 87, 'text': '539\\n'},\n",
              "   {'block_number': 88, 'text': '300\\n'},\n",
              "   {'block_number': 89, 'text': '608\\n441\\n556\\n475\\n198\\n423\\n'},\n",
              "   {'block_number': 90, 'text': '430\\n'},\n",
              "   {'block_number': 91, 'text': '240)\\n'},\n",
              "   {'block_number': 92, 'text': '535\\n'},\n",
              "   {'block_number': 93, 'text': '565\\n'},\n",
              "   {'block_number': 94, 'text': '760\\n'},\n",
              "   {'block_number': 95, 'text': '337\\n'},\n",
              "   {'block_number': 96, 'text': '558\\n'},\n",
              "   {'block_number': 97, 'text': '425\\n'},\n",
              "   {'block_number': 98, 'text': '562\\n'},\n",
              "   {'block_number': 99, 'text': '668\\n'},\n",
              "   {'block_number': 100, 'text': '340\\n'},\n",
              "   {'block_number': 101, 'text': '407\\n441\\n'},\n",
              "   {'block_number': 102, 'text': '490\\n'},\n",
              "   {'block_number': 103, 'text': '448\\n'},\n",
              "   {'block_number': 104, 'text': '489\\n'},\n",
              "   {'block_number': 105, 'text': '272\\n'},\n",
              "   {'block_number': 106, 'text': '407\\n'},\n",
              "   {'block_number': 107, 'text': '274\\n'},\n",
              "   {'block_number': 108, 'text': '480\\n'},\n",
              "   {'block_number': 109, 'text': 'Died.\\n'},\n",
              "   {'block_number': 110,\n",
              "    'text': '574\\n250\\n459\\n742\\n409\\n502\\n320\\n667\\n321\\n'},\n",
              "   {'block_number': 111, 'text': '0702188109 012\\n'},\n",
              "   {'block_number': 112, 'text': '31\\n'},\n",
              "   {'block_number': 113, 'text': '13 553\\n378\\n487\\n393\\n594\\n435\\n199\\n'},\n",
              "   {'block_number': 114, 'text': '67\\n49\\n108\\n41\\n'},\n",
              "   {'block_number': 115, 'text': '3\\n'},\n",
              "   {'block_number': 116, 'text': '=8°*5*58÷+355800\\n'},\n",
              "   {'block_number': 117, 'text': '123\\n'},\n",
              "   {'block_number': 118, 'text': '34\\n'},\n",
              "   {'block_number': 119, 'text': '186\\n'},\n",
              "   {'block_number': 120, 'text': '48\\n67\\n68\\n'},\n",
              "   {'block_number': 121, 'text': '40\\n47\\n139\\n'},\n",
              "   {'block_number': 122, 'text': '9\\n'},\n",
              "   {'block_number': 123, 'text': '61\\n'},\n",
              "   {'block_number': 124, 'text': '33\\n'},\n",
              "   {'block_number': 125, 'text': 'w80431288250648257424260\\n'},\n",
              "   {'block_number': 126, 'text': '93\\n'},\n",
              "   {'block_number': 127, 'text': '11\\n22\\n'},\n",
              "   {'block_number': 128, 'text': 'Landed.\\n'},\n",
              "   {'block_number': 129, 'text': '11\\n0\\n'},\n",
              "   {'block_number': 130, 'text': '326\\n'},\n",
              "   {'block_number': 131, 'text': '339\\n'},\n",
              "   {'block_number': 132, 'text': '27\\n474\\n'},\n",
              "   {'block_number': 133, 'text': '337\\n551\\n338\\n'},\n",
              "   {'block_number': 134, 'text': '477\\n413\\n'},\n",
              "   {'block_number': 135, 'text': '175\\n663\\n262\\n'},\n",
              "   {'block_number': 136, 'text': '407\\n545\\n214\\n356\\n'},\n",
              "   {'block_number': 137, 'text': '433\\n554\\n2\\n71 404\\n6\\n192\\n386\\n'},\n",
              "   {'block_number': 138, 'text': '356\\n488\\n195\\n531\\n'},\n",
              "   {'block_number': 139, 'text': '478\\n267\\n'},\n",
              "   {'block_number': 140, 'text': '608\\n'},\n",
              "   {'block_number': 141, 'text': '337\\n'},\n",
              "   {'block_number': 142, 'text': '240\\n'},\n",
              "   {'block_number': 143, 'text': '495\\n'},\n",
              "   {'block_number': 144, 'text': '521\\n'},\n",
              "   {'block_number': 145, 'text': '737\\n'},\n",
              "   {'block_number': 146, 'text': '283\\n'},\n",
              "   {'block_number': 147, 'text': '556\\n'},\n",
              "   {'block_number': 148, 'text': '417\\n'},\n",
              "   {'block_number': 149, 'text': '554\\n'},\n",
              "   {'block_number': 150, 'text': '666\\n'},\n",
              "   {'block_number': 151, 'text': '325\\n'},\n",
              "   {'block_number': 152, 'text': '407\\n'},\n",
              "   {'block_number': 153, 'text': '435\\n'},\n",
              "   {'block_number': 154, 'text': '476\\n'},\n",
              "   {'block_number': 155, 'text': '420\\n'},\n",
              "   {'block_number': 156, 'text': '487\\n'},\n",
              "   {'block_number': 157, 'text': '267\\n'},\n",
              "   {'block_number': 158, 'text': '390\\n'},\n",
              "   {'block_number': 159, 'text': '270\\n'},\n",
              "   {'block_number': 160, 'text': '456\\n'},\n",
              "   {'block_number': 161, 'text': '548\\n'},\n",
              "   {'block_number': 162, 'text': '250\\n'},\n",
              "   {'block_number': 163, 'text': '458\\n708\\n398\\n'},\n",
              "   {'block_number': 164, 'text': '480\\n316\\n'},\n",
              "   {'block_number': 165, 'text': '656\\n321\\n'},\n",
              "   {'block_number': 166, 'text': '29,211 2,499 | 26,712\\nH. CHAMBERLAIN.\\n'}],\n",
              "  10: [{'block_number': 1, 'text': 'BRAZIL.\\n'},\n",
              "   {'block_number': 2,\n",
              "    'text': 'Second Enclosure in No. 56.\\nA Comparative Statement of the number of Slaves imported into Rio de Janeiro,\\nduring the years 1823 and 1824.\\n'},\n",
              "   {'block_number': 3, 'text': '1824.\\n'},\n",
              "   {'block_number': 4,\n",
              "    'text': '1823.\\nDECREASE.\\nEmbark-Died. Landed. Embark-Died. Landed. Embark-Died. Landed. Embark-Died. Landed.\\ned.\\ned.\\ned.\\ned.\\n'},\n",
              "   {'block_number': 5,\n",
              "    'text': 'From Western Coast of Africa 12,052 530 11,349 21,742 1016 20,276\\n6,941 |1483 5458\\nFrom Eastern Coast of Africa 7,448 858 6590\\nFrom Bahia and Pernambuco 983\\n528\\n983\\n20,483 1388 18,922 29,211 2499 26,712\\n'},\n",
              "   {'block_number': 6, 'text': '1132\\n455\\n1587\\n'},\n",
              "   {'block_number': 7, 'text': '(Signed)\\n'},\n",
              "   {'block_number': 8, 'text': 'INCREASE.\\n'},\n",
              "   {'block_number': 9, 'text': '73\\n'},\n",
              "   {'block_number': 10,\n",
              "    'text': '507\\n528 455\\n962\\n9377\\nDeduct decrease\\n962\\n1587\\nTotal increased in 1824 over 1823...... 8728 1111 7790\\n'},\n",
              "   {'block_number': 11, 'text': '9690 486 9377\\n625\\n'},\n",
              "   {'block_number': 12, 'text': '9690\\n'},\n",
              "   {'block_number': 13, 'text': 'H. CHAMBERLAIN.\\n'},\n",
              "   {'block_number': 14,\n",
              "    'text': 'No. 57.\\nMr. Consul-General Chamberlain to Mr. Secretary Canning.-(Received\\nMarch 6th.)\\n'},\n",
              "   {'block_number': 15,\n",
              "    'text': 'SIR,\\nRio de Janeiro, 5th January, 1825.\\nI BEG leave to transmit the Translation of a Portaria, dated the 22d of De-\\ncember last, that has appeared amongst the official articles in the Government\\nnewspaper of this day, ordering that the same duties shall hereafter be levied\\nupon Slaves imported from the Eastern Coast of Africa (Mosambique) as have\\nbeen customary upon those from Angola, Benguella, and the other Ports on the\\nWestern Coast.\\n'},\n",
              "   {'block_number': 16,\n",
              "    'text': 'In order to understand the terms of the Portaria, it is necessary to explain,\\nthat previous to the declaration of Brazilian Independence, an Exportation Duty\\nR³ 9§8060, (at par 67 d. about £.2 10s. 4d.) per head, was levied in the Portu-\\nguese African Ports upon each Slave shipped from thence; and a further Impor-\\ntation Duty of R³ 12§940 (about £3: 12s. 9 d.) per head, levied upon their arrival\\nin this Country.\\n'},\n",
              "   {'block_number': 17,\n",
              "    'text': 'In the commencement of last year, the Brazilian Government, in consideration\\nthat the Export Duty levied in the Ports of Angola, Benguella, and the others on\\nthe Western Coast of Africa, which had remained faithful to The King of\\nPortugal, was received for the benefit of this Revenue, directed that an equal\\nsum should be levied here in addition to the Import Duty, in order to make up\\nthe whole amount levied for their use, equivalent to what they had been accus-\\ntomed to receive whilst those Ports were under the controul of the Government\\nin Brazil.\\n'},\n",
              "   {'block_number': 18,\n",
              "    'text': 'By some oversight, the operation of this measure was not extended to Negroes\\nimported from the Ports on the Eastern Coast of Africa.\\nBut now, finding that these expectations have not been realized, the importa-\\ntions from both Coasts are ordered to be put upon the same footing with respect\\nto Duties.\\n'}]}}"
            ]
          },
          "execution_count": 51,
          "metadata": {},
          "output_type": "execute_result"
        }
      ],
      "source": [
        "l = list(classb_docs.values())[0]\n",
        "doc_text_blocks['Slave Trade Volume 10']['class_b'][l[0]][0]"
      ]
    }
  ],
  "metadata": {
    "accelerator": "GPU",
    "colab": {
      "provenance": []
    },
    "gpuClass": "standard",
    "kernelspec": {
      "display_name": "Python 3",
      "name": "python3"
    },
    "language_info": {
      "name": "python"
    }
  },
  "nbformat": 4,
  "nbformat_minor": 0
}
